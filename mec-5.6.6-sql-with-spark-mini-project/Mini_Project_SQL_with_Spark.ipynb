{
 "cells": [
  {
   "cell_type": "markdown",
   "metadata": {
    "application/vnd.databricks.v1+cell": {
     "cellMetadata": {
      "byteLimit": 2048000,
      "rowLimit": 10000
     },
     "inputWidgets": {},
     "nuid": "306aef45-dd34-4b05-9fc3-6dc6a997f891",
     "showTitle": false,
     "title": ""
    }
   },
   "source": [
    "## SQL at Scale with Spark SQL\n",
    "\n",
    "Welcome to the SQL mini project. For this project, you will use the Databricks Platform and work through a series of exercises using Spark SQL. The dataset size may not be too big but the intent here is to familiarize yourself with the Spark SQL interface which scales easily to huge datasets, without you having to worry about changing your SQL queries. \n",
    "\n",
    "The data you need is present in the mini-project folder in the form of three CSV files. This data will be imported in Databricks to create the following tables under the __`country_club`__ database.\n",
    "\n",
    "<br>\n",
    "1. The __`bookings`__ table,\n",
    "2. The __`facilities`__ table, and\n",
    "3. The __`members`__ table.\n",
    "\n",
    "You will be uploading these datasets shortly into the Databricks platform to understand how to create a database within minutes! Once the database and the tables are populated, you will be focusing on the mini-project questions.\n",
    "\n",
    "In the mini project, you'll be asked a series of questions. You can solve them using the databricks platform, but for the final deliverable,\n",
    "please download this notebook as an IPython notebook (__`File -> Export -> IPython Notebook`__) and upload it to your GitHub."
   ]
  },
  {
   "cell_type": "markdown",
   "metadata": {
    "application/vnd.databricks.v1+cell": {
     "cellMetadata": {
      "byteLimit": 2048000,
      "rowLimit": 10000
     },
     "inputWidgets": {},
     "nuid": "0feeeabf-2a30-463e-b324-ce4001c0bc84",
     "showTitle": false,
     "title": ""
    }
   },
   "source": [
    "### Creating the Database\n",
    "\n",
    "We will first create our database in which we will be creating our three tables of interest"
   ]
  },
  {
   "cell_type": "code",
   "execution_count": 0,
   "metadata": {
    "application/vnd.databricks.v1+cell": {
     "cellMetadata": {
      "byteLimit": 2048000,
      "implicitDf": true,
      "rowLimit": 10000
     },
     "inputWidgets": {},
     "nuid": "a14fdb3e-25c2-43f2-a053-bd899e832b2a",
     "showTitle": false,
     "title": ""
    }
   },
   "outputs": [
    {
     "output_type": "display_data",
     "data": {
      "text/html": [
       "<style scoped>\n",
       "  .table-result-container {\n",
       "    max-height: 300px;\n",
       "    overflow: auto;\n",
       "  }\n",
       "  table, th, td {\n",
       "    border: 1px solid black;\n",
       "    border-collapse: collapse;\n",
       "  }\n",
       "  th, td {\n",
       "    padding: 5px;\n",
       "  }\n",
       "  th {\n",
       "    text-align: left;\n",
       "  }\n",
       "</style><div class='table-result-container'><table class='table-result'><thead style='background-color: white'><tr><th>databaseName</th></tr></thead><tbody><tr><td>country_club</td></tr><tr><td>default</td></tr></tbody></table></div>"
      ]
     },
     "metadata": {
      "application/vnd.databricks.v1+output": {
       "addedWidgets": {},
       "aggData": [],
       "aggError": "",
       "aggOverflow": false,
       "aggSchema": [],
       "aggSeriesLimitReached": false,
       "aggType": "",
       "arguments": {},
       "columnCustomDisplayInfos": {},
       "data": [
        [
         "country_club"
        ],
        [
         "default"
        ]
       ],
       "datasetInfos": [],
       "dbfsResultPath": null,
       "isJsonSchema": true,
       "metadata": {},
       "overflow": false,
       "plotOptions": {
        "customPlotOptions": {},
        "displayType": "table",
        "pivotAggregation": null,
        "pivotColumns": null,
        "xColumns": null,
        "yColumns": null
       },
       "removedWidgets": [],
       "schema": [
        {
         "metadata": "{}",
         "name": "databaseName",
         "type": "\"string\""
        }
       ],
       "type": "table"
      }
     },
     "output_type": "display_data"
    }
   ],
   "source": [
    "%sql \n",
    "drop database if exists country_club cascade;\n",
    "create database country_club;\n",
    "show databases;"
   ]
  },
  {
   "cell_type": "markdown",
   "metadata": {
    "application/vnd.databricks.v1+cell": {
     "cellMetadata": {
      "byteLimit": 2048000,
      "rowLimit": 10000
     },
     "inputWidgets": {},
     "nuid": "704a3ad4-3692-45ab-b8ad-9c55283b4ed6",
     "showTitle": false,
     "title": ""
    }
   },
   "source": [
    "### Creating the Tables\n",
    "\n",
    "In this section, we will be creating the three tables of interest and populate them with the data from the CSV files already available to you. \n",
    "To get started, first upload the three CSV files to the DBFS as depicted in the following figure\n",
    "\n",
    "![](https://i.imgur.com/QcCruBr.png)\n",
    "\n",
    "\n",
    "Once you have done this, please remember to execute the following code to build the dataframes which will be saved as tables in our database"
   ]
  },
  {
   "cell_type": "code",
   "execution_count": 0,
   "metadata": {
    "application/vnd.databricks.v1+cell": {
     "cellMetadata": {
      "byteLimit": 2048000,
      "rowLimit": 10000
     },
     "inputWidgets": {},
     "nuid": "7ff236d6-e6b6-46af-aecb-b1c3b8414dfd",
     "showTitle": false,
     "title": ""
    }
   },
   "outputs": [],
   "source": [
    "# File location and type\n",
    "file_location_bookings = \"/FileStore/tables/Bookings.csv\"\n",
    "file_location_facilities = \"/FileStore/tables/Facilities.csv\"\n",
    "file_location_members = \"/FileStore/tables/Members.csv\"\n",
    "\n",
    "file_type = \"csv\"\n",
    "\n",
    "# CSV options\n",
    "infer_schema = \"true\"\n",
    "first_row_is_header = \"true\"\n",
    "delimiter = \",\"\n",
    "\n",
    "# The applied options are for CSV files. For other file types, these will be ignored.\n",
    "bookings_df = (spark.read.format(file_type) \n",
    "                    .option(\"inferSchema\", infer_schema) \n",
    "                    .option(\"header\", first_row_is_header) \n",
    "                    .option(\"sep\", delimiter) \n",
    "                    .load(file_location_bookings))\n",
    "\n",
    "facilities_df = (spark.read.format(file_type) \n",
    "                      .option(\"inferSchema\", infer_schema) \n",
    "                      .option(\"header\", first_row_is_header) \n",
    "                      .option(\"sep\", delimiter) \n",
    "                      .load(file_location_facilities))\n",
    "\n",
    "members_df = (spark.read.format(file_type) \n",
    "                      .option(\"inferSchema\", infer_schema) \n",
    "                      .option(\"header\", first_row_is_header) \n",
    "                      .option(\"sep\", delimiter) \n",
    "                      .load(file_location_members))"
   ]
  },
  {
   "cell_type": "markdown",
   "metadata": {
    "application/vnd.databricks.v1+cell": {
     "cellMetadata": {
      "byteLimit": 2048000,
      "rowLimit": 10000
     },
     "inputWidgets": {},
     "nuid": "4e10f21b-c80b-41f1-be7f-1541fe365207",
     "showTitle": false,
     "title": ""
    }
   },
   "source": [
    "### Viewing the dataframe schemas\n",
    "\n",
    "We can take a look at the schemas of our potential tables to be written to our database soon"
   ]
  },
  {
   "cell_type": "code",
   "execution_count": 0,
   "metadata": {
    "application/vnd.databricks.v1+cell": {
     "cellMetadata": {
      "byteLimit": 2048000,
      "rowLimit": 10000
     },
     "inputWidgets": {},
     "nuid": "59b1e001-7934-4cb7-bc16-a554d40ccef1",
     "showTitle": false,
     "title": ""
    }
   },
   "outputs": [
    {
     "output_type": "stream",
     "name": "stdout",
     "output_type": "stream",
     "text": [
      "Bookings Schema\nroot\n |-- bookid: integer (nullable = true)\n |-- facid: integer (nullable = true)\n |-- memid: integer (nullable = true)\n |-- starttime: timestamp (nullable = true)\n |-- slots: integer (nullable = true)\n\nFacilities Schema\nroot\n |-- facid: integer (nullable = true)\n |-- name: string (nullable = true)\n |-- membercost: double (nullable = true)\n |-- guestcost: double (nullable = true)\n |-- initialoutlay: integer (nullable = true)\n |-- monthlymaintenance: integer (nullable = true)\n\nMembers Schema\nroot\n |-- memid: integer (nullable = true)\n |-- surname: string (nullable = true)\n |-- firstname: string (nullable = true)\n |-- address: string (nullable = true)\n |-- zipcode: integer (nullable = true)\n |-- telephone: string (nullable = true)\n |-- recommendedby: integer (nullable = true)\n |-- joindate: timestamp (nullable = true)\n\n"
     ]
    }
   ],
   "source": [
    "print('Bookings Schema')\n",
    "bookings_df.printSchema()\n",
    "print('Facilities Schema')\n",
    "facilities_df.printSchema()\n",
    "print('Members Schema')\n",
    "members_df.printSchema()"
   ]
  },
  {
   "cell_type": "markdown",
   "metadata": {
    "application/vnd.databricks.v1+cell": {
     "cellMetadata": {
      "byteLimit": 2048000,
      "rowLimit": 10000
     },
     "inputWidgets": {},
     "nuid": "8c6304fe-f896-43e7-a8ea-426405b1f4e3",
     "showTitle": false,
     "title": ""
    }
   },
   "source": [
    "### Create permanent tables\n",
    "We will be creating three permanent tables here in our __`country_club`__ database as we discussed previously with the following code"
   ]
  },
  {
   "cell_type": "code",
   "execution_count": 0,
   "metadata": {
    "application/vnd.databricks.v1+cell": {
     "cellMetadata": {
      "byteLimit": 2048000,
      "rowLimit": 10000
     },
     "inputWidgets": {},
     "nuid": "7550d487-f841-42b3-9f78-68e7f20f6824",
     "showTitle": false,
     "title": ""
    }
   },
   "outputs": [],
   "source": [
    "permanent_table_name_bookings = \"country_club.book\"\n",
    "bookings_df.write.format(\"parquet\").saveAsTable(permanent_table_name_bookings)\n",
    "\n",
    "permanent_table_name_facilities = \"country_club.facility\"\n",
    "facilities_df.write.format(\"parquet\").saveAsTable(permanent_table_name_facilities)\n",
    "\n",
    "permanent_table_name_members = \"country_club.member\"\n",
    "members_df.write.format(\"parquet\").saveAsTable(permanent_table_name_members)"
   ]
  },
  {
   "cell_type": "markdown",
   "metadata": {
    "application/vnd.databricks.v1+cell": {
     "cellMetadata": {
      "byteLimit": 2048000,
      "rowLimit": 10000
     },
     "inputWidgets": {},
     "nuid": "4fa9ba0d-d873-4c8f-a939-20a69bc17725",
     "showTitle": false,
     "title": ""
    }
   },
   "source": [
    "### Refresh tables and check them"
   ]
  },
  {
   "cell_type": "code",
   "execution_count": 0,
   "metadata": {
    "application/vnd.databricks.v1+cell": {
     "cellMetadata": {
      "byteLimit": 2048000,
      "implicitDf": true,
      "rowLimit": 10000
     },
     "inputWidgets": {},
     "nuid": "26dad4e3-2d0e-45c9-827d-3c8a7caf7757",
     "showTitle": false,
     "title": ""
    }
   },
   "outputs": [
    {
     "output_type": "display_data",
     "data": {
      "text/html": [
       "<style scoped>\n",
       "  .table-result-container {\n",
       "    max-height: 300px;\n",
       "    overflow: auto;\n",
       "  }\n",
       "  table, th, td {\n",
       "    border: 1px solid black;\n",
       "    border-collapse: collapse;\n",
       "  }\n",
       "  th, td {\n",
       "    padding: 5px;\n",
       "  }\n",
       "  th {\n",
       "    text-align: left;\n",
       "  }\n",
       "</style><div class='table-result-container'><table class='table-result'><thead style='background-color: white'><tr><th>database</th><th>tableName</th><th>isTemporary</th></tr></thead><tbody><tr><td>country_club</td><td>book</td><td>false</td></tr><tr><td>country_club</td><td>facility</td><td>false</td></tr><tr><td>country_club</td><td>member</td><td>false</td></tr></tbody></table></div>"
      ]
     },
     "metadata": {
      "application/vnd.databricks.v1+output": {
       "addedWidgets": {},
       "aggData": [],
       "aggError": "",
       "aggOverflow": false,
       "aggSchema": [],
       "aggSeriesLimitReached": false,
       "aggType": "",
       "arguments": {},
       "columnCustomDisplayInfos": {},
       "data": [
        [
         "country_club",
         "book",
         false
        ],
        [
         "country_club",
         "facility",
         false
        ],
        [
         "country_club",
         "member",
         false
        ]
       ],
       "datasetInfos": [],
       "dbfsResultPath": null,
       "isJsonSchema": true,
       "metadata": {},
       "overflow": false,
       "plotOptions": {
        "customPlotOptions": {},
        "displayType": "table",
        "pivotAggregation": null,
        "pivotColumns": null,
        "xColumns": null,
        "yColumns": null
       },
       "removedWidgets": [],
       "schema": [
        {
         "metadata": "{}",
         "name": "database",
         "type": "\"string\""
        },
        {
         "metadata": "{}",
         "name": "tableName",
         "type": "\"string\""
        },
        {
         "metadata": "{}",
         "name": "isTemporary",
         "type": "\"boolean\""
        }
       ],
       "type": "table"
      }
     },
     "output_type": "display_data"
    }
   ],
   "source": [
    "%sql\n",
    "use country_club;\n",
    "REFRESH table book;\n",
    "REFRESH table facility;\n",
    "REFRESH table member;\n",
    "show tables;"
   ]
  },
  {
   "cell_type": "markdown",
   "metadata": {
    "application/vnd.databricks.v1+cell": {
     "cellMetadata": {
      "byteLimit": 2048000,
      "rowLimit": 10000
     },
     "inputWidgets": {},
     "nuid": "bacf6791-3cc9-4574-9522-196eb5ca2bd6",
     "showTitle": false,
     "title": ""
    }
   },
   "source": [
    "### Test a sample SQL query\n",
    "\n",
    "__Note:__ You can use __`%sql`__ at the beginning of a cell and write SQL queries directly as seen in the following cell. Neat isn't it!"
   ]
  },
  {
   "cell_type": "code",
   "execution_count": 0,
   "metadata": {
    "application/vnd.databricks.v1+cell": {
     "cellMetadata": {
      "byteLimit": 2048000,
      "implicitDf": true,
      "rowLimit": 10000
     },
     "inputWidgets": {},
     "nuid": "c7e6d35d-ee0b-4c14-8426-3f8a38f52a7d",
     "showTitle": false,
     "title": ""
    }
   },
   "outputs": [
    {
     "output_type": "display_data",
     "data": {
      "text/html": [
       "<style scoped>\n",
       "  .table-result-container {\n",
       "    max-height: 300px;\n",
       "    overflow: auto;\n",
       "  }\n",
       "  table, th, td {\n",
       "    border: 1px solid black;\n",
       "    border-collapse: collapse;\n",
       "  }\n",
       "  th, td {\n",
       "    padding: 5px;\n",
       "  }\n",
       "  th {\n",
       "    text-align: left;\n",
       "  }\n",
       "</style><div class='table-result-container'><table class='table-result'><thead style='background-color: white'><tr><th>bookid</th><th>facid</th><th>memid</th><th>starttime</th><th>slots</th></tr></thead><tbody><tr><td>0</td><td>3</td><td>1</td><td>2012-07-03T11:00:00.000+0000</td><td>2</td></tr><tr><td>1</td><td>4</td><td>1</td><td>2012-07-03T08:00:00.000+0000</td><td>2</td></tr><tr><td>2</td><td>6</td><td>0</td><td>2012-07-03T18:00:00.000+0000</td><td>2</td></tr></tbody></table></div>"
      ]
     },
     "metadata": {
      "application/vnd.databricks.v1+output": {
       "addedWidgets": {},
       "aggData": [],
       "aggError": "",
       "aggOverflow": false,
       "aggSchema": [],
       "aggSeriesLimitReached": false,
       "aggType": "",
       "arguments": {},
       "columnCustomDisplayInfos": {},
       "data": [
        [
         0,
         3,
         1,
         "2012-07-03T11:00:00.000+0000",
         2
        ],
        [
         1,
         4,
         1,
         "2012-07-03T08:00:00.000+0000",
         2
        ],
        [
         2,
         6,
         0,
         "2012-07-03T18:00:00.000+0000",
         2
        ]
       ],
       "datasetInfos": [],
       "dbfsResultPath": null,
       "isJsonSchema": true,
       "metadata": {},
       "overflow": false,
       "plotOptions": {
        "customPlotOptions": {},
        "displayType": "table",
        "pivotAggregation": null,
        "pivotColumns": null,
        "xColumns": null,
        "yColumns": null
       },
       "removedWidgets": [],
       "schema": [
        {
         "metadata": "{}",
         "name": "bookid",
         "type": "\"integer\""
        },
        {
         "metadata": "{}",
         "name": "facid",
         "type": "\"integer\""
        },
        {
         "metadata": "{}",
         "name": "memid",
         "type": "\"integer\""
        },
        {
         "metadata": "{}",
         "name": "starttime",
         "type": "\"timestamp\""
        },
        {
         "metadata": "{}",
         "name": "slots",
         "type": "\"integer\""
        }
       ],
       "type": "table"
      }
     },
     "output_type": "display_data"
    }
   ],
   "source": [
    "%sql\n",
    "select * from book limit 3;"
   ]
  },
  {
   "cell_type": "code",
   "execution_count": 0,
   "metadata": {
    "application/vnd.databricks.v1+cell": {
     "cellMetadata": {
      "byteLimit": 2048000,
      "implicitDf": true,
      "rowLimit": 10000
     },
     "inputWidgets": {},
     "nuid": "0890e1ef-af38-419a-bf16-2d3fab13862b",
     "showTitle": false,
     "title": ""
    }
   },
   "outputs": [
    {
     "output_type": "display_data",
     "data": {
      "text/html": [
       "<style scoped>\n",
       "  .table-result-container {\n",
       "    max-height: 300px;\n",
       "    overflow: auto;\n",
       "  }\n",
       "  table, th, td {\n",
       "    border: 1px solid black;\n",
       "    border-collapse: collapse;\n",
       "  }\n",
       "  th, td {\n",
       "    padding: 5px;\n",
       "  }\n",
       "  th {\n",
       "    text-align: left;\n",
       "  }\n",
       "</style><div class='table-result-container'><table class='table-result'><thead style='background-color: white'><tr><th>facid</th><th>name</th><th>membercost</th><th>guestcost</th><th>initialoutlay</th><th>monthlymaintenance</th></tr></thead><tbody><tr><td>0</td><td>Tennis Court 1</td><td>5.0</td><td>25.0</td><td>10000</td><td>200</td></tr><tr><td>1</td><td>Tennis Court 2</td><td>5.0</td><td>25.0</td><td>8000</td><td>200</td></tr><tr><td>2</td><td>Badminton Court</td><td>0.0</td><td>15.5</td><td>4000</td><td>50</td></tr></tbody></table></div>"
      ]
     },
     "metadata": {
      "application/vnd.databricks.v1+output": {
       "addedWidgets": {},
       "aggData": [],
       "aggError": "",
       "aggOverflow": false,
       "aggSchema": [],
       "aggSeriesLimitReached": false,
       "aggType": "",
       "arguments": {},
       "columnCustomDisplayInfos": {},
       "data": [
        [
         0,
         "Tennis Court 1",
         5.0,
         25.0,
         10000,
         200
        ],
        [
         1,
         "Tennis Court 2",
         5.0,
         25.0,
         8000,
         200
        ],
        [
         2,
         "Badminton Court",
         0.0,
         15.5,
         4000,
         50
        ]
       ],
       "datasetInfos": [],
       "dbfsResultPath": null,
       "isJsonSchema": true,
       "metadata": {},
       "overflow": false,
       "plotOptions": {
        "customPlotOptions": {},
        "displayType": "table",
        "pivotAggregation": null,
        "pivotColumns": null,
        "xColumns": null,
        "yColumns": null
       },
       "removedWidgets": [],
       "schema": [
        {
         "metadata": "{}",
         "name": "facid",
         "type": "\"integer\""
        },
        {
         "metadata": "{}",
         "name": "name",
         "type": "\"string\""
        },
        {
         "metadata": "{}",
         "name": "membercost",
         "type": "\"double\""
        },
        {
         "metadata": "{}",
         "name": "guestcost",
         "type": "\"double\""
        },
        {
         "metadata": "{}",
         "name": "initialoutlay",
         "type": "\"integer\""
        },
        {
         "metadata": "{}",
         "name": "monthlymaintenance",
         "type": "\"integer\""
        }
       ],
       "type": "table"
      }
     },
     "output_type": "display_data"
    }
   ],
   "source": [
    "%sql\n",
    "select * from facility limit 3;\n"
   ]
  },
  {
   "cell_type": "code",
   "execution_count": 0,
   "metadata": {
    "application/vnd.databricks.v1+cell": {
     "cellMetadata": {
      "byteLimit": 2048000,
      "implicitDf": true,
      "rowLimit": 10000
     },
     "inputWidgets": {},
     "nuid": "c5283c6e-a372-4169-a51c-229f20bca1ea",
     "showTitle": false,
     "title": ""
    }
   },
   "outputs": [
    {
     "output_type": "display_data",
     "data": {
      "text/html": [
       "<style scoped>\n",
       "  .table-result-container {\n",
       "    max-height: 300px;\n",
       "    overflow: auto;\n",
       "  }\n",
       "  table, th, td {\n",
       "    border: 1px solid black;\n",
       "    border-collapse: collapse;\n",
       "  }\n",
       "  th, td {\n",
       "    padding: 5px;\n",
       "  }\n",
       "  th {\n",
       "    text-align: left;\n",
       "  }\n",
       "</style><div class='table-result-container'><table class='table-result'><thead style='background-color: white'><tr><th>memid</th><th>surname</th><th>firstname</th><th>address</th><th>zipcode</th><th>telephone</th><th>recommendedby</th><th>joindate</th></tr></thead><tbody><tr><td>0</td><td>GUEST</td><td>GUEST</td><td>GUEST</td><td>0</td><td>(000) 000-0000</td><td>null</td><td>2012-07-01T00:00:00.000+0000</td></tr><tr><td>1</td><td>Smith</td><td>Darren</td><td>8 Bloomsbury Close, Boston</td><td>4321</td><td>555-555-5555</td><td>null</td><td>2012-07-02T12:02:05.000+0000</td></tr><tr><td>2</td><td>Smith</td><td>Tracy</td><td>8 Bloomsbury Close, New York</td><td>4321</td><td>555-555-5555</td><td>null</td><td>2012-07-02T12:08:23.000+0000</td></tr></tbody></table></div>"
      ]
     },
     "metadata": {
      "application/vnd.databricks.v1+output": {
       "addedWidgets": {},
       "aggData": [],
       "aggError": "",
       "aggOverflow": false,
       "aggSchema": [],
       "aggSeriesLimitReached": false,
       "aggType": "",
       "arguments": {},
       "columnCustomDisplayInfos": {},
       "data": [
        [
         0,
         "GUEST",
         "GUEST",
         "GUEST",
         0,
         "(000) 000-0000",
         null,
         "2012-07-01T00:00:00.000+0000"
        ],
        [
         1,
         "Smith",
         "Darren",
         "8 Bloomsbury Close, Boston",
         4321,
         "555-555-5555",
         null,
         "2012-07-02T12:02:05.000+0000"
        ],
        [
         2,
         "Smith",
         "Tracy",
         "8 Bloomsbury Close, New York",
         4321,
         "555-555-5555",
         null,
         "2012-07-02T12:08:23.000+0000"
        ]
       ],
       "datasetInfos": [],
       "dbfsResultPath": null,
       "isJsonSchema": true,
       "metadata": {},
       "overflow": false,
       "plotOptions": {
        "customPlotOptions": {},
        "displayType": "table",
        "pivotAggregation": null,
        "pivotColumns": null,
        "xColumns": null,
        "yColumns": null
       },
       "removedWidgets": [],
       "schema": [
        {
         "metadata": "{}",
         "name": "memid",
         "type": "\"integer\""
        },
        {
         "metadata": "{}",
         "name": "surname",
         "type": "\"string\""
        },
        {
         "metadata": "{}",
         "name": "firstname",
         "type": "\"string\""
        },
        {
         "metadata": "{}",
         "name": "address",
         "type": "\"string\""
        },
        {
         "metadata": "{}",
         "name": "zipcode",
         "type": "\"integer\""
        },
        {
         "metadata": "{}",
         "name": "telephone",
         "type": "\"string\""
        },
        {
         "metadata": "{}",
         "name": "recommendedby",
         "type": "\"integer\""
        },
        {
         "metadata": "{}",
         "name": "joindate",
         "type": "\"timestamp\""
        }
       ],
       "type": "table"
      }
     },
     "output_type": "display_data"
    }
   ],
   "source": [
    "%sql\n",
    "select * from member limit 3;"
   ]
  },
  {
   "cell_type": "markdown",
   "metadata": {
    "application/vnd.databricks.v1+cell": {
     "cellMetadata": {
      "byteLimit": 2048000,
      "rowLimit": 10000
     },
     "inputWidgets": {},
     "nuid": "6f2ea4fe-d9f7-424b-8170-8520b087b392",
     "showTitle": false,
     "title": ""
    }
   },
   "source": [
    "#### Q1: Some of the facilities charge a fee to members, but some do not. Please list the names of the facilities that do."
   ]
  },
  {
   "cell_type": "code",
   "execution_count": 0,
   "metadata": {
    "application/vnd.databricks.v1+cell": {
     "cellMetadata": {
      "byteLimit": 2048000,
      "implicitDf": true,
      "rowLimit": 10000
     },
     "inputWidgets": {},
     "nuid": "f8d5c7f6-2ec7-4f54-bfdb-349f9beb0c32",
     "showTitle": false,
     "title": ""
    }
   },
   "outputs": [
    {
     "output_type": "display_data",
     "data": {
      "text/html": [
       "<style scoped>\n",
       "  .table-result-container {\n",
       "    max-height: 300px;\n",
       "    overflow: auto;\n",
       "  }\n",
       "  table, th, td {\n",
       "    border: 1px solid black;\n",
       "    border-collapse: collapse;\n",
       "  }\n",
       "  th, td {\n",
       "    padding: 5px;\n",
       "  }\n",
       "  th {\n",
       "    text-align: left;\n",
       "  }\n",
       "</style><div class='table-result-container'><table class='table-result'><thead style='background-color: white'><tr><th>name</th></tr></thead><tbody><tr><td>Tennis Court 1</td></tr><tr><td>Tennis Court 2</td></tr><tr><td>Massage Room 1</td></tr><tr><td>Massage Room 2</td></tr><tr><td>Squash Court</td></tr></tbody></table></div>"
      ]
     },
     "metadata": {
      "application/vnd.databricks.v1+output": {
       "addedWidgets": {},
       "aggData": [],
       "aggError": "",
       "aggOverflow": false,
       "aggSchema": [],
       "aggSeriesLimitReached": false,
       "aggType": "",
       "arguments": {},
       "columnCustomDisplayInfos": {},
       "data": [
        [
         "Tennis Court 1"
        ],
        [
         "Tennis Court 2"
        ],
        [
         "Massage Room 1"
        ],
        [
         "Massage Room 2"
        ],
        [
         "Squash Court"
        ]
       ],
       "datasetInfos": [],
       "dbfsResultPath": null,
       "isJsonSchema": true,
       "metadata": {},
       "overflow": false,
       "plotOptions": {
        "customPlotOptions": {},
        "displayType": "table",
        "pivotAggregation": null,
        "pivotColumns": null,
        "xColumns": null,
        "yColumns": null
       },
       "removedWidgets": [],
       "schema": [
        {
         "metadata": "{}",
         "name": "name",
         "type": "\"string\""
        }
       ],
       "type": "table"
      }
     },
     "output_type": "display_data"
    }
   ],
   "source": [
    "%sql\n",
    "SELECT name \n",
    "FROM facility\n",
    "WHERE membercost != 0;"
   ]
  },
  {
   "cell_type": "markdown",
   "metadata": {
    "application/vnd.databricks.v1+cell": {
     "cellMetadata": {
      "byteLimit": 2048000,
      "rowLimit": 10000
     },
     "inputWidgets": {},
     "nuid": "e8585480-da65-4bbd-bf56-c41a26403a78",
     "showTitle": false,
     "title": ""
    }
   },
   "source": [
    "####  Q2: How many facilities do not charge a fee to members?"
   ]
  },
  {
   "cell_type": "code",
   "execution_count": 0,
   "metadata": {
    "application/vnd.databricks.v1+cell": {
     "cellMetadata": {
      "byteLimit": 2048000,
      "implicitDf": true,
      "rowLimit": 10000
     },
     "inputWidgets": {},
     "nuid": "8bc29d53-13ac-4cc0-a94b-4c328d5d24df",
     "showTitle": false,
     "title": ""
    }
   },
   "outputs": [
    {
     "output_type": "display_data",
     "data": {
      "text/html": [
       "<style scoped>\n",
       "  .table-result-container {\n",
       "    max-height: 300px;\n",
       "    overflow: auto;\n",
       "  }\n",
       "  table, th, td {\n",
       "    border: 1px solid black;\n",
       "    border-collapse: collapse;\n",
       "  }\n",
       "  th, td {\n",
       "    padding: 5px;\n",
       "  }\n",
       "  th {\n",
       "    text-align: left;\n",
       "  }\n",
       "</style><div class='table-result-container'><table class='table-result'><thead style='background-color: white'><tr><th>count(1)</th></tr></thead><tbody><tr><td>4</td></tr></tbody></table></div>"
      ]
     },
     "metadata": {
      "application/vnd.databricks.v1+output": {
       "addedWidgets": {},
       "aggData": [],
       "aggError": "",
       "aggOverflow": false,
       "aggSchema": [],
       "aggSeriesLimitReached": false,
       "aggType": "",
       "arguments": {},
       "columnCustomDisplayInfos": {},
       "data": [
        [
         4
        ]
       ],
       "datasetInfos": [],
       "dbfsResultPath": null,
       "isJsonSchema": true,
       "metadata": {},
       "overflow": false,
       "plotOptions": {
        "customPlotOptions": {},
        "displayType": "table",
        "pivotAggregation": null,
        "pivotColumns": null,
        "xColumns": null,
        "yColumns": null
       },
       "removedWidgets": [],
       "schema": [
        {
         "metadata": "{\"__autoGeneratedAlias\":\"true\"}",
         "name": "count(1)",
         "type": "\"long\""
        }
       ],
       "type": "table"
      }
     },
     "output_type": "display_data"
    }
   ],
   "source": [
    "%sql\n",
    "SELECT COUNT(*)\n",
    "FROM facility\n",
    "WHERE membercost = 0;"
   ]
  },
  {
   "cell_type": "markdown",
   "metadata": {
    "application/vnd.databricks.v1+cell": {
     "cellMetadata": {
      "byteLimit": 2048000,
      "rowLimit": 10000
     },
     "inputWidgets": {},
     "nuid": "e7e6b554-28bb-4c6e-a2ba-d3913cc82d1d",
     "showTitle": false,
     "title": ""
    }
   },
   "source": [
    "#### Q3: How can you produce a list of facilities that charge a fee to members, where the fee is less than 20% of the facility's monthly maintenance cost? \n",
    "#### Return the facid, facility name, member cost, and monthly maintenance of the facilities in question."
   ]
  },
  {
   "cell_type": "code",
   "execution_count": 0,
   "metadata": {
    "application/vnd.databricks.v1+cell": {
     "cellMetadata": {
      "byteLimit": 2048000,
      "implicitDf": true,
      "rowLimit": 10000
     },
     "inputWidgets": {},
     "nuid": "07653d93-6c9b-46fc-936a-a3e196d32c0e",
     "showTitle": false,
     "title": ""
    }
   },
   "outputs": [
    {
     "output_type": "display_data",
     "data": {
      "text/html": [
       "<style scoped>\n",
       "  .table-result-container {\n",
       "    max-height: 300px;\n",
       "    overflow: auto;\n",
       "  }\n",
       "  table, th, td {\n",
       "    border: 1px solid black;\n",
       "    border-collapse: collapse;\n",
       "  }\n",
       "  th, td {\n",
       "    padding: 5px;\n",
       "  }\n",
       "  th {\n",
       "    text-align: left;\n",
       "  }\n",
       "</style><div class='table-result-container'><table class='table-result'><thead style='background-color: white'><tr><th>facid</th><th>name</th><th>membercost</th><th>monthlymaintenance</th></tr></thead><tbody><tr><td>0</td><td>Tennis Court 1</td><td>5.0</td><td>200</td></tr><tr><td>1</td><td>Tennis Court 2</td><td>5.0</td><td>200</td></tr><tr><td>4</td><td>Massage Room 1</td><td>9.9</td><td>3000</td></tr><tr><td>5</td><td>Massage Room 2</td><td>9.9</td><td>3000</td></tr><tr><td>6</td><td>Squash Court</td><td>3.5</td><td>80</td></tr></tbody></table></div>"
      ]
     },
     "metadata": {
      "application/vnd.databricks.v1+output": {
       "addedWidgets": {},
       "aggData": [],
       "aggError": "",
       "aggOverflow": false,
       "aggSchema": [],
       "aggSeriesLimitReached": false,
       "aggType": "",
       "arguments": {},
       "columnCustomDisplayInfos": {},
       "data": [
        [
         0,
         "Tennis Court 1",
         5.0,
         200
        ],
        [
         1,
         "Tennis Court 2",
         5.0,
         200
        ],
        [
         4,
         "Massage Room 1",
         9.9,
         3000
        ],
        [
         5,
         "Massage Room 2",
         9.9,
         3000
        ],
        [
         6,
         "Squash Court",
         3.5,
         80
        ]
       ],
       "datasetInfos": [],
       "dbfsResultPath": null,
       "isJsonSchema": true,
       "metadata": {},
       "overflow": false,
       "plotOptions": {
        "customPlotOptions": {},
        "displayType": "table",
        "pivotAggregation": null,
        "pivotColumns": null,
        "xColumns": null,
        "yColumns": null
       },
       "removedWidgets": [],
       "schema": [
        {
         "metadata": "{}",
         "name": "facid",
         "type": "\"integer\""
        },
        {
         "metadata": "{}",
         "name": "name",
         "type": "\"string\""
        },
        {
         "metadata": "{}",
         "name": "membercost",
         "type": "\"double\""
        },
        {
         "metadata": "{}",
         "name": "monthlymaintenance",
         "type": "\"integer\""
        }
       ],
       "type": "table"
      }
     },
     "output_type": "display_data"
    }
   ],
   "source": [
    "%sql\n",
    "SELECT facid, name, membercost, monthlymaintenance\n",
    "FROM facility\n",
    "WHERE membercost < (0.2*monthlymaintenance) AND membercost != 0;"
   ]
  },
  {
   "cell_type": "markdown",
   "metadata": {
    "application/vnd.databricks.v1+cell": {
     "cellMetadata": {
      "byteLimit": 2048000,
      "rowLimit": 10000
     },
     "inputWidgets": {},
     "nuid": "98902feb-596a-4019-9f6b-e13b3fae9ccc",
     "showTitle": false,
     "title": ""
    }
   },
   "source": [
    "#### Q4: How can you retrieve the details of facilities with ID 1 and 5? Write the query without using the OR operator."
   ]
  },
  {
   "cell_type": "code",
   "execution_count": 0,
   "metadata": {
    "application/vnd.databricks.v1+cell": {
     "cellMetadata": {
      "byteLimit": 2048000,
      "implicitDf": true,
      "rowLimit": 10000
     },
     "inputWidgets": {},
     "nuid": "64541581-0248-4fed-b480-ebe58182658e",
     "showTitle": false,
     "title": ""
    }
   },
   "outputs": [
    {
     "output_type": "display_data",
     "data": {
      "text/html": [
       "<style scoped>\n",
       "  .table-result-container {\n",
       "    max-height: 300px;\n",
       "    overflow: auto;\n",
       "  }\n",
       "  table, th, td {\n",
       "    border: 1px solid black;\n",
       "    border-collapse: collapse;\n",
       "  }\n",
       "  th, td {\n",
       "    padding: 5px;\n",
       "  }\n",
       "  th {\n",
       "    text-align: left;\n",
       "  }\n",
       "</style><div class='table-result-container'><table class='table-result'><thead style='background-color: white'><tr><th>facid</th><th>name</th><th>membercost</th><th>guestcost</th><th>initialoutlay</th><th>monthlymaintenance</th></tr></thead><tbody><tr><td>1</td><td>Tennis Court 2</td><td>5.0</td><td>25.0</td><td>8000</td><td>200</td></tr><tr><td>5</td><td>Massage Room 2</td><td>9.9</td><td>80.0</td><td>4000</td><td>3000</td></tr></tbody></table></div>"
      ]
     },
     "metadata": {
      "application/vnd.databricks.v1+output": {
       "addedWidgets": {},
       "aggData": [],
       "aggError": "",
       "aggOverflow": false,
       "aggSchema": [],
       "aggSeriesLimitReached": false,
       "aggType": "",
       "arguments": {},
       "columnCustomDisplayInfos": {},
       "data": [
        [
         1,
         "Tennis Court 2",
         5.0,
         25.0,
         8000,
         200
        ],
        [
         5,
         "Massage Room 2",
         9.9,
         80.0,
         4000,
         3000
        ]
       ],
       "datasetInfos": [],
       "dbfsResultPath": null,
       "isJsonSchema": true,
       "metadata": {},
       "overflow": false,
       "plotOptions": {
        "customPlotOptions": {},
        "displayType": "table",
        "pivotAggregation": null,
        "pivotColumns": null,
        "xColumns": null,
        "yColumns": null
       },
       "removedWidgets": [],
       "schema": [
        {
         "metadata": "{}",
         "name": "facid",
         "type": "\"integer\""
        },
        {
         "metadata": "{}",
         "name": "name",
         "type": "\"string\""
        },
        {
         "metadata": "{}",
         "name": "membercost",
         "type": "\"double\""
        },
        {
         "metadata": "{}",
         "name": "guestcost",
         "type": "\"double\""
        },
        {
         "metadata": "{}",
         "name": "initialoutlay",
         "type": "\"integer\""
        },
        {
         "metadata": "{}",
         "name": "monthlymaintenance",
         "type": "\"integer\""
        }
       ],
       "type": "table"
      }
     },
     "output_type": "display_data"
    }
   ],
   "source": [
    "%sql\n",
    "SELECT * \n",
    "FROM facility\n",
    "WHERE facid IN (1, 5);"
   ]
  },
  {
   "cell_type": "markdown",
   "metadata": {
    "application/vnd.databricks.v1+cell": {
     "cellMetadata": {
      "byteLimit": 2048000,
      "rowLimit": 10000
     },
     "inputWidgets": {},
     "nuid": "3c8abc52-9d94-4561-89b3-9c305cdb52a6",
     "showTitle": false,
     "title": ""
    }
   },
   "source": [
    "#### Q5: How can you produce a list of facilities, with each labelled as 'cheap' or 'expensive', depending on if their monthly maintenance cost is more than $100? \n",
    "#### Return the name and monthly maintenance of the facilities in question."
   ]
  },
  {
   "cell_type": "code",
   "execution_count": 0,
   "metadata": {
    "application/vnd.databricks.v1+cell": {
     "cellMetadata": {
      "byteLimit": 2048000,
      "implicitDf": true,
      "rowLimit": 10000
     },
     "inputWidgets": {},
     "nuid": "2cfdeaaa-4a41-41c8-bfa0-f3515bd536f2",
     "showTitle": false,
     "title": ""
    }
   },
   "outputs": [
    {
     "output_type": "display_data",
     "data": {
      "text/html": [
       "<style scoped>\n",
       "  .table-result-container {\n",
       "    max-height: 300px;\n",
       "    overflow: auto;\n",
       "  }\n",
       "  table, th, td {\n",
       "    border: 1px solid black;\n",
       "    border-collapse: collapse;\n",
       "  }\n",
       "  th, td {\n",
       "    padding: 5px;\n",
       "  }\n",
       "  th {\n",
       "    text-align: left;\n",
       "  }\n",
       "</style><div class='table-result-container'><table class='table-result'><thead style='background-color: white'><tr><th>name</th><th>monthlymaintenance</th><th>cheap_or_expensive</th></tr></thead><tbody><tr><td>Tennis Court 1</td><td>200</td><td>expensive</td></tr><tr><td>Tennis Court 2</td><td>200</td><td>expensive</td></tr><tr><td>Badminton Court</td><td>50</td><td>cheap</td></tr><tr><td>Table Tennis</td><td>10</td><td>cheap</td></tr><tr><td>Massage Room 1</td><td>3000</td><td>expensive</td></tr><tr><td>Massage Room 2</td><td>3000</td><td>expensive</td></tr><tr><td>Squash Court</td><td>80</td><td>cheap</td></tr><tr><td>Snooker Table</td><td>15</td><td>cheap</td></tr><tr><td>Pool Table</td><td>15</td><td>cheap</td></tr></tbody></table></div>"
      ]
     },
     "metadata": {
      "application/vnd.databricks.v1+output": {
       "addedWidgets": {},
       "aggData": [],
       "aggError": "",
       "aggOverflow": false,
       "aggSchema": [],
       "aggSeriesLimitReached": false,
       "aggType": "",
       "arguments": {},
       "columnCustomDisplayInfos": {},
       "data": [
        [
         "Tennis Court 1",
         200,
         "expensive"
        ],
        [
         "Tennis Court 2",
         200,
         "expensive"
        ],
        [
         "Badminton Court",
         50,
         "cheap"
        ],
        [
         "Table Tennis",
         10,
         "cheap"
        ],
        [
         "Massage Room 1",
         3000,
         "expensive"
        ],
        [
         "Massage Room 2",
         3000,
         "expensive"
        ],
        [
         "Squash Court",
         80,
         "cheap"
        ],
        [
         "Snooker Table",
         15,
         "cheap"
        ],
        [
         "Pool Table",
         15,
         "cheap"
        ]
       ],
       "datasetInfos": [],
       "dbfsResultPath": null,
       "isJsonSchema": true,
       "metadata": {},
       "overflow": false,
       "plotOptions": {
        "customPlotOptions": {},
        "displayType": "table",
        "pivotAggregation": null,
        "pivotColumns": null,
        "xColumns": null,
        "yColumns": null
       },
       "removedWidgets": [],
       "schema": [
        {
         "metadata": "{}",
         "name": "name",
         "type": "\"string\""
        },
        {
         "metadata": "{}",
         "name": "monthlymaintenance",
         "type": "\"integer\""
        },
        {
         "metadata": "{}",
         "name": "cheap_or_expensive",
         "type": "\"string\""
        }
       ],
       "type": "table"
      }
     },
     "output_type": "display_data"
    }
   ],
   "source": [
    "%sql\n",
    "SELECT name, monthlymaintenance,\n",
    "  CASE \n",
    "    WHEN monthlymaintenance > 100 THEN 'expensive'\n",
    "    ELSE 'cheap'\n",
    "  END AS cheap_or_expensive\n",
    "FROM facility;"
   ]
  },
  {
   "cell_type": "markdown",
   "metadata": {
    "application/vnd.databricks.v1+cell": {
     "cellMetadata": {
      "byteLimit": 2048000,
      "rowLimit": 10000
     },
     "inputWidgets": {},
     "nuid": "5e507f8a-19cb-4a77-9a00-d9ab2f363042",
     "showTitle": false,
     "title": ""
    }
   },
   "source": [
    "#### Q6: You'd like to get the first and last name of the last member(s) who signed up. Do not use the LIMIT clause for your solution."
   ]
  },
  {
   "cell_type": "code",
   "execution_count": 0,
   "metadata": {
    "application/vnd.databricks.v1+cell": {
     "cellMetadata": {
      "byteLimit": 2048000,
      "implicitDf": true,
      "rowLimit": 10000
     },
     "inputWidgets": {},
     "nuid": "6499d046-1e55-432a-b972-a9596d6d84a8",
     "showTitle": false,
     "title": ""
    }
   },
   "outputs": [
    {
     "output_type": "display_data",
     "data": {
      "text/html": [
       "<style scoped>\n",
       "  .table-result-container {\n",
       "    max-height: 300px;\n",
       "    overflow: auto;\n",
       "  }\n",
       "  table, th, td {\n",
       "    border: 1px solid black;\n",
       "    border-collapse: collapse;\n",
       "  }\n",
       "  th, td {\n",
       "    padding: 5px;\n",
       "  }\n",
       "  th {\n",
       "    text-align: left;\n",
       "  }\n",
       "</style><div class='table-result-container'><table class='table-result'><thead style='background-color: white'><tr><th>firstname</th><th>surname</th></tr></thead><tbody><tr><td>Darren</td><td>Smith</td></tr><tr><td>Erica</td><td>Crumpet</td></tr><tr><td>John</td><td>Hunt</td></tr><tr><td>Hyacinth</td><td>Tupperware</td></tr><tr><td>Millicent</td><td>Purview</td></tr><tr><td>Henry</td><td>Worthington-Smyth</td></tr><tr><td>David</td><td>Farrell</td></tr><tr><td>Henrietta</td><td>Rumney</td></tr><tr><td>Douglas</td><td>Jones</td></tr><tr><td>Ramnaresh</td><td>Sarwin</td></tr><tr><td>Joan</td><td>Coplin</td></tr><tr><td>Anna</td><td>Mackenzie</td></tr><tr><td>Matthew</td><td>Genting</td></tr><tr><td>David</td><td>Pinker</td></tr><tr><td>Timothy</td><td>Baker</td></tr><tr><td>Florence</td><td>Bader</td></tr><tr><td>Jack</td><td>Smith</td></tr><tr><td>Jemima</td><td>Farrell</td></tr><tr><td>Anne</td><td>Baker</td></tr><tr><td>David</td><td>Jones</td></tr><tr><td>Charles</td><td>Owen</td></tr><tr><td>Ponder</td><td>Stibbons</td></tr><tr><td>Tim</td><td>Boothe</td></tr><tr><td>Nancy</td><td>Dare</td></tr><tr><td>Burton</td><td>Tracy</td></tr><tr><td>Gerald</td><td>Butters</td></tr><tr><td>Janice</td><td>Joplette</td></tr><tr><td>Tim</td><td>Rownam</td></tr><tr><td>Tracy</td><td>Smith</td></tr><tr><td>Darren</td><td>Smith</td></tr><tr><td>GUEST</td><td>GUEST</td></tr></tbody></table></div>"
      ]
     },
     "metadata": {
      "application/vnd.databricks.v1+output": {
       "addedWidgets": {},
       "aggData": [],
       "aggError": "",
       "aggOverflow": false,
       "aggSchema": [],
       "aggSeriesLimitReached": false,
       "aggType": "",
       "arguments": {},
       "columnCustomDisplayInfos": {},
       "data": [
        [
         "Darren",
         "Smith"
        ],
        [
         "Erica",
         "Crumpet"
        ],
        [
         "John",
         "Hunt"
        ],
        [
         "Hyacinth",
         "Tupperware"
        ],
        [
         "Millicent",
         "Purview"
        ],
        [
         "Henry",
         "Worthington-Smyth"
        ],
        [
         "David",
         "Farrell"
        ],
        [
         "Henrietta",
         "Rumney"
        ],
        [
         "Douglas",
         "Jones"
        ],
        [
         "Ramnaresh",
         "Sarwin"
        ],
        [
         "Joan",
         "Coplin"
        ],
        [
         "Anna",
         "Mackenzie"
        ],
        [
         "Matthew",
         "Genting"
        ],
        [
         "David",
         "Pinker"
        ],
        [
         "Timothy",
         "Baker"
        ],
        [
         "Florence",
         "Bader"
        ],
        [
         "Jack",
         "Smith"
        ],
        [
         "Jemima",
         "Farrell"
        ],
        [
         "Anne",
         "Baker"
        ],
        [
         "David",
         "Jones"
        ],
        [
         "Charles",
         "Owen"
        ],
        [
         "Ponder",
         "Stibbons"
        ],
        [
         "Tim",
         "Boothe"
        ],
        [
         "Nancy",
         "Dare"
        ],
        [
         "Burton",
         "Tracy"
        ],
        [
         "Gerald",
         "Butters"
        ],
        [
         "Janice",
         "Joplette"
        ],
        [
         "Tim",
         "Rownam"
        ],
        [
         "Tracy",
         "Smith"
        ],
        [
         "Darren",
         "Smith"
        ],
        [
         "GUEST",
         "GUEST"
        ]
       ],
       "datasetInfos": [],
       "dbfsResultPath": null,
       "isJsonSchema": true,
       "metadata": {},
       "overflow": false,
       "plotOptions": {
        "customPlotOptions": {},
        "displayType": "table",
        "pivotAggregation": null,
        "pivotColumns": null,
        "xColumns": null,
        "yColumns": null
       },
       "removedWidgets": [],
       "schema": [
        {
         "metadata": "{}",
         "name": "firstname",
         "type": "\"string\""
        },
        {
         "metadata": "{}",
         "name": "surname",
         "type": "\"string\""
        }
       ],
       "type": "table"
      }
     },
     "output_type": "display_data"
    }
   ],
   "source": [
    "%sql\n",
    "SELECT firstname, surname \n",
    "FROM member\n",
    "ORDER BY joindate DESC;"
   ]
  },
  {
   "cell_type": "markdown",
   "metadata": {
    "application/vnd.databricks.v1+cell": {
     "cellMetadata": {
      "byteLimit": 2048000,
      "rowLimit": 10000
     },
     "inputWidgets": {},
     "nuid": "ec1ec199-c409-4c11-83ec-141bd37337cf",
     "showTitle": false,
     "title": ""
    }
   },
   "source": [
    "####  Q7: How can you produce a list of all members who have used a tennis court?\n",
    "- Include in your output the name of the court, and the name of the member formatted as a single column. \n",
    "- Ensure no duplicate data\n",
    "- Also order by the member name."
   ]
  },
  {
   "cell_type": "code",
   "execution_count": 0,
   "metadata": {
    "application/vnd.databricks.v1+cell": {
     "cellMetadata": {
      "byteLimit": 2048000,
      "implicitDf": true,
      "rowLimit": 10000
     },
     "inputWidgets": {},
     "nuid": "bbca475e-f438-48eb-981c-4ffd957707a3",
     "showTitle": false,
     "title": ""
    }
   },
   "outputs": [
    {
     "output_type": "display_data",
     "data": {
      "text/html": [
       "<style scoped>\n",
       "  .table-result-container {\n",
       "    max-height: 300px;\n",
       "    overflow: auto;\n",
       "  }\n",
       "  table, th, td {\n",
       "    border: 1px solid black;\n",
       "    border-collapse: collapse;\n",
       "  }\n",
       "  th, td {\n",
       "    padding: 5px;\n",
       "  }\n",
       "  th {\n",
       "    text-align: left;\n",
       "  }\n",
       "</style><div class='table-result-container'><table class='table-result'><thead style='background-color: white'><tr><th>name</th><th>fullname</th></tr></thead><tbody><tr><td>Tennis Court 1</td><td>Bader, Florence</td></tr><tr><td>Tennis Court 2</td><td>Bader, Florence</td></tr><tr><td>Tennis Court 1</td><td>Baker, Anne</td></tr><tr><td>Tennis Court 2</td><td>Baker, Anne</td></tr><tr><td>Tennis Court 1</td><td>Baker, Timothy</td></tr><tr><td>Tennis Court 2</td><td>Baker, Timothy</td></tr><tr><td>Tennis Court 1</td><td>Boothe, Tim</td></tr><tr><td>Tennis Court 2</td><td>Boothe, Tim</td></tr><tr><td>Tennis Court 2</td><td>Butters, Gerald</td></tr><tr><td>Tennis Court 1</td><td>Butters, Gerald</td></tr><tr><td>Tennis Court 1</td><td>Coplin, Joan</td></tr><tr><td>Tennis Court 1</td><td>Crumpet, Erica</td></tr><tr><td>Tennis Court 1</td><td>Dare, Nancy</td></tr><tr><td>Tennis Court 2</td><td>Dare, Nancy</td></tr><tr><td>Tennis Court 2</td><td>Farrell, David</td></tr><tr><td>Tennis Court 1</td><td>Farrell, David</td></tr><tr><td>Tennis Court 1</td><td>Farrell, Jemima</td></tr><tr><td>Tennis Court 2</td><td>Farrell, Jemima</td></tr><tr><td>Tennis Court 2</td><td>GUEST, GUEST</td></tr><tr><td>Tennis Court 1</td><td>GUEST, GUEST</td></tr><tr><td>Tennis Court 1</td><td>Genting, Matthew</td></tr><tr><td>Tennis Court 1</td><td>Hunt, John</td></tr><tr><td>Tennis Court 2</td><td>Hunt, John</td></tr><tr><td>Tennis Court 2</td><td>Jones, David</td></tr><tr><td>Tennis Court 1</td><td>Jones, David</td></tr><tr><td>Tennis Court 1</td><td>Jones, Douglas</td></tr><tr><td>Tennis Court 1</td><td>Joplette, Janice</td></tr><tr><td>Tennis Court 2</td><td>Joplette, Janice</td></tr><tr><td>Tennis Court 1</td><td>Owen, Charles</td></tr><tr><td>Tennis Court 2</td><td>Owen, Charles</td></tr><tr><td>Tennis Court 1</td><td>Pinker, David</td></tr><tr><td>Tennis Court 2</td><td>Purview, Millicent</td></tr><tr><td>Tennis Court 1</td><td>Rownam, Tim</td></tr><tr><td>Tennis Court 2</td><td>Rownam, Tim</td></tr><tr><td>Tennis Court 2</td><td>Rumney, Henrietta</td></tr><tr><td>Tennis Court 1</td><td>Sarwin, Ramnaresh</td></tr><tr><td>Tennis Court 2</td><td>Sarwin, Ramnaresh</td></tr><tr><td>Tennis Court 2</td><td>Smith, Darren</td></tr><tr><td>Tennis Court 2</td><td>Smith, Jack</td></tr><tr><td>Tennis Court 1</td><td>Smith, Jack</td></tr><tr><td>Tennis Court 2</td><td>Smith, Tracy</td></tr><tr><td>Tennis Court 1</td><td>Smith, Tracy</td></tr><tr><td>Tennis Court 1</td><td>Stibbons, Ponder</td></tr><tr><td>Tennis Court 2</td><td>Stibbons, Ponder</td></tr><tr><td>Tennis Court 1</td><td>Tracy, Burton</td></tr><tr><td>Tennis Court 2</td><td>Tracy, Burton</td></tr></tbody></table></div>"
      ]
     },
     "metadata": {
      "application/vnd.databricks.v1+output": {
       "addedWidgets": {},
       "aggData": [],
       "aggError": "",
       "aggOverflow": false,
       "aggSchema": [],
       "aggSeriesLimitReached": false,
       "aggType": "",
       "arguments": {},
       "columnCustomDisplayInfos": {},
       "data": [
        [
         "Tennis Court 1",
         "Bader, Florence"
        ],
        [
         "Tennis Court 2",
         "Bader, Florence"
        ],
        [
         "Tennis Court 1",
         "Baker, Anne"
        ],
        [
         "Tennis Court 2",
         "Baker, Anne"
        ],
        [
         "Tennis Court 1",
         "Baker, Timothy"
        ],
        [
         "Tennis Court 2",
         "Baker, Timothy"
        ],
        [
         "Tennis Court 1",
         "Boothe, Tim"
        ],
        [
         "Tennis Court 2",
         "Boothe, Tim"
        ],
        [
         "Tennis Court 2",
         "Butters, Gerald"
        ],
        [
         "Tennis Court 1",
         "Butters, Gerald"
        ],
        [
         "Tennis Court 1",
         "Coplin, Joan"
        ],
        [
         "Tennis Court 1",
         "Crumpet, Erica"
        ],
        [
         "Tennis Court 1",
         "Dare, Nancy"
        ],
        [
         "Tennis Court 2",
         "Dare, Nancy"
        ],
        [
         "Tennis Court 2",
         "Farrell, David"
        ],
        [
         "Tennis Court 1",
         "Farrell, David"
        ],
        [
         "Tennis Court 1",
         "Farrell, Jemima"
        ],
        [
         "Tennis Court 2",
         "Farrell, Jemima"
        ],
        [
         "Tennis Court 2",
         "GUEST, GUEST"
        ],
        [
         "Tennis Court 1",
         "GUEST, GUEST"
        ],
        [
         "Tennis Court 1",
         "Genting, Matthew"
        ],
        [
         "Tennis Court 1",
         "Hunt, John"
        ],
        [
         "Tennis Court 2",
         "Hunt, John"
        ],
        [
         "Tennis Court 2",
         "Jones, David"
        ],
        [
         "Tennis Court 1",
         "Jones, David"
        ],
        [
         "Tennis Court 1",
         "Jones, Douglas"
        ],
        [
         "Tennis Court 1",
         "Joplette, Janice"
        ],
        [
         "Tennis Court 2",
         "Joplette, Janice"
        ],
        [
         "Tennis Court 1",
         "Owen, Charles"
        ],
        [
         "Tennis Court 2",
         "Owen, Charles"
        ],
        [
         "Tennis Court 1",
         "Pinker, David"
        ],
        [
         "Tennis Court 2",
         "Purview, Millicent"
        ],
        [
         "Tennis Court 1",
         "Rownam, Tim"
        ],
        [
         "Tennis Court 2",
         "Rownam, Tim"
        ],
        [
         "Tennis Court 2",
         "Rumney, Henrietta"
        ],
        [
         "Tennis Court 1",
         "Sarwin, Ramnaresh"
        ],
        [
         "Tennis Court 2",
         "Sarwin, Ramnaresh"
        ],
        [
         "Tennis Court 2",
         "Smith, Darren"
        ],
        [
         "Tennis Court 2",
         "Smith, Jack"
        ],
        [
         "Tennis Court 1",
         "Smith, Jack"
        ],
        [
         "Tennis Court 2",
         "Smith, Tracy"
        ],
        [
         "Tennis Court 1",
         "Smith, Tracy"
        ],
        [
         "Tennis Court 1",
         "Stibbons, Ponder"
        ],
        [
         "Tennis Court 2",
         "Stibbons, Ponder"
        ],
        [
         "Tennis Court 1",
         "Tracy, Burton"
        ],
        [
         "Tennis Court 2",
         "Tracy, Burton"
        ]
       ],
       "datasetInfos": [],
       "dbfsResultPath": null,
       "isJsonSchema": true,
       "metadata": {},
       "overflow": false,
       "plotOptions": {
        "customPlotOptions": {},
        "displayType": "table",
        "pivotAggregation": null,
        "pivotColumns": null,
        "xColumns": null,
        "yColumns": null
       },
       "removedWidgets": [],
       "schema": [
        {
         "metadata": "{}",
         "name": "name",
         "type": "\"string\""
        },
        {
         "metadata": "{}",
         "name": "fullname",
         "type": "\"string\""
        }
       ],
       "type": "table"
      }
     },
     "output_type": "display_data"
    }
   ],
   "source": [
    "%sql\n",
    "SELECT DISTINCT facility.name, CONCAT(member.surname, ', ', member.firstname) AS fullname\n",
    "FROM facility\n",
    "INNER JOIN book\n",
    "    ON facility.facid = book.facid\n",
    "INNER JOIN member\n",
    "    ON member.memid = book.memid\n",
    "WHERE facility.name LIKE 'Tennis%'\n",
    "ORDER BY fullname;"
   ]
  },
  {
   "cell_type": "markdown",
   "metadata": {
    "application/vnd.databricks.v1+cell": {
     "cellMetadata": {
      "byteLimit": 2048000,
      "rowLimit": 10000
     },
     "inputWidgets": {},
     "nuid": "44b80a66-6ecd-4ce4-bed9-5acfe5f1d358",
     "showTitle": false,
     "title": ""
    }
   },
   "source": [
    "#### Q8: How can you produce a list of bookings on the day of 2012-09-14 which will cost the member (or guest) more than $30? \n",
    "\n",
    "- Remember that guests have different costs to members (the listed costs are per half-hour 'slot')\n",
    "- The guest user's ID is always 0. \n",
    "\n",
    "#### Include in your output the name of the facility, the name of the member formatted as a single column, and the cost.\n",
    "\n",
    "- Order by descending cost, and do not use any subqueries."
   ]
  },
  {
   "cell_type": "code",
   "execution_count": 0,
   "metadata": {
    "application/vnd.databricks.v1+cell": {
     "cellMetadata": {
      "byteLimit": 2048000,
      "implicitDf": true,
      "rowLimit": 10000
     },
     "inputWidgets": {},
     "nuid": "7b531f3c-4d9f-4bd3-bc91-3c9e0183496a",
     "showTitle": false,
     "title": ""
    }
   },
   "outputs": [
    {
     "output_type": "display_data",
     "data": {
      "text/html": [
       "<style scoped>\n",
       "  .table-result-container {\n",
       "    max-height: 300px;\n",
       "    overflow: auto;\n",
       "  }\n",
       "  table, th, td {\n",
       "    border: 1px solid black;\n",
       "    border-collapse: collapse;\n",
       "  }\n",
       "  th, td {\n",
       "    padding: 5px;\n",
       "  }\n",
       "  th {\n",
       "    text-align: left;\n",
       "  }\n",
       "</style><div class='table-result-container'><table class='table-result'><thead style='background-color: white'><tr><th>name</th><th>fullname</th><th>totalcost</th></tr></thead><tbody><tr><td>Massage Room 2</td><td>GUEST, GUEST</td><td>320.0</td></tr><tr><td>Massage Room 1</td><td>GUEST, GUEST</td><td>160.0</td></tr><tr><td>Massage Room 1</td><td>GUEST, GUEST</td><td>160.0</td></tr><tr><td>Massage Room 1</td><td>GUEST, GUEST</td><td>160.0</td></tr><tr><td>Tennis Court 2</td><td>GUEST, GUEST</td><td>150.0</td></tr><tr><td>Tennis Court 1</td><td>GUEST, GUEST</td><td>75.0</td></tr><tr><td>Tennis Court 1</td><td>GUEST, GUEST</td><td>75.0</td></tr><tr><td>Tennis Court 2</td><td>GUEST, GUEST</td><td>75.0</td></tr><tr><td>Squash Court</td><td>GUEST, GUEST</td><td>70.0</td></tr><tr><td>Massage Room 1</td><td>Farrell, Jemima</td><td>39.6</td></tr><tr><td>Squash Court</td><td>GUEST, GUEST</td><td>35.0</td></tr><tr><td>Squash Court</td><td>GUEST, GUEST</td><td>35.0</td></tr></tbody></table></div>"
      ]
     },
     "metadata": {
      "application/vnd.databricks.v1+output": {
       "addedWidgets": {},
       "aggData": [],
       "aggError": "",
       "aggOverflow": false,
       "aggSchema": [],
       "aggSeriesLimitReached": false,
       "aggType": "",
       "arguments": {},
       "columnCustomDisplayInfos": {},
       "data": [
        [
         "Massage Room 2",
         "GUEST, GUEST",
         320.0
        ],
        [
         "Massage Room 1",
         "GUEST, GUEST",
         160.0
        ],
        [
         "Massage Room 1",
         "GUEST, GUEST",
         160.0
        ],
        [
         "Massage Room 1",
         "GUEST, GUEST",
         160.0
        ],
        [
         "Tennis Court 2",
         "GUEST, GUEST",
         150.0
        ],
        [
         "Tennis Court 1",
         "GUEST, GUEST",
         75.0
        ],
        [
         "Tennis Court 1",
         "GUEST, GUEST",
         75.0
        ],
        [
         "Tennis Court 2",
         "GUEST, GUEST",
         75.0
        ],
        [
         "Squash Court",
         "GUEST, GUEST",
         70.0
        ],
        [
         "Massage Room 1",
         "Farrell, Jemima",
         39.6
        ],
        [
         "Squash Court",
         "GUEST, GUEST",
         35.0
        ],
        [
         "Squash Court",
         "GUEST, GUEST",
         35.0
        ]
       ],
       "datasetInfos": [],
       "dbfsResultPath": null,
       "isJsonSchema": true,
       "metadata": {},
       "overflow": false,
       "plotOptions": {
        "customPlotOptions": {},
        "displayType": "table",
        "pivotAggregation": null,
        "pivotColumns": null,
        "xColumns": null,
        "yColumns": null
       },
       "removedWidgets": [],
       "schema": [
        {
         "metadata": "{}",
         "name": "name",
         "type": "\"string\""
        },
        {
         "metadata": "{}",
         "name": "fullname",
         "type": "\"string\""
        },
        {
         "metadata": "{}",
         "name": "totalcost",
         "type": "\"double\""
        }
       ],
       "type": "table"
      }
     },
     "output_type": "display_data"
    }
   ],
   "source": [
    "%sql\n",
    "SELECT facility.name, CONCAT(member.surname, ', ', member.firstname) AS fullname,\n",
    "    CASE\n",
    "        WHEN (member.memid = 0) THEN (book.slots * facility.guestcost)\n",
    "        ELSE (book.slots * facility.membercost)\n",
    "    END AS totalcost\n",
    "FROM facility\n",
    "INNER JOIN book\n",
    "    ON facility.facid = book.facid\n",
    "INNER JOIN member\n",
    "    ON member.memid = book.memid\n",
    "WHERE book.starttime LIKE '2012-09-14%' \n",
    "    AND (((member.memid = 0) AND (facility.guestcost * book.slots > 30)) OR ((member.memid != 0) AND (facility.membercost * book.slots > 30)))\n",
    "ORDER BY totalcost DESC;"
   ]
  },
  {
   "cell_type": "markdown",
   "metadata": {
    "application/vnd.databricks.v1+cell": {
     "cellMetadata": {
      "byteLimit": 2048000,
      "rowLimit": 10000
     },
     "inputWidgets": {},
     "nuid": "026d7d02-8c49-49bb-915b-839e6d464196",
     "showTitle": false,
     "title": ""
    }
   },
   "source": [
    "#### Q9: This time, produce the same result as in Q8, but using a subquery."
   ]
  },
  {
   "cell_type": "code",
   "execution_count": 0,
   "metadata": {
    "application/vnd.databricks.v1+cell": {
     "cellMetadata": {
      "byteLimit": 2048000,
      "implicitDf": true,
      "rowLimit": 10000
     },
     "inputWidgets": {},
     "nuid": "78ad7c78-09c4-4ff6-ba61-f99ef55cffc2",
     "showTitle": false,
     "title": ""
    }
   },
   "outputs": [
    {
     "output_type": "display_data",
     "data": {
      "text/html": [
       "<style scoped>\n",
       "  .table-result-container {\n",
       "    max-height: 300px;\n",
       "    overflow: auto;\n",
       "  }\n",
       "  table, th, td {\n",
       "    border: 1px solid black;\n",
       "    border-collapse: collapse;\n",
       "  }\n",
       "  th, td {\n",
       "    padding: 5px;\n",
       "  }\n",
       "  th {\n",
       "    text-align: left;\n",
       "  }\n",
       "</style><div class='table-result-container'><table class='table-result'><thead style='background-color: white'><tr><th>name</th><th>fullname</th><th>totalcost</th></tr></thead><tbody><tr><td>Massage Room 2</td><td>GUEST, GUEST</td><td>320.0</td></tr><tr><td>Massage Room 1</td><td>GUEST, GUEST</td><td>160.0</td></tr><tr><td>Massage Room 1</td><td>GUEST, GUEST</td><td>160.0</td></tr><tr><td>Massage Room 1</td><td>GUEST, GUEST</td><td>160.0</td></tr><tr><td>Tennis Court 2</td><td>GUEST, GUEST</td><td>150.0</td></tr><tr><td>Tennis Court 1</td><td>GUEST, GUEST</td><td>75.0</td></tr><tr><td>Tennis Court 1</td><td>GUEST, GUEST</td><td>75.0</td></tr><tr><td>Tennis Court 2</td><td>GUEST, GUEST</td><td>75.0</td></tr><tr><td>Squash Court</td><td>GUEST, GUEST</td><td>70.0</td></tr><tr><td>Massage Room 1</td><td>Farrell, Jemima</td><td>39.6</td></tr><tr><td>Squash Court</td><td>GUEST, GUEST</td><td>35.0</td></tr><tr><td>Squash Court</td><td>GUEST, GUEST</td><td>35.0</td></tr></tbody></table></div>"
      ]
     },
     "metadata": {
      "application/vnd.databricks.v1+output": {
       "addedWidgets": {},
       "aggData": [],
       "aggError": "",
       "aggOverflow": false,
       "aggSchema": [],
       "aggSeriesLimitReached": false,
       "aggType": "",
       "arguments": {},
       "columnCustomDisplayInfos": {},
       "data": [
        [
         "Massage Room 2",
         "GUEST, GUEST",
         320.0
        ],
        [
         "Massage Room 1",
         "GUEST, GUEST",
         160.0
        ],
        [
         "Massage Room 1",
         "GUEST, GUEST",
         160.0
        ],
        [
         "Massage Room 1",
         "GUEST, GUEST",
         160.0
        ],
        [
         "Tennis Court 2",
         "GUEST, GUEST",
         150.0
        ],
        [
         "Tennis Court 1",
         "GUEST, GUEST",
         75.0
        ],
        [
         "Tennis Court 1",
         "GUEST, GUEST",
         75.0
        ],
        [
         "Tennis Court 2",
         "GUEST, GUEST",
         75.0
        ],
        [
         "Squash Court",
         "GUEST, GUEST",
         70.0
        ],
        [
         "Massage Room 1",
         "Farrell, Jemima",
         39.6
        ],
        [
         "Squash Court",
         "GUEST, GUEST",
         35.0
        ],
        [
         "Squash Court",
         "GUEST, GUEST",
         35.0
        ]
       ],
       "datasetInfos": [],
       "dbfsResultPath": null,
       "isJsonSchema": true,
       "metadata": {},
       "overflow": false,
       "plotOptions": {
        "customPlotOptions": {},
        "displayType": "table",
        "pivotAggregation": null,
        "pivotColumns": null,
        "xColumns": null,
        "yColumns": null
       },
       "removedWidgets": [],
       "schema": [
        {
         "metadata": "{}",
         "name": "name",
         "type": "\"string\""
        },
        {
         "metadata": "{}",
         "name": "fullname",
         "type": "\"string\""
        },
        {
         "metadata": "{}",
         "name": "totalcost",
         "type": "\"double\""
        }
       ],
       "type": "table"
      }
     },
     "output_type": "display_data"
    }
   ],
   "source": [
    "%sql\n",
    "WITH subquery AS (\n",
    "    SELECT facility.name, CONCAT(member.surname, ', ', member.firstname) AS fullname,\n",
    "      CASE\n",
    "        WHEN (member.memid = 0) THEN (book.slots * facility.guestcost)\n",
    "          ELSE (book.slots * facility.membercost)\n",
    "        END AS totalcost,\n",
    "        book.starttime,\n",
    "        member.memid\n",
    "    FROM facility\n",
    "    INNER JOIN book\n",
    "      ON facility.facid = book.facid\n",
    "    INNER JOIN member\n",
    "      ON member.memid = book.memid\n",
    ")\n",
    "SELECT subquery.name, subquery.fullname, subquery.totalcost\n",
    "FROM subquery\n",
    "WHERE subquery.starttime LIKE '2012-09-14%' \n",
    "  AND ((subquery.memid = 0 AND subquery.totalcost > 30) OR (subquery.memid != 0 AND subquery.totalcost > 30))\n",
    "ORDER BY subquery.totalcost DESC;"
   ]
  },
  {
   "cell_type": "markdown",
   "metadata": {
    "application/vnd.databricks.v1+cell": {
     "cellMetadata": {
      "byteLimit": 2048000,
      "rowLimit": 10000
     },
     "inputWidgets": {},
     "nuid": "86075bde-3cd9-4c23-b605-0129b6f413ac",
     "showTitle": false,
     "title": ""
    }
   },
   "source": [
    "#### Q10: Produce a list of facilities with a total revenue less than 1000.\n",
    "- The output should have facility name and total revenue, sorted by revenue. \n",
    "- Remember that there's a different cost for guests and members!"
   ]
  },
  {
   "cell_type": "code",
   "execution_count": 0,
   "metadata": {
    "application/vnd.databricks.v1+cell": {
     "cellMetadata": {
      "byteLimit": 2048000,
      "implicitDf": true,
      "rowLimit": 10000
     },
     "inputWidgets": {},
     "nuid": "cccf83d4-b320-4a34-98bc-3827aa10f4dd",
     "showTitle": false,
     "title": ""
    }
   },
   "outputs": [
    {
     "output_type": "display_data",
     "data": {
      "text/html": [
       "<style scoped>\n",
       "  .table-result-container {\n",
       "    max-height: 300px;\n",
       "    overflow: auto;\n",
       "  }\n",
       "  table, th, td {\n",
       "    border: 1px solid black;\n",
       "    border-collapse: collapse;\n",
       "  }\n",
       "  th, td {\n",
       "    padding: 5px;\n",
       "  }\n",
       "  th {\n",
       "    text-align: left;\n",
       "  }\n",
       "</style><div class='table-result-container'><table class='table-result'><thead style='background-color: white'><tr><th>name</th><th>revenue</th></tr></thead><tbody><tr><td>Table Tennis</td><td>180.0</td></tr><tr><td>Snooker Table</td><td>240.0</td></tr><tr><td>Pool Table</td><td>270.0</td></tr></tbody></table></div>"
      ]
     },
     "metadata": {
      "application/vnd.databricks.v1+output": {
       "addedWidgets": {},
       "aggData": [],
       "aggError": "",
       "aggOverflow": false,
       "aggSchema": [],
       "aggSeriesLimitReached": false,
       "aggType": "",
       "arguments": {},
       "columnCustomDisplayInfos": {},
       "data": [
        [
         "Table Tennis",
         180.0
        ],
        [
         "Snooker Table",
         240.0
        ],
        [
         "Pool Table",
         270.0
        ]
       ],
       "datasetInfos": [],
       "dbfsResultPath": null,
       "isJsonSchema": true,
       "metadata": {},
       "overflow": false,
       "plotOptions": {
        "customPlotOptions": {},
        "displayType": "table",
        "pivotAggregation": null,
        "pivotColumns": null,
        "xColumns": null,
        "yColumns": null
       },
       "removedWidgets": [],
       "schema": [
        {
         "metadata": "{}",
         "name": "name",
         "type": "\"string\""
        },
        {
         "metadata": "{}",
         "name": "revenue",
         "type": "\"double\""
        }
       ],
       "type": "table"
      }
     },
     "output_type": "display_data"
    }
   ],
   "source": [
    "%sql\n",
    "SELECT *\n",
    "  FROM (\n",
    "    SELECT name, SUM(totalcost) AS revenue\n",
    "    FROM (\n",
    "      SELECT facility.name, CONCAT(member.surname, ', ', member.firstname) AS fullname, \n",
    "        IF(book.memid = 0, book.slots * facility.guestcost, book.slots * facility.membercost) AS totalcost\n",
    "      FROM book\n",
    "      INNER JOIN facility\n",
    "        ON book.facid = facility.facid\n",
    "      INNER JOIN member\n",
    "        ON member.memid = book.memid\n",
    "    )\n",
    "    GROUP BY name\n",
    "  )\n",
    "  WHERE revenue < 1000\n",
    "  ORDER BY revenue;"
   ]
  }
 ],
 "metadata": {
  "application/vnd.databricks.v1+notebook": {
   "dashboards": [],
   "language": "python",
   "notebookMetadata": {
    "mostRecentlyExecutedCommandWithImplicitDF": {
     "commandId": 2150469675696172,
     "dataframes": [
      "_sqldf"
     ]
    },
    "pythonIndentUnit": 4
   },
   "notebookName": "Mini_Project_SQL_with_Spark",
   "widgets": {}
  },
  "name": "Mini_Project_SQL_with_Spark",
  "notebookId": 1931807081501742
 },
 "nbformat": 4,
 "nbformat_minor": 0
}
