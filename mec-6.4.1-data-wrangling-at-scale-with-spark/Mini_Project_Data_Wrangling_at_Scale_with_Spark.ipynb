{
 "cells": [
  {
   "cell_type": "markdown",
   "metadata": {
    "application/vnd.databricks.v1+cell": {
     "cellMetadata": {
      "byteLimit": 2048000,
      "rowLimit": 10000
     },
     "inputWidgets": {},
     "nuid": "46a108f2-6d5a-44b7-af2f-d29c8f203315",
     "showTitle": false,
     "title": ""
    },
    "colab_type": "text",
    "id": "q0ap-hmpXu-s"
   },
   "source": [
    "# Analyzing Web Server Logs with Apache Spark\n",
    "\n",
    "Apache Spark is an excellent and ideal framework for wrangling, analyzing and modeling on structured and unstructured data - at scale! In this mini-project, we will be focusing on one of the most popular use-cases in the industry - log analytics.\n",
    "\n",
    "Typically, server logs are a very common data source in enterprises and often contain a gold mine of actionable insights and information. Log data comes from many sources in an enterprise, such as the web, client and compute servers, applications, user-generated content, flat files. They can be used for monitoring servers, improving business and customer intelligence, building recommendation systems, fraud detection, and much more.\n",
    "\n",
    "Spark allows you to dump and store your logs in files on disk cheaply, while still providing rich APIs to perform data analysis at scale. This mini-project will show you how to use Apache Spark on real-world production logs from NASA.\n",
    "You will complete the extract, transform, and load (ETL) process in this Apache Spark enviroment. During this process, you will learn why the ETL process is so crucial to the quality of the machine learning work we will be doing later on.\n",
    "\n",
    "\n",
    "There is a total of 15 questions for you to solve along with some interactive examples which will help you learn aspects of leveraging spark for analyzing over 3 million logs at scale.\n",
    "\n",
    "Remember to focus on the __`# TODO: Replace <FILL IN> with appropriate code`__ sections to fill them up with necessary code to solve the desired questions in the notebook"
   ]
  },
  {
   "cell_type": "markdown",
   "metadata": {
    "application/vnd.databricks.v1+cell": {
     "cellMetadata": {
      "byteLimit": 2048000,
      "rowLimit": 10000
     },
     "inputWidgets": {},
     "nuid": "f1ef5c85-8aad-4e0a-8bc1-c05b9aeff662",
     "showTitle": false,
     "title": ""
    },
    "colab_type": "text",
    "id": "6IkR5OAXYBVV"
   },
   "source": [
    "# Data extraction:"
   ]
  },
  {
   "cell_type": "markdown",
   "metadata": {
    "application/vnd.databricks.v1+cell": {
     "cellMetadata": {
      "byteLimit": 2048000,
      "rowLimit": 10000
     },
     "inputWidgets": {},
     "nuid": "69921e10-4224-48a8-99bb-3d921e29fe5c",
     "showTitle": false,
     "title": ""
    },
    "colab_type": "text",
    "id": "W4XXOPlzXu-7"
   },
   "source": [
    "# Step 1 - Loading up Dependencies"
   ]
  },
  {
   "cell_type": "code",
   "execution_count": 0,
   "metadata": {
    "application/vnd.databricks.v1+cell": {
     "cellMetadata": {
      "byteLimit": 2048000,
      "rowLimit": 10000
     },
     "inputWidgets": {},
     "nuid": "a224cc4b-151a-4f07-896e-05965ce382bb",
     "showTitle": false,
     "title": ""
    },
    "colab": {},
    "colab_type": "code",
    "id": "zYGRL15uXu--",
    "outputId": "34c065c7-f451-4543-dde3-5ddbbcada8c6"
   },
   "outputs": [
    {
     "output_type": "display_data",
     "data": {
      "text/html": [
       "\n",
       "            <div>\n",
       "                <p><b>SparkSession - hive</b></p>\n",
       "                \n",
       "        <div>\n",
       "            <p><b>SparkContext</b></p>\n",
       "\n",
       "            <p><a href=\"/?o=2822198085291363#setting/sparkui/0819-074009-trkfoppt/driver-2536887821527472699\">Spark UI</a></p>\n",
       "\n",
       "            <dl>\n",
       "              <dt>Version</dt>\n",
       "                <dd><code>v3.3.2</code></dd>\n",
       "              <dt>Master</dt>\n",
       "                <dd><code>local[8]</code></dd>\n",
       "              <dt>AppName</dt>\n",
       "                <dd><code>Databricks Shell</code></dd>\n",
       "            </dl>\n",
       "        </div>\n",
       "        \n",
       "            </div>\n",
       "        "
      ]
     },
     "metadata": {
      "application/vnd.databricks.v1+output": {
       "addedWidgets": {},
       "arguments": {},
       "data": "\n            <div>\n                <p><b>SparkSession - hive</b></p>\n                \n        <div>\n            <p><b>SparkContext</b></p>\n\n            <p><a href=\"/?o=2822198085291363#setting/sparkui/0819-074009-trkfoppt/driver-2536887821527472699\">Spark UI</a></p>\n\n            <dl>\n              <dt>Version</dt>\n                <dd><code>v3.3.2</code></dd>\n              <dt>Master</dt>\n                <dd><code>local[8]</code></dd>\n              <dt>AppName</dt>\n                <dd><code>Databricks Shell</code></dd>\n            </dl>\n        </div>\n        \n            </div>\n        ",
       "datasetInfos": [],
       "metadata": {},
       "removedWidgets": [],
       "textData": null,
       "type": "htmlSandbox"
      }
     },
     "output_type": "display_data"
    }
   ],
   "source": [
    "spark"
   ]
  },
  {
   "cell_type": "code",
   "execution_count": 0,
   "metadata": {
    "application/vnd.databricks.v1+cell": {
     "cellMetadata": {
      "byteLimit": 2048000,
      "rowLimit": 10000
     },
     "inputWidgets": {},
     "nuid": "54f785cc-274b-4626-a409-bf8fd04657f2",
     "showTitle": false,
     "title": ""
    },
    "colab": {},
    "colab_type": "code",
    "id": "TQ9VOjOGXu_N",
    "outputId": "8c2ee3dc-5d83-475e-c77a-3b83e98cff42"
   },
   "outputs": [
    {
     "output_type": "stream",
     "name": "stdout",
     "output_type": "stream",
     "text": [
      "Out[2]: <pyspark.sql.context.SQLContext at 0x7f46f426d430>"
     ]
    }
   ],
   "source": [
    "sqlContext"
   ]
  },
  {
   "cell_type": "code",
   "execution_count": 0,
   "metadata": {
    "application/vnd.databricks.v1+cell": {
     "cellMetadata": {
      "byteLimit": 2048000,
      "rowLimit": 10000
     },
     "inputWidgets": {},
     "nuid": "c00682c0-aaa8-41d3-92cc-89eb7e3f000a",
     "showTitle": false,
     "title": ""
    },
    "colab": {},
    "colab_type": "code",
    "id": "IM6ajIMVXu_V",
    "outputId": "d49062e6-607c-42bf-e2de-5019dee77ce0"
   },
   "outputs": [],
   "source": [
    "if 'sc' not in locals():\n",
    "    from pyspark.context import SparkContext\n",
    "    from pyspark.sql.context import SQLContext\n",
    "    from pyspark.sql.session import SparkSession\n",
    "    \n",
    "    sc = SparkContext()\n",
    "    sqlContext = SQLContext(sc)\n",
    "    spark = SparkSession(sc)"
   ]
  },
  {
   "cell_type": "code",
   "execution_count": 0,
   "metadata": {
    "application/vnd.databricks.v1+cell": {
     "cellMetadata": {
      "byteLimit": 2048000,
      "rowLimit": 10000
     },
     "inputWidgets": {},
     "nuid": "9828bcfa-7bc2-4c40-b343-d1aca4147dfd",
     "showTitle": false,
     "title": ""
    },
    "colab": {},
    "colab_type": "code",
    "id": "r3E2N5WCXu_b",
    "outputId": "cb9f5a8a-06b5-407a-c634-a703b3e5b92b"
   },
   "outputs": [
    {
     "output_type": "display_data",
     "data": {
      "application/vnd.databricks.v1+bamboolib_hint": "{\"pd.DataFrames\": [], \"version\": \"0.0.1\"}",
      "text/plain": []
     },
     "metadata": {},
     "output_type": "display_data"
    }
   ],
   "source": [
    "import re\n",
    "import pandas as pd"
   ]
  },
  {
   "cell_type": "code",
   "execution_count": 0,
   "metadata": {
    "application/vnd.databricks.v1+cell": {
     "cellMetadata": {
      "byteLimit": 2048000,
      "rowLimit": 10000
     },
     "inputWidgets": {},
     "nuid": "2ace643d-6ba2-4e46-bbf1-202a5e5b5a91",
     "showTitle": false,
     "title": ""
    },
    "colab": {},
    "colab_type": "code",
    "id": "UupCPIruXu_i",
    "outputId": "ae83b30e-9b7e-458f-fd16-94d9d738e589"
   },
   "outputs": [
    {
     "output_type": "stream",
     "name": "stdout",
     "output_type": "stream",
     "text": [
      "<re.Match object; span=(0, 25), match=\"I'm searching for a spark\">\n<re.Match object; span=(25, 36), match=' in PySpark'>\n"
     ]
    }
   ],
   "source": [
    "m = re.finditer(r'.*?(spark).*?', \"I'm searching for a spark in PySpark\", re.I)\n",
    "for match in m:\n",
    "    print(match)"
   ]
  },
  {
   "cell_type": "markdown",
   "metadata": {
    "application/vnd.databricks.v1+cell": {
     "cellMetadata": {
      "byteLimit": 2048000,
      "rowLimit": 10000
     },
     "inputWidgets": {},
     "nuid": "fb77909f-991e-408f-9249-ee4e3b5ed6ed",
     "showTitle": false,
     "title": ""
    },
    "colab_type": "text",
    "id": "Pln9za4iXu_n"
   },
   "source": [
    "For this mini-project, we will analyze datasets from NASA Kennedy Space Center web server in Florida. The full data set is freely available for download [__here__](http://ita.ee.lbl.gov/html/contrib/NASA-HTTP.html).\n",
    "\n",
    "These two traces contain two month's worth of all HTTP requests to the NASA Kennedy Space Center WWW server in Florida. You can head over to the [__website__](http://ita.ee.lbl.gov/html/contrib/NASA-HTTP.html) and download the following files if needed OR just upload the files we have already provided for you into Domino's Cloud Platform (unless you plan to use Spark locally).\n",
    "\n",
    "- Jul 01 to Jul 31, ASCII format, 20.7 MB gzip compressed, 205.2 MB uncompressed: [ftp://ita.ee.lbl.gov/traces/NASA_access_log_Jul95.gz](ftp://ita.ee.lbl.gov/traces/NASA_access_log_Jul95.gz)\n",
    "- Aug 04 to Aug 31, ASCII format, 21.8 MB gzip compressed, 167.8 MB uncompressed: [ftp://ita.ee.lbl.gov/traces/NASA_access_log_Aug95.gz](ftp://ita.ee.lbl.gov/traces/NASA_access_log_Aug95.gz)\n",
    "\n",
    "Make sure both the data files have been uploaded to Databricks under **\"Data\" > \"DBFS\" > \"Tables\"** as a **.txt** file\n",
    "\n",
    "\n",
    "![DBFS](https://drive.google.com/uc?id=1eE9_CgnUW7psBs_Nlk9qrdD2dXh1sU9A)"
   ]
  },
  {
   "cell_type": "markdown",
   "metadata": {
    "application/vnd.databricks.v1+cell": {
     "cellMetadata": {
      "byteLimit": 2048000,
      "rowLimit": 10000
     },
     "inputWidgets": {},
     "nuid": "de4b108c-0fc1-4685-a3cf-8559152a1eda",
     "showTitle": false,
     "title": ""
    },
    "colab_type": "text",
    "id": "KESqVXmAXu_p"
   },
   "source": [
    "# Step 2 - Loading and Viewing the Log Dataset\n",
    "\n",
    "Given that our data is stored in the following mentioned path, let's load it into a DataFrame. We'll do this in steps. First, we'll use `sqlContext.read.text()` or `spark.read.text()` to read the text file. This will produce a DataFrame with a single string column called `value`."
   ]
  },
  {
   "cell_type": "markdown",
   "metadata": {
    "application/vnd.databricks.v1+cell": {
     "cellMetadata": {
      "byteLimit": 2048000,
      "rowLimit": 10000
     },
     "inputWidgets": {},
     "nuid": "af61f522-6f8f-411f-a935-b4d44ab3404f",
     "showTitle": false,
     "title": ""
    },
    "colab_type": "text",
    "id": "pis2_lWcXu_u"
   },
   "source": [
    "### Taking a look at the metadata of our dataframe"
   ]
  },
  {
   "cell_type": "code",
   "execution_count": 0,
   "metadata": {
    "application/vnd.databricks.v1+cell": {
     "cellMetadata": {
      "byteLimit": 2048000,
      "rowLimit": 10000
     },
     "inputWidgets": {},
     "nuid": "75c16375-630b-4eeb-94ee-53460fc25eac",
     "showTitle": false,
     "title": ""
    },
    "colab": {},
    "colab_type": "code",
    "id": "f4-znXsmXu_w",
    "outputId": "5c326d84-2124-47c4-c63f-e70665bfb820"
   },
   "outputs": [
    {
     "output_type": "stream",
     "name": "stdout",
     "output_type": "stream",
     "text": [
      "root\n |-- value: string (nullable = true)\n\n"
     ]
    }
   ],
   "source": [
    "# make sure you have upload NASA_access_log_Aug95.txt and NASA_access_log_Jul95.txt onto Spark before you run the following code\n",
    "\n",
    "base_df = spark.read.text('dbfs:/FileStore/tables/*.txt')\n",
    "base_df.printSchema()"
   ]
  },
  {
   "cell_type": "code",
   "execution_count": 0,
   "metadata": {
    "application/vnd.databricks.v1+cell": {
     "cellMetadata": {
      "byteLimit": 2048000,
      "rowLimit": 10000
     },
     "inputWidgets": {},
     "nuid": "d684b896-5176-4107-b885-320283e62153",
     "showTitle": false,
     "title": ""
    },
    "colab": {},
    "colab_type": "code",
    "id": "IBHQ8QQkXu_0",
    "outputId": "14c57eda-586c-4a28-9e1c-df9364bf0ff8"
   },
   "outputs": [
    {
     "output_type": "stream",
     "name": "stdout",
     "output_type": "stream",
     "text": [
      "Out[7]: pyspark.sql.dataframe.DataFrame"
     ]
    }
   ],
   "source": [
    "type(base_df)"
   ]
  },
  {
   "cell_type": "markdown",
   "metadata": {
    "application/vnd.databricks.v1+cell": {
     "cellMetadata": {
      "byteLimit": 2048000,
      "rowLimit": 10000
     },
     "inputWidgets": {},
     "nuid": "fda0a793-68ea-421b-8da8-066ef2b213cc",
     "showTitle": false,
     "title": ""
    },
    "colab_type": "text",
    "id": "gOKkUBQvXu_5"
   },
   "source": [
    "You can also convert a dataframe to an RDD if needed"
   ]
  },
  {
   "cell_type": "code",
   "execution_count": 0,
   "metadata": {
    "application/vnd.databricks.v1+cell": {
     "cellMetadata": {
      "byteLimit": 2048000,
      "rowLimit": 10000
     },
     "inputWidgets": {},
     "nuid": "12628b86-d328-474f-9bca-2557f70c5d14",
     "showTitle": false,
     "title": ""
    },
    "colab": {},
    "colab_type": "code",
    "id": "hMByB80sXu_6",
    "outputId": "29f8e5c6-aecf-4f81-d1e8-40a5ef92eb18"
   },
   "outputs": [
    {
     "output_type": "stream",
     "name": "stdout",
     "output_type": "stream",
     "text": [
      "Out[8]: pyspark.rdd.RDD"
     ]
    }
   ],
   "source": [
    "base_df_rdd = base_df.rdd\n",
    "type(base_df_rdd)"
   ]
  },
  {
   "cell_type": "markdown",
   "metadata": {
    "application/vnd.databricks.v1+cell": {
     "cellMetadata": {
      "byteLimit": 2048000,
      "rowLimit": 10000
     },
     "inputWidgets": {},
     "nuid": "3cf25ecc-6452-4e8f-8629-52b2a0ba23ce",
     "showTitle": false,
     "title": ""
    },
    "colab_type": "text",
    "id": "oi1QtXBhXvAB"
   },
   "source": [
    "### Viewing sample data in our dataframe\n",
    "Looks like it needs to be wrangled and parsed!"
   ]
  },
  {
   "cell_type": "code",
   "execution_count": 0,
   "metadata": {
    "application/vnd.databricks.v1+cell": {
     "cellMetadata": {
      "byteLimit": 2048000,
      "rowLimit": 10000
     },
     "inputWidgets": {},
     "nuid": "1065c93c-fd23-4bff-87a3-3c01433d30ab",
     "showTitle": false,
     "title": ""
    },
    "colab": {},
    "colab_type": "code",
    "id": "iertYldRXvAD",
    "outputId": "cf7a1843-1287-455e-a32c-e67a498a89c0"
   },
   "outputs": [
    {
     "output_type": "stream",
     "name": "stdout",
     "output_type": "stream",
     "text": [
      "+--------------------------------------------------------------------------------------------------------------------------+\n|value                                                                                                                     |\n+--------------------------------------------------------------------------------------------------------------------------+\n|in24.inetnebr.com - - [01/Aug/1995:00:00:01 -0400] \"GET /shuttle/missions/sts-68/news/sts-68-mcc-05.txt HTTP/1.0\" 200 1839|\n|uplherc.upl.com - - [01/Aug/1995:00:00:07 -0400] \"GET / HTTP/1.0\" 304 0                                                   |\n|uplherc.upl.com - - [01/Aug/1995:00:00:08 -0400] \"GET /images/ksclogo-medium.gif HTTP/1.0\" 304 0                          |\n|uplherc.upl.com - - [01/Aug/1995:00:00:08 -0400] \"GET /images/MOSAIC-logosmall.gif HTTP/1.0\" 304 0                        |\n|uplherc.upl.com - - [01/Aug/1995:00:00:08 -0400] \"GET /images/USA-logosmall.gif HTTP/1.0\" 304 0                           |\n|ix-esc-ca2-07.ix.netcom.com - - [01/Aug/1995:00:00:09 -0400] \"GET /images/launch-logo.gif HTTP/1.0\" 200 1713              |\n|uplherc.upl.com - - [01/Aug/1995:00:00:10 -0400] \"GET /images/WORLD-logosmall.gif HTTP/1.0\" 304 0                         |\n|slppp6.intermind.net - - [01/Aug/1995:00:00:10 -0400] \"GET /history/skylab/skylab.html HTTP/1.0\" 200 1687                 |\n|piweba4y.prodigy.com - - [01/Aug/1995:00:00:10 -0400] \"GET /images/launchmedium.gif HTTP/1.0\" 200 11853                   |\n|slppp6.intermind.net - - [01/Aug/1995:00:00:11 -0400] \"GET /history/skylab/skylab-small.gif HTTP/1.0\" 200 9202            |\n+--------------------------------------------------------------------------------------------------------------------------+\nonly showing top 10 rows\n\n"
     ]
    }
   ],
   "source": [
    "base_df.show(10, truncate=False)"
   ]
  },
  {
   "cell_type": "markdown",
   "metadata": {
    "application/vnd.databricks.v1+cell": {
     "cellMetadata": {
      "byteLimit": 2048000,
      "rowLimit": 10000
     },
     "inputWidgets": {},
     "nuid": "29019da0-97ae-4f1a-b2c4-594a4c999e36",
     "showTitle": false,
     "title": ""
    },
    "colab_type": "text",
    "id": "T9aeiekzXvAJ"
   },
   "source": [
    "Getting data from an RDD is slightly different. You can see how the data representation is different in the following RDD"
   ]
  },
  {
   "cell_type": "code",
   "execution_count": 0,
   "metadata": {
    "application/vnd.databricks.v1+cell": {
     "cellMetadata": {
      "byteLimit": 2048000,
      "rowLimit": 10000
     },
     "inputWidgets": {},
     "nuid": "99e38825-1973-40e6-8c8f-61a1b107aa98",
     "showTitle": false,
     "title": ""
    },
    "colab": {},
    "colab_type": "code",
    "id": "PCdKKlCeXvAK",
    "outputId": "58876be0-2960-4df1-cefa-75daa1462dbd"
   },
   "outputs": [
    {
     "output_type": "stream",
     "name": "stdout",
     "output_type": "stream",
     "text": [
      "Out[10]: [Row(value='in24.inetnebr.com - - [01/Aug/1995:00:00:01 -0400] \"GET /shuttle/missions/sts-68/news/sts-68-mcc-05.txt HTTP/1.0\" 200 1839'),\n Row(value='uplherc.upl.com - - [01/Aug/1995:00:00:07 -0400] \"GET / HTTP/1.0\" 304 0'),\n Row(value='uplherc.upl.com - - [01/Aug/1995:00:00:08 -0400] \"GET /images/ksclogo-medium.gif HTTP/1.0\" 304 0'),\n Row(value='uplherc.upl.com - - [01/Aug/1995:00:00:08 -0400] \"GET /images/MOSAIC-logosmall.gif HTTP/1.0\" 304 0'),\n Row(value='uplherc.upl.com - - [01/Aug/1995:00:00:08 -0400] \"GET /images/USA-logosmall.gif HTTP/1.0\" 304 0'),\n Row(value='ix-esc-ca2-07.ix.netcom.com - - [01/Aug/1995:00:00:09 -0400] \"GET /images/launch-logo.gif HTTP/1.0\" 200 1713'),\n Row(value='uplherc.upl.com - - [01/Aug/1995:00:00:10 -0400] \"GET /images/WORLD-logosmall.gif HTTP/1.0\" 304 0'),\n Row(value='slppp6.intermind.net - - [01/Aug/1995:00:00:10 -0400] \"GET /history/skylab/skylab.html HTTP/1.0\" 200 1687'),\n Row(value='piweba4y.prodigy.com - - [01/Aug/1995:00:00:10 -0400] \"GET /images/launchmedium.gif HTTP/1.0\" 200 11853'),\n Row(value='slppp6.intermind.net - - [01/Aug/1995:00:00:11 -0400] \"GET /history/skylab/skylab-small.gif HTTP/1.0\" 200 9202')]"
     ]
    }
   ],
   "source": [
    "base_df_rdd.take(10)"
   ]
  },
  {
   "cell_type": "markdown",
   "metadata": {
    "application/vnd.databricks.v1+cell": {
     "cellMetadata": {
      "byteLimit": 2048000,
      "rowLimit": 10000
     },
     "inputWidgets": {},
     "nuid": "c5e398bc-abf8-4aab-81f0-3b78d359a874",
     "showTitle": false,
     "title": ""
    },
    "colab_type": "text",
    "id": "asaanbGIYfR8"
   },
   "source": [
    "# Data transformation"
   ]
  },
  {
   "cell_type": "markdown",
   "metadata": {
    "application/vnd.databricks.v1+cell": {
     "cellMetadata": {
      "byteLimit": 2048000,
      "rowLimit": 10000
     },
     "inputWidgets": {},
     "nuid": "03094bf0-5c43-4171-99dc-1c955f751e6b",
     "showTitle": false,
     "title": ""
    },
    "colab_type": "text",
    "id": "yv5kCt3xXvAP"
   },
   "source": [
    "# Step 1 - Data Wrangling\n",
    "\n",
    "In this section, we will try and clean and parse our log dataset to really extract structured attributes with meaningful information from each log message.\n",
    "\n",
    "### Data understanding\n",
    "If you're familiar with web server logs, you'll recognize that the above displayed data is in [Common Log Format](https://www.w3.org/Daemon/User/Config/Logging.html#common-logfile-format). \n",
    "\n",
    "The fields are:\n",
    "__`remotehost rfc931 authuser [date] \"request\" status bytes`__\n",
    "\n",
    "\n",
    "| field         | meaning                                                                |\n",
    "| ------------- | ---------------------------------------------------------------------- |\n",
    "| _remotehost_  | Remote hostname (or IP number if DNS hostname is not available or if [DNSLookup](https://www.w3.org/Daemon/User/Config/General.html#DNSLookup) is off).       |\n",
    "| _rfc931_      | The remote logname of the user if at all it is present. |\n",
    "| _authuser_    | The username of the remote user after authentication by the HTTP server.  |\n",
    "| _[date]_      | Date and time of the request.                                      |\n",
    "| _\"request\"_   | The request, exactly as it came from the browser or client.            |\n",
    "| _status_      | The [HTTP status code](https://en.wikipedia.org/wiki/List_of_HTTP_status_codes) the server sent back to the client.               |\n",
    "| _bytes_       | The number of bytes (`Content-Length`) transferred to the client.      |\n",
    "\n",
    "We will need to use some specific techniques to parse, match and extract these attributes from the log data"
   ]
  },
  {
   "cell_type": "markdown",
   "metadata": {
    "application/vnd.databricks.v1+cell": {
     "cellMetadata": {
      "byteLimit": 2048000,
      "rowLimit": 10000
     },
     "inputWidgets": {},
     "nuid": "9e67f5a2-6c18-447e-a640-bcb2966c2804",
     "showTitle": false,
     "title": ""
    },
    "colab_type": "text",
    "id": "9aCEcwBLXvAQ"
   },
   "source": [
    "## Data Parsing and Extraction with Regular Expressions\n",
    "\n",
    "Next, we have to parse it into individual columns. We'll use the special built-in [regexp\\_extract()](http://spark.apache.org/docs/latest/api/python/pyspark.sql.html#pyspark.sql.functions.regexp_extract)\n",
    "function to do the parsing. This function matches a column against a regular expression with one or more [capture groups](http://regexone.com/lesson/capturing_groups) and allows you to extract one of the matched groups. We'll use one regular expression for each field we wish to extract.\n",
    "\n",
    "You must have heard or used a fair bit of regular expressions by now. If you find regular expressions confusing (and they certainly _can_ be), and you want to learn more about them, we recommend checking out the\n",
    "[RegexOne web site](http://regexone.com/). You might also find [_Regular Expressions Cookbook_](http://shop.oreilly.com/product/0636920023630.do), by Goyvaerts and Levithan, to be useful as a reference."
   ]
  },
  {
   "cell_type": "markdown",
   "metadata": {
    "application/vnd.databricks.v1+cell": {
     "cellMetadata": {
      "byteLimit": 2048000,
      "rowLimit": 10000
     },
     "inputWidgets": {},
     "nuid": "3a309fe0-5ac6-409d-a4d3-b7e4e6748cc4",
     "showTitle": false,
     "title": ""
    },
    "colab_type": "text",
    "id": "a3TFNjb1XvAS"
   },
   "source": [
    "#### Let's take a look at our dataset dimensions"
   ]
  },
  {
   "cell_type": "code",
   "execution_count": 0,
   "metadata": {
    "application/vnd.databricks.v1+cell": {
     "cellMetadata": {
      "byteLimit": 2048000,
      "rowLimit": 10000
     },
     "inputWidgets": {},
     "nuid": "52e58c3c-e03c-4b95-bd61-335602da2862",
     "showTitle": false,
     "title": ""
    },
    "colab": {},
    "colab_type": "code",
    "id": "ncbKGPMJXvAT",
    "outputId": "2d0a17f7-5bd7-444a-9a65-f547bf601f09"
   },
   "outputs": [
    {
     "output_type": "stream",
     "name": "stdout",
     "output_type": "stream",
     "text": [
      "(3461613, 1)\n"
     ]
    }
   ],
   "source": [
    "print((base_df.count(), len(base_df.columns)))"
   ]
  },
  {
   "cell_type": "markdown",
   "metadata": {
    "application/vnd.databricks.v1+cell": {
     "cellMetadata": {
      "byteLimit": 2048000,
      "rowLimit": 10000
     },
     "inputWidgets": {},
     "nuid": "cb87bc2d-709c-411f-86c4-f923f0c31414",
     "showTitle": false,
     "title": ""
    },
    "colab_type": "text",
    "id": "dtZOfHsVXvAZ"
   },
   "source": [
    "Let's extract and take a look at some sample log messages"
   ]
  },
  {
   "cell_type": "code",
   "execution_count": 0,
   "metadata": {
    "application/vnd.databricks.v1+cell": {
     "cellMetadata": {
      "byteLimit": 2048000,
      "rowLimit": 10000
     },
     "inputWidgets": {},
     "nuid": "70d5c461-360c-4f80-a98e-ce19ce19962c",
     "showTitle": false,
     "title": ""
    },
    "colab": {},
    "colab_type": "code",
    "id": "-3sfUy4NXvAa",
    "outputId": "056e2311-d4be-4c1b-e507-a4c6f1868ace"
   },
   "outputs": [
    {
     "output_type": "stream",
     "name": "stdout",
     "output_type": "stream",
     "text": [
      "Out[12]: ['in24.inetnebr.com - - [01/Aug/1995:00:00:01 -0400] \"GET /shuttle/missions/sts-68/news/sts-68-mcc-05.txt HTTP/1.0\" 200 1839',\n 'uplherc.upl.com - - [01/Aug/1995:00:00:07 -0400] \"GET / HTTP/1.0\" 304 0',\n 'uplherc.upl.com - - [01/Aug/1995:00:00:08 -0400] \"GET /images/ksclogo-medium.gif HTTP/1.0\" 304 0',\n 'uplherc.upl.com - - [01/Aug/1995:00:00:08 -0400] \"GET /images/MOSAIC-logosmall.gif HTTP/1.0\" 304 0',\n 'uplherc.upl.com - - [01/Aug/1995:00:00:08 -0400] \"GET /images/USA-logosmall.gif HTTP/1.0\" 304 0',\n 'ix-esc-ca2-07.ix.netcom.com - - [01/Aug/1995:00:00:09 -0400] \"GET /images/launch-logo.gif HTTP/1.0\" 200 1713',\n 'uplherc.upl.com - - [01/Aug/1995:00:00:10 -0400] \"GET /images/WORLD-logosmall.gif HTTP/1.0\" 304 0',\n 'slppp6.intermind.net - - [01/Aug/1995:00:00:10 -0400] \"GET /history/skylab/skylab.html HTTP/1.0\" 200 1687',\n 'piweba4y.prodigy.com - - [01/Aug/1995:00:00:10 -0400] \"GET /images/launchmedium.gif HTTP/1.0\" 200 11853',\n 'slppp6.intermind.net - - [01/Aug/1995:00:00:11 -0400] \"GET /history/skylab/skylab-small.gif HTTP/1.0\" 200 9202',\n 'slppp6.intermind.net - - [01/Aug/1995:00:00:12 -0400] \"GET /images/ksclogosmall.gif HTTP/1.0\" 200 3635',\n 'ix-esc-ca2-07.ix.netcom.com - - [01/Aug/1995:00:00:12 -0400] \"GET /history/apollo/images/apollo-logo1.gif HTTP/1.0\" 200 1173',\n 'slppp6.intermind.net - - [01/Aug/1995:00:00:13 -0400] \"GET /history/apollo/images/apollo-logo.gif HTTP/1.0\" 200 3047',\n 'uplherc.upl.com - - [01/Aug/1995:00:00:14 -0400] \"GET /images/NASA-logosmall.gif HTTP/1.0\" 304 0',\n '133.43.96.45 - - [01/Aug/1995:00:00:16 -0400] \"GET /shuttle/missions/sts-69/mission-sts-69.html HTTP/1.0\" 200 10566']"
     ]
    }
   ],
   "source": [
    "sample_logs = [item['value'] for item in base_df.take(15)]\n",
    "sample_logs"
   ]
  },
  {
   "cell_type": "markdown",
   "metadata": {
    "application/vnd.databricks.v1+cell": {
     "cellMetadata": {
      "byteLimit": 2048000,
      "rowLimit": 10000
     },
     "inputWidgets": {},
     "nuid": "79600e0e-b7f5-4778-ac5b-a548383b848d",
     "showTitle": false,
     "title": ""
    },
    "colab_type": "text",
    "id": "0aPYBjkwXvAf"
   },
   "source": [
    "### Extracting host names\n",
    "\n",
    "Let's try and write some regular expressions to extract the host name from the logs"
   ]
  },
  {
   "cell_type": "code",
   "execution_count": 0,
   "metadata": {
    "application/vnd.databricks.v1+cell": {
     "cellMetadata": {
      "byteLimit": 2048000,
      "rowLimit": 10000
     },
     "inputWidgets": {},
     "nuid": "bab18020-9032-4b00-baaf-d7a1962adcd6",
     "showTitle": false,
     "title": ""
    },
    "colab": {},
    "colab_type": "code",
    "id": "WarNo8bGXvAh",
    "outputId": "d8a548f2-335e-4ab4-8a9f-28f55060e540"
   },
   "outputs": [
    {
     "output_type": "stream",
     "name": "stdout",
     "output_type": "stream",
     "text": [
      "Out[13]: ['in24.inetnebr.com',\n 'uplherc.upl.com',\n 'uplherc.upl.com',\n 'uplherc.upl.com',\n 'uplherc.upl.com',\n 'ix-esc-ca2-07.ix.netcom.com',\n 'uplherc.upl.com',\n 'slppp6.intermind.net',\n 'piweba4y.prodigy.com',\n 'slppp6.intermind.net',\n 'slppp6.intermind.net',\n 'ix-esc-ca2-07.ix.netcom.com',\n 'slppp6.intermind.net',\n 'uplherc.upl.com',\n '133.43.96.45']"
     ]
    }
   ],
   "source": [
    "host_pattern = r'(^\\S+\\.[\\S+\\.]+\\S+)\\s'\n",
    "hosts = [re.search(host_pattern, item).group(1)\n",
    "           if re.search(host_pattern, item)\n",
    "           else 'no match'\n",
    "           for item in sample_logs]\n",
    "hosts"
   ]
  },
  {
   "cell_type": "markdown",
   "metadata": {
    "application/vnd.databricks.v1+cell": {
     "cellMetadata": {
      "byteLimit": 2048000,
      "rowLimit": 10000
     },
     "inputWidgets": {},
     "nuid": "4d89b13b-b0f3-44de-8c85-b913d340e898",
     "showTitle": false,
     "title": ""
    },
    "colab_type": "text",
    "id": "TcZrGpgwXvAk"
   },
   "source": [
    "### Extracting timestamps \n",
    "\n",
    "Let's now try and use regular expressions to extract the timestamp fields from the logs"
   ]
  },
  {
   "cell_type": "code",
   "execution_count": 0,
   "metadata": {
    "application/vnd.databricks.v1+cell": {
     "cellMetadata": {
      "byteLimit": 2048000,
      "rowLimit": 10000
     },
     "inputWidgets": {},
     "nuid": "9beb1dab-c550-42a3-97a0-edefd37783dd",
     "showTitle": false,
     "title": ""
    },
    "colab": {},
    "colab_type": "code",
    "id": "GOot8niKXvAl",
    "outputId": "6ad3338e-8ff0-48f1-c4d0-ad52742232b9"
   },
   "outputs": [
    {
     "output_type": "stream",
     "name": "stdout",
     "output_type": "stream",
     "text": [
      "Out[14]: ['01/Aug/1995:00:00:01 -0400',\n '01/Aug/1995:00:00:07 -0400',\n '01/Aug/1995:00:00:08 -0400',\n '01/Aug/1995:00:00:08 -0400',\n '01/Aug/1995:00:00:08 -0400',\n '01/Aug/1995:00:00:09 -0400',\n '01/Aug/1995:00:00:10 -0400',\n '01/Aug/1995:00:00:10 -0400',\n '01/Aug/1995:00:00:10 -0400',\n '01/Aug/1995:00:00:11 -0400',\n '01/Aug/1995:00:00:12 -0400',\n '01/Aug/1995:00:00:12 -0400',\n '01/Aug/1995:00:00:13 -0400',\n '01/Aug/1995:00:00:14 -0400',\n '01/Aug/1995:00:00:16 -0400']"
     ]
    }
   ],
   "source": [
    "ts_pattern = r'\\[(\\d{2}/\\w{3}/\\d{4}:\\d{2}:\\d{2}:\\d{2} -\\d{4})]'\n",
    "timestamps = [re.search(ts_pattern, item).group(1) for item in sample_logs]\n",
    "timestamps"
   ]
  },
  {
   "cell_type": "markdown",
   "metadata": {
    "application/vnd.databricks.v1+cell": {
     "cellMetadata": {
      "byteLimit": 2048000,
      "rowLimit": 10000
     },
     "inputWidgets": {},
     "nuid": "33f045a7-433e-4db8-bdb9-6ae7bdd3afbf",
     "showTitle": false,
     "title": ""
    },
    "colab_type": "text",
    "id": "CKJ5F8tCXvAo"
   },
   "source": [
    "### Extracting HTTP Request Method, URIs and Protocol \n",
    "\n",
    "Let's now try and use regular expressions to extract the HTTP request methods, URIs and Protocol patterns fields from the logs"
   ]
  },
  {
   "cell_type": "code",
   "execution_count": 0,
   "metadata": {
    "application/vnd.databricks.v1+cell": {
     "cellMetadata": {
      "byteLimit": 2048000,
      "rowLimit": 10000
     },
     "inputWidgets": {},
     "nuid": "993425c3-83cb-4805-86ba-efacfa839b3e",
     "showTitle": false,
     "title": ""
    },
    "colab": {},
    "colab_type": "code",
    "id": "TZvnPVXeXvAp",
    "outputId": "f3cdd71d-0239-43a4-fd8f-245193f571c3"
   },
   "outputs": [
    {
     "output_type": "stream",
     "name": "stdout",
     "output_type": "stream",
     "text": [
      "Out[15]: [('GET', '/shuttle/missions/sts-68/news/sts-68-mcc-05.txt', 'HTTP/1.0'),\n ('GET', '/', 'HTTP/1.0'),\n ('GET', '/images/ksclogo-medium.gif', 'HTTP/1.0'),\n ('GET', '/images/MOSAIC-logosmall.gif', 'HTTP/1.0'),\n ('GET', '/images/USA-logosmall.gif', 'HTTP/1.0'),\n ('GET', '/images/launch-logo.gif', 'HTTP/1.0'),\n ('GET', '/images/WORLD-logosmall.gif', 'HTTP/1.0'),\n ('GET', '/history/skylab/skylab.html', 'HTTP/1.0'),\n ('GET', '/images/launchmedium.gif', 'HTTP/1.0'),\n ('GET', '/history/skylab/skylab-small.gif', 'HTTP/1.0'),\n ('GET', '/images/ksclogosmall.gif', 'HTTP/1.0'),\n ('GET', '/history/apollo/images/apollo-logo1.gif', 'HTTP/1.0'),\n ('GET', '/history/apollo/images/apollo-logo.gif', 'HTTP/1.0'),\n ('GET', '/images/NASA-logosmall.gif', 'HTTP/1.0'),\n ('GET', '/shuttle/missions/sts-69/mission-sts-69.html', 'HTTP/1.0')]"
     ]
    }
   ],
   "source": [
    "method_uri_protocol_pattern = r'\\\"(\\S+)\\s(\\S+)\\s*(\\S*)\\\"'\n",
    "method_uri_protocol = [re.search(method_uri_protocol_pattern, item).groups()\n",
    "               if re.search(method_uri_protocol_pattern, item)\n",
    "               else 'no match'\n",
    "              for item in sample_logs]\n",
    "method_uri_protocol"
   ]
  },
  {
   "cell_type": "markdown",
   "metadata": {
    "application/vnd.databricks.v1+cell": {
     "cellMetadata": {
      "byteLimit": 2048000,
      "rowLimit": 10000
     },
     "inputWidgets": {},
     "nuid": "2e914d3c-0485-4b21-8366-b5fe9990258d",
     "showTitle": false,
     "title": ""
    },
    "colab_type": "text",
    "id": "oaBizluJXvAu"
   },
   "source": [
    "### Building an intermediate parsed dataframe\n",
    "\n",
    "Let's try and use our regular expressions we have implemented so far into parsing and extracting the relevant entities in separate columns in a new dataframe"
   ]
  },
  {
   "cell_type": "code",
   "execution_count": 0,
   "metadata": {
    "application/vnd.databricks.v1+cell": {
     "cellMetadata": {
      "byteLimit": 2048000,
      "rowLimit": 10000
     },
     "inputWidgets": {},
     "nuid": "d7a25760-d7a1-40ea-81fc-fc69092e7180",
     "showTitle": false,
     "title": ""
    },
    "colab": {},
    "colab_type": "code",
    "id": "MLI8LUVPXvAv",
    "outputId": "5c8becac-e3bb-4a61-cc8e-bba69c4169d6"
   },
   "outputs": [
    {
     "output_type": "stream",
     "name": "stdout",
     "output_type": "stream",
     "text": [
      "+---------------------------+--------------------------+------+-----------------------------------------------+--------+\n|host                       |timestamp                 |method|endpoint                                       |protocol|\n+---------------------------+--------------------------+------+-----------------------------------------------+--------+\n|in24.inetnebr.com          |01/Aug/1995:00:00:01 -0400|GET   |/shuttle/missions/sts-68/news/sts-68-mcc-05.txt|HTTP/1.0|\n|uplherc.upl.com            |01/Aug/1995:00:00:07 -0400|GET   |/                                              |HTTP/1.0|\n|uplherc.upl.com            |01/Aug/1995:00:00:08 -0400|GET   |/images/ksclogo-medium.gif                     |HTTP/1.0|\n|uplherc.upl.com            |01/Aug/1995:00:00:08 -0400|GET   |/images/MOSAIC-logosmall.gif                   |HTTP/1.0|\n|uplherc.upl.com            |01/Aug/1995:00:00:08 -0400|GET   |/images/USA-logosmall.gif                      |HTTP/1.0|\n|ix-esc-ca2-07.ix.netcom.com|01/Aug/1995:00:00:09 -0400|GET   |/images/launch-logo.gif                        |HTTP/1.0|\n|uplherc.upl.com            |01/Aug/1995:00:00:10 -0400|GET   |/images/WORLD-logosmall.gif                    |HTTP/1.0|\n|slppp6.intermind.net       |01/Aug/1995:00:00:10 -0400|GET   |/history/skylab/skylab.html                    |HTTP/1.0|\n|piweba4y.prodigy.com       |01/Aug/1995:00:00:10 -0400|GET   |/images/launchmedium.gif                       |HTTP/1.0|\n|slppp6.intermind.net       |01/Aug/1995:00:00:11 -0400|GET   |/history/skylab/skylab-small.gif               |HTTP/1.0|\n+---------------------------+--------------------------+------+-----------------------------------------------+--------+\nonly showing top 10 rows\n\n(3461613, 5)\n"
     ]
    }
   ],
   "source": [
    "from pyspark.sql.functions import regexp_extract\n",
    "\n",
    "logs_df = base_df.select(regexp_extract('value', host_pattern, 1).alias('host'),\n",
    "                         regexp_extract('value', ts_pattern, 1).alias('timestamp'),\n",
    "                         regexp_extract('value', method_uri_protocol_pattern, 1).alias('method'),\n",
    "                         regexp_extract('value', method_uri_protocol_pattern, 2).alias('endpoint'),\n",
    "                         regexp_extract('value', method_uri_protocol_pattern, 3).alias('protocol'))\n",
    "logs_df.show(10, truncate=False)\n",
    "print((logs_df.count(), len(logs_df.columns)))"
   ]
  },
  {
   "cell_type": "markdown",
   "metadata": {
    "application/vnd.databricks.v1+cell": {
     "cellMetadata": {
      "byteLimit": 2048000,
      "rowLimit": 10000
     },
     "inputWidgets": {},
     "nuid": "db71eb80-99db-470b-9239-5c75c7650a04",
     "showTitle": false,
     "title": ""
    },
    "colab_type": "text",
    "id": "-c-LK4TNXvAy"
   },
   "source": [
    "### Extracting HTTP Status Codes\n",
    "\n",
    "Let's now try and use regular expressions to extract the HTTP status codes from the logs"
   ]
  },
  {
   "cell_type": "code",
   "execution_count": 0,
   "metadata": {
    "application/vnd.databricks.v1+cell": {
     "cellMetadata": {
      "byteLimit": 2048000,
      "rowLimit": 10000
     },
     "inputWidgets": {},
     "nuid": "fba8a97f-e33c-41bf-959f-e352227606d1",
     "showTitle": false,
     "title": ""
    },
    "colab": {},
    "colab_type": "code",
    "id": "kvWWXeTcXvA1",
    "outputId": "5ffeabc8-ecff-4365-af5f-0b905f913115"
   },
   "outputs": [
    {
     "output_type": "stream",
     "name": "stdout",
     "output_type": "stream",
     "text": [
      "['200', '304', '304', '304', '304', '200', '304', '200', '200', '200', '200', '200', '200', '304', '200']\n"
     ]
    }
   ],
   "source": [
    "status_pattern = r'\\s(\\d{3})\\s'\n",
    "status = [re.search(status_pattern, item).group(1) for item in sample_logs]\n",
    "print(status)"
   ]
  },
  {
   "cell_type": "markdown",
   "metadata": {
    "application/vnd.databricks.v1+cell": {
     "cellMetadata": {
      "byteLimit": 2048000,
      "rowLimit": 10000
     },
     "inputWidgets": {},
     "nuid": "be61796d-dd64-4107-82cd-608467683bcb",
     "showTitle": false,
     "title": ""
    },
    "colab_type": "text",
    "id": "jFemwBnSXvA4"
   },
   "source": [
    "### Extracting HTTP Response Content Size\n",
    "\n",
    "Let's now try and use regular expressions to extract the HTTP response content size from the logs"
   ]
  },
  {
   "cell_type": "code",
   "execution_count": 0,
   "metadata": {
    "application/vnd.databricks.v1+cell": {
     "cellMetadata": {
      "byteLimit": 2048000,
      "rowLimit": 10000
     },
     "inputWidgets": {},
     "nuid": "a82ae5fe-dac6-4a40-bbd0-7d3149fecd32",
     "showTitle": false,
     "title": ""
    },
    "colab": {},
    "colab_type": "code",
    "id": "l0kmQOqjXvA5",
    "outputId": "8b6c6d90-6897-4885-e527-0b815f4a977e"
   },
   "outputs": [
    {
     "output_type": "stream",
     "name": "stdout",
     "output_type": "stream",
     "text": [
      "['1839', '0', '0', '0', '0', '1713', '0', '1687', '11853', '9202', '3635', '1173', '3047', '0', '10566']\n"
     ]
    }
   ],
   "source": [
    "content_size_pattern = r'\\s(\\d+)$'\n",
    "content_size = [re.search(content_size_pattern, item).group(1) for item in sample_logs]\n",
    "print(content_size)"
   ]
  },
  {
   "cell_type": "markdown",
   "metadata": {
    "application/vnd.databricks.v1+cell": {
     "cellMetadata": {
      "byteLimit": 2048000,
      "rowLimit": 10000
     },
     "inputWidgets": {},
     "nuid": "3e6c7a5d-79e1-4a61-9d80-8c1bdbf6bec1",
     "showTitle": false,
     "title": ""
    },
    "colab_type": "text",
    "id": "DHPbsgMsXvA8"
   },
   "source": [
    "## Q1: Your Turn: Putting it all together \n",
    "\n",
    "Let's now try and leverage all the regular expression patterns we previously built and use the `regexp_extract(...)` method to build our dataframe with all the log attributes neatly extracted in their own separate columns.\n",
    "\n",
    "- You can reuse the code we used previously to build the intermediate dataframe\n",
    "- Remember to cast the HTTP status code and content size as integers. \n",
    "- You can cast data as integer type using the following: __`regexp_extract('value', ...., ...).cast('integer').alias(...)`__"
   ]
  },
  {
   "cell_type": "code",
   "execution_count": 0,
   "metadata": {
    "application/vnd.databricks.v1+cell": {
     "cellMetadata": {
      "byteLimit": 2048000,
      "rowLimit": 10000
     },
     "inputWidgets": {},
     "nuid": "410f6711-c591-4dc5-9322-aa225e32b0d9",
     "showTitle": false,
     "title": ""
    },
    "colab": {},
    "colab_type": "code",
    "id": "bM4iBWjRXvA-",
    "outputId": "b826a364-3709-4c6f-eb67-541e08c535ac"
   },
   "outputs": [
    {
     "output_type": "stream",
     "name": "stdout",
     "output_type": "stream",
     "text": [
      "+--------------------+--------------------+------+--------------------+--------+------+------------+\n|                host|           timestamp|method|            endpoint|protocol|status|content_size|\n+--------------------+--------------------+------+--------------------+--------+------+------------+\n|   in24.inetnebr.com|01/Aug/1995:00:00...|   GET|/shuttle/missions...|HTTP/1.0|   200|        1839|\n|     uplherc.upl.com|01/Aug/1995:00:00...|   GET|                   /|HTTP/1.0|   304|           0|\n|     uplherc.upl.com|01/Aug/1995:00:00...|   GET|/images/ksclogo-m...|HTTP/1.0|   304|           0|\n|     uplherc.upl.com|01/Aug/1995:00:00...|   GET|/images/MOSAIC-lo...|HTTP/1.0|   304|           0|\n|     uplherc.upl.com|01/Aug/1995:00:00...|   GET|/images/USA-logos...|HTTP/1.0|   304|           0|\n|ix-esc-ca2-07.ix....|01/Aug/1995:00:00...|   GET|/images/launch-lo...|HTTP/1.0|   200|        1713|\n|     uplherc.upl.com|01/Aug/1995:00:00...|   GET|/images/WORLD-log...|HTTP/1.0|   304|           0|\n|slppp6.intermind.net|01/Aug/1995:00:00...|   GET|/history/skylab/s...|HTTP/1.0|   200|        1687|\n|piweba4y.prodigy.com|01/Aug/1995:00:00...|   GET|/images/launchmed...|HTTP/1.0|   200|       11853|\n|slppp6.intermind.net|01/Aug/1995:00:00...|   GET|/history/skylab/s...|HTTP/1.0|   200|        9202|\n+--------------------+--------------------+------+--------------------+--------+------+------------+\nonly showing top 10 rows\n\n(3461613, 7)\n"
     ]
    }
   ],
   "source": [
    "# TODO: Replace <FILL IN> with appropriate code\n",
    "\n",
    "logs_df = base_df.select(regexp_extract('value', host_pattern, 1).alias('host'),\n",
    "                         regexp_extract('value', ts_pattern, 1).alias('timestamp'),\n",
    "                         regexp_extract('value', method_uri_protocol_pattern, 1).alias('method'),\n",
    "                         regexp_extract('value', method_uri_protocol_pattern, 2).alias('endpoint'),\n",
    "                         regexp_extract('value', method_uri_protocol_pattern, 3).alias('protocol'),\n",
    "                         regexp_extract('value', status_pattern, 1).cast('integer').alias('status'),\n",
    "                         regexp_extract('value', content_size_pattern, 1).cast('integer').alias('content_size')\n",
    "                         )\n",
    "logs_df.show(10, truncate=True)\n",
    "print((logs_df.count(), len(logs_df.columns)))"
   ]
  },
  {
   "cell_type": "markdown",
   "metadata": {
    "application/vnd.databricks.v1+cell": {
     "cellMetadata": {
      "byteLimit": 2048000,
      "rowLimit": 10000
     },
     "inputWidgets": {},
     "nuid": "f736728d-a2fd-4f8d-8496-3758e9f4d991",
     "showTitle": false,
     "title": ""
    },
    "colab_type": "text",
    "id": "EgLGxYRYXvBB"
   },
   "source": [
    "## Finding Missing Values\n",
    "\n",
    "Missing and null values are the bane of data analysis and machine learning. Let's see how well our data parsing and extraction logic worked. First, let's verify that there are no null rows in the original dataframe."
   ]
  },
  {
   "cell_type": "code",
   "execution_count": 0,
   "metadata": {
    "application/vnd.databricks.v1+cell": {
     "cellMetadata": {
      "byteLimit": 2048000,
      "rowLimit": 10000
     },
     "inputWidgets": {},
     "nuid": "0ffba9f8-f08a-41b5-8e99-e317f6e20f1b",
     "showTitle": false,
     "title": ""
    },
    "colab": {},
    "colab_type": "code",
    "id": "O4ppVUoJXvBC",
    "outputId": "18c683c1-5f0d-4f62-9545-e9bd27088c80"
   },
   "outputs": [
    {
     "output_type": "stream",
     "name": "stdout",
     "output_type": "stream",
     "text": [
      "Out[20]: 0"
     ]
    }
   ],
   "source": [
    "base_df.filter(base_df['value'].isNull()).count()"
   ]
  },
  {
   "cell_type": "markdown",
   "metadata": {
    "application/vnd.databricks.v1+cell": {
     "cellMetadata": {
      "byteLimit": 2048000,
      "rowLimit": 10000
     },
     "inputWidgets": {},
     "nuid": "d246bf5c-3853-4961-bb8a-abbb13e8f34c",
     "showTitle": false,
     "title": ""
    },
    "colab_type": "text",
    "id": "7V0g6vHcXvBG"
   },
   "source": [
    "If our data parsing and extraction worked properly, we should not have any rows with potential null values. Let's try and put that to test!"
   ]
  },
  {
   "cell_type": "code",
   "execution_count": 0,
   "metadata": {
    "application/vnd.databricks.v1+cell": {
     "cellMetadata": {
      "byteLimit": 2048000,
      "rowLimit": 10000
     },
     "inputWidgets": {},
     "nuid": "316591f0-49b3-415d-9a08-8bd07e331c5b",
     "showTitle": false,
     "title": ""
    },
    "colab": {},
    "colab_type": "code",
    "id": "4NFuk6QTXvBH",
    "outputId": "a8238a74-51c8-48ac-fe83-b67f42d0a78c"
   },
   "outputs": [
    {
     "output_type": "stream",
     "name": "stdout",
     "output_type": "stream",
     "text": [
      "Out[21]: 33905"
     ]
    }
   ],
   "source": [
    "bad_rows_df = logs_df.filter(logs_df['host'].isNull()| \n",
    "                             logs_df['timestamp'].isNull() | \n",
    "                             logs_df['method'].isNull() |\n",
    "                             logs_df['endpoint'].isNull() |\n",
    "                             logs_df['status'].isNull() |\n",
    "                             logs_df['content_size'].isNull()|\n",
    "                             logs_df['protocol'].isNull())\n",
    "bad_rows_df.count()"
   ]
  },
  {
   "cell_type": "markdown",
   "metadata": {
    "application/vnd.databricks.v1+cell": {
     "cellMetadata": {
      "byteLimit": 2048000,
      "rowLimit": 10000
     },
     "inputWidgets": {},
     "nuid": "07af37c5-fa68-4a53-9910-09de48dfd716",
     "showTitle": false,
     "title": ""
    },
    "colab_type": "text",
    "id": "CIqr5XvhXvBM"
   },
   "source": [
    "Ouch! Looks like we have over 30K missing values in our data! Can we handle this?"
   ]
  },
  {
   "cell_type": "markdown",
   "metadata": {
    "application/vnd.databricks.v1+cell": {
     "cellMetadata": {
      "byteLimit": 2048000,
      "rowLimit": 10000
     },
     "inputWidgets": {},
     "nuid": "7d06818e-60b2-43e8-b200-6bfaf9904997",
     "showTitle": false,
     "title": ""
    },
    "colab_type": "text",
    "id": "g8iWYrBoXvBN"
   },
   "source": [
    "Do remember, this is not a regular pandas dataframe which you can directly query and get which columns have null. Our so-called _big dataset_ is residing on disk which can potentially be present in multiple nodes in a spark cluster. So how do we find out which columns have potential nulls? \n",
    "\n",
    "### Finding Null Counts\n",
    "\n",
    "We can typically use the following technique to find out which columns have null values. \n",
    "\n",
    "(__Note:__ This approach is adapted from an [excellent answer](http://stackoverflow.com/a/33901312) on StackOverflow.)"
   ]
  },
  {
   "cell_type": "code",
   "execution_count": 0,
   "metadata": {
    "application/vnd.databricks.v1+cell": {
     "cellMetadata": {
      "byteLimit": 2048000,
      "rowLimit": 10000
     },
     "inputWidgets": {},
     "nuid": "ed10887a-8faa-4b46-808c-cd0fad923513",
     "showTitle": false,
     "title": ""
    },
    "colab": {},
    "colab_type": "code",
    "id": "h0TWdnaPXvBP",
    "outputId": "8a7abfda-2629-4f36-cb9c-3e00a13efa83"
   },
   "outputs": [
    {
     "output_type": "stream",
     "name": "stdout",
     "output_type": "stream",
     "text": [
      "Out[22]: ['host',\n 'timestamp',\n 'method',\n 'endpoint',\n 'protocol',\n 'status',\n 'content_size']"
     ]
    }
   ],
   "source": [
    "logs_df.columns"
   ]
  },
  {
   "cell_type": "code",
   "execution_count": 0,
   "metadata": {
    "application/vnd.databricks.v1+cell": {
     "cellMetadata": {
      "byteLimit": 2048000,
      "rowLimit": 10000
     },
     "inputWidgets": {},
     "nuid": "ff7725bb-1db0-4985-a7c0-91b1150bb54c",
     "showTitle": false,
     "title": ""
    },
    "colab": {},
    "colab_type": "code",
    "id": "LtNLdagZXvBT",
    "outputId": "e9fba1ca-d183-4728-9f7c-135ebcd78ec9"
   },
   "outputs": [
    {
     "output_type": "stream",
     "name": "stdout",
     "output_type": "stream",
     "text": [
      "+----+---------+------+--------+--------+------+------------+\n|host|timestamp|method|endpoint|protocol|status|content_size|\n+----+---------+------+--------+--------+------+------------+\n|   0|        0|     0|       0|       0|     1|       33905|\n+----+---------+------+--------+--------+------+------------+\n\n"
     ]
    }
   ],
   "source": [
    "from pyspark.sql.functions import col\n",
    "from pyspark.sql.functions import sum as spark_sum\n",
    "\n",
    "def count_null(col_name):\n",
    "    return spark_sum(col(col_name).isNull().cast('integer')).alias(col_name)\n",
    "\n",
    "# Build up a list of column expressions, one per column.\n",
    "exprs = [count_null(col_name) for col_name in logs_df.columns]\n",
    "\n",
    "# Run the aggregation. The *exprs converts the list of expressions into\n",
    "# variable function arguments.\n",
    "logs_df.agg(*exprs).show()"
   ]
  },
  {
   "cell_type": "markdown",
   "metadata": {
    "application/vnd.databricks.v1+cell": {
     "cellMetadata": {
      "byteLimit": 2048000,
      "rowLimit": 10000
     },
     "inputWidgets": {},
     "nuid": "fb11b971-9863-41f1-820e-a458aacec4f3",
     "showTitle": false,
     "title": ""
    },
    "colab_type": "text",
    "id": "g5z_B22MXvBX"
   },
   "source": [
    "Well, looks like we have one missing value in the `status` column and everything else is in the `content_size` column. \n",
    "Let's see if we can figure out what's wrong!"
   ]
  },
  {
   "cell_type": "markdown",
   "metadata": {
    "application/vnd.databricks.v1+cell": {
     "cellMetadata": {
      "byteLimit": 2048000,
      "rowLimit": 10000
     },
     "inputWidgets": {},
     "nuid": "a27d7bfd-7534-417a-88a5-6f2f4194a032",
     "showTitle": false,
     "title": ""
    },
    "colab_type": "text",
    "id": "jGoLzGeEXvBZ"
   },
   "source": [
    "### Handling nulls in HTTP status\n",
    "\n",
    "If you had solved it correctly, our original parsing regular expression for the `status` column was:\n",
    "\n",
    "```\n",
    "regexp_extract('value', r'\\s(\\d{3})\\s', 1).cast('integer').alias('status')\n",
    "``` \n",
    "\n",
    "Could it be that there are more digits making our regular expression wrong? or is the data point itself bad? Let's try and find out!\n",
    "\n",
    "**Note**: In the expression below, `~` means \"not\"."
   ]
  },
  {
   "cell_type": "code",
   "execution_count": 0,
   "metadata": {
    "application/vnd.databricks.v1+cell": {
     "cellMetadata": {
      "byteLimit": 2048000,
      "rowLimit": 10000
     },
     "inputWidgets": {},
     "nuid": "1c68771f-e161-4360-833b-bccb827dc302",
     "showTitle": false,
     "title": ""
    },
    "colab": {},
    "colab_type": "code",
    "id": "tscbB01GXvBb",
    "outputId": "97996e0a-5e21-441f-b742-3e898e691c43"
   },
   "outputs": [
    {
     "output_type": "stream",
     "name": "stdout",
     "output_type": "stream",
     "text": [
      "Out[24]: 1"
     ]
    }
   ],
   "source": [
    "null_status_df = base_df.filter(~base_df['value'].rlike(r'\\s(\\d{3})\\s'))\n",
    "null_status_df.count()"
   ]
  },
  {
   "cell_type": "code",
   "execution_count": 0,
   "metadata": {
    "application/vnd.databricks.v1+cell": {
     "cellMetadata": {
      "byteLimit": 2048000,
      "rowLimit": 10000
     },
     "inputWidgets": {},
     "nuid": "7715b7d2-bd8f-4bf9-a886-932c262d2a2e",
     "showTitle": false,
     "title": ""
    },
    "colab": {},
    "colab_type": "code",
    "id": "KMRiPoTXXvBe",
    "outputId": "8bf8cf96-643f-42fd-c593-0dcadf950f74"
   },
   "outputs": [
    {
     "output_type": "stream",
     "name": "stdout",
     "output_type": "stream",
     "text": [
      "+--------+\n|value   |\n+--------+\n|alyssa.p|\n+--------+\n\n"
     ]
    }
   ],
   "source": [
    "null_status_df.show(truncate=False)"
   ]
  },
  {
   "cell_type": "code",
   "execution_count": 0,
   "metadata": {
    "application/vnd.databricks.v1+cell": {
     "cellMetadata": {
      "byteLimit": 2048000,
      "rowLimit": 10000
     },
     "inputWidgets": {},
     "nuid": "82d66f92-62a0-4ec8-8ef3-603bf92e1565",
     "showTitle": false,
     "title": ""
    },
    "colab": {},
    "colab_type": "code",
    "id": "-ec9HtGwXvBh",
    "outputId": "9bc09049-3dff-4b65-8fec-5b7edf2cda39"
   },
   "outputs": [
    {
     "output_type": "stream",
     "name": "stdout",
     "output_type": "stream",
     "text": [
      "+----+---------+------+--------+--------+------+------------+\n|host|timestamp|method|endpoint|protocol|status|content_size|\n+----+---------+------+--------+--------+------+------------+\n|    |         |      |        |        |null  |null        |\n+----+---------+------+--------+--------+------+------------+\n\n"
     ]
    }
   ],
   "source": [
    "bad_status_df = null_status_df.select(regexp_extract('value', host_pattern, 1).alias('host'),\n",
    "                                      regexp_extract('value', ts_pattern, 1).alias('timestamp'),\n",
    "                                      regexp_extract('value', method_uri_protocol_pattern, 1).alias('method'),\n",
    "                                      regexp_extract('value', method_uri_protocol_pattern, 2).alias('endpoint'),\n",
    "                                      regexp_extract('value', method_uri_protocol_pattern, 3).alias('protocol'),\n",
    "                                      regexp_extract('value', status_pattern, 1).cast('integer').alias('status'),\n",
    "                                      regexp_extract('value', content_size_pattern, 1).cast('integer').alias('content_size'))\n",
    "bad_status_df.show(truncate=False)"
   ]
  },
  {
   "cell_type": "markdown",
   "metadata": {
    "application/vnd.databricks.v1+cell": {
     "cellMetadata": {
      "byteLimit": 2048000,
      "rowLimit": 10000
     },
     "inputWidgets": {},
     "nuid": "c135bd59-f5c9-4840-bcb2-af682d292a72",
     "showTitle": false,
     "title": ""
    },
    "colab_type": "text",
    "id": "wS7tZXIUXvBk"
   },
   "source": [
    "Looks like the record itself is an incomplete record with no useful information, the best option would be to drop this record as follows!"
   ]
  },
  {
   "cell_type": "code",
   "execution_count": 0,
   "metadata": {
    "application/vnd.databricks.v1+cell": {
     "cellMetadata": {
      "byteLimit": 2048000,
      "rowLimit": 10000
     },
     "inputWidgets": {},
     "nuid": "3624d13d-fb6e-45a5-ad2d-5fb6644d08c5",
     "showTitle": false,
     "title": ""
    },
    "colab": {},
    "colab_type": "code",
    "id": "zb6wxLWuXvBl",
    "outputId": "b4f36a5a-9679-4830-91fc-80388aac54e2"
   },
   "outputs": [
    {
     "output_type": "stream",
     "name": "stdout",
     "output_type": "stream",
     "text": [
      "Out[27]: 3461613"
     ]
    }
   ],
   "source": [
    "logs_df.count()"
   ]
  },
  {
   "cell_type": "code",
   "execution_count": 0,
   "metadata": {
    "application/vnd.databricks.v1+cell": {
     "cellMetadata": {
      "byteLimit": 2048000,
      "rowLimit": 10000
     },
     "inputWidgets": {},
     "nuid": "c0ec1cbc-75c4-48fa-84d3-4bba02f9d61b",
     "showTitle": false,
     "title": ""
    },
    "colab": {},
    "colab_type": "code",
    "id": "RQogALLJXvBo",
    "outputId": "41034dca-c862-48e7-9a3d-548738bebbff"
   },
   "outputs": [
    {
     "output_type": "stream",
     "name": "stdout",
     "output_type": "stream",
     "text": [
      "Out[28]: 3461612"
     ]
    }
   ],
   "source": [
    "logs_df = logs_df[logs_df['status'].isNotNull()]\n",
    "logs_df.count()"
   ]
  },
  {
   "cell_type": "code",
   "execution_count": 0,
   "metadata": {
    "application/vnd.databricks.v1+cell": {
     "cellMetadata": {
      "byteLimit": 2048000,
      "rowLimit": 10000
     },
     "inputWidgets": {},
     "nuid": "d32b3fd0-90cf-40a6-8819-5e560fe217c0",
     "showTitle": false,
     "title": ""
    },
    "colab": {},
    "colab_type": "code",
    "id": "_rHsvCeeXvBs",
    "outputId": "a58d88c2-94cc-4c58-bf1f-bf12abc0e822"
   },
   "outputs": [
    {
     "output_type": "stream",
     "name": "stdout",
     "output_type": "stream",
     "text": [
      "+----+---------+------+--------+--------+------+------------+\n|host|timestamp|method|endpoint|protocol|status|content_size|\n+----+---------+------+--------+--------+------+------------+\n|   0|        0|     0|       0|       0|     0|       33904|\n+----+---------+------+--------+--------+------+------------+\n\n"
     ]
    }
   ],
   "source": [
    "exprs = [count_null(col_name) for col_name in logs_df.columns]\n",
    "logs_df.agg(*exprs).show()"
   ]
  },
  {
   "cell_type": "markdown",
   "metadata": {
    "application/vnd.databricks.v1+cell": {
     "cellMetadata": {
      "byteLimit": 2048000,
      "rowLimit": 10000
     },
     "inputWidgets": {},
     "nuid": "da61786e-9c5c-4d21-b422-c775b2e27cd2",
     "showTitle": false,
     "title": ""
    },
    "colab_type": "text",
    "id": "8k4-PjEFXvBv"
   },
   "source": [
    "### Handling nulls in HTTP content size\n",
    "\n",
    "Again based on our previous regular expression and assuming you were able to solve it correctly, our original parsing regular expression for the `content_size` column was:\n",
    "\n",
    "```\n",
    "regexp_extract('value', r'\\s(\\d+)$', 1).cast('integer').alias('content_size')\n",
    "``` \n",
    "\n",
    "Could there be missing data in our original dataset itself? Let's try and find out!"
   ]
  },
  {
   "cell_type": "markdown",
   "metadata": {
    "application/vnd.databricks.v1+cell": {
     "cellMetadata": {
      "byteLimit": 2048000,
      "rowLimit": 10000
     },
     "inputWidgets": {},
     "nuid": "33777f87-fe1d-43e6-87b6-e1ddf2605e83",
     "showTitle": false,
     "title": ""
    },
    "colab_type": "text",
    "id": "MMjHfm1aXvBw"
   },
   "source": [
    "### Q2: Your Turn: Find out the records in our base data frame with potential missing content sizes\n",
    "\n",
    "- Use the `r'\\s\\d+$'` regex pattern with the `rlike()` function like we demonstrated in the previous example\n",
    "- Remember to work on `base_df` since we are searching on the raw records NOT the parsed `logs_df`\n",
    "- Find the total count of the records with missing content size in `base_df` using the `count()` function"
   ]
  },
  {
   "cell_type": "code",
   "execution_count": 0,
   "metadata": {
    "application/vnd.databricks.v1+cell": {
     "cellMetadata": {
      "byteLimit": 2048000,
      "rowLimit": 10000
     },
     "inputWidgets": {},
     "nuid": "e46e0262-9ddd-46e3-ba66-990be8ff315a",
     "showTitle": false,
     "title": ""
    },
    "colab": {},
    "colab_type": "code",
    "id": "ki7G6daTXvBx",
    "outputId": "8a7230f3-f87b-4681-fcfc-b5d9503a441d"
   },
   "outputs": [
    {
     "output_type": "stream",
     "name": "stdout",
     "output_type": "stream",
     "text": [
      "Out[30]: 33905"
     ]
    }
   ],
   "source": [
    "# TODO: Replace <FILL IN> with appropriate code\n",
    "\n",
    "null_content_size_df = base_df[~base_df['value'].rlike(r'\\s\\d+$')]\n",
    "null_content_size_df.count()"
   ]
  },
  {
   "cell_type": "markdown",
   "metadata": {
    "application/vnd.databricks.v1+cell": {
     "cellMetadata": {
      "byteLimit": 2048000,
      "rowLimit": 10000
     },
     "inputWidgets": {},
     "nuid": "992714ab-3ae5-40c6-a541-b3675e5ac003",
     "showTitle": false,
     "title": ""
    },
    "colab_type": "text",
    "id": "6te6fSfCXvB0"
   },
   "source": [
    "### Q3: Your Turn: Display the top ten records of your data frame having missing content sizes"
   ]
  },
  {
   "cell_type": "code",
   "execution_count": 0,
   "metadata": {
    "application/vnd.databricks.v1+cell": {
     "cellMetadata": {
      "byteLimit": 2048000,
      "rowLimit": 10000
     },
     "inputWidgets": {},
     "nuid": "f6234258-b945-4053-a486-ddbe3dc160b3",
     "showTitle": false,
     "title": ""
    },
    "colab": {},
    "colab_type": "code",
    "id": "P1vwVWX4XvB1",
    "outputId": "c11b52c6-ed73-421f-8988-8eb6296c7e7a"
   },
   "outputs": [
    {
     "output_type": "stream",
     "name": "stdout",
     "output_type": "stream",
     "text": [
      "Out[31]: [Row(value='gw1.att.com - - [01/Aug/1995:00:03:53 -0400] \"GET /shuttle/missions/sts-73/news HTTP/1.0\" 302 -'),\n Row(value='js002.cc.utsunomiya-u.ac.jp - - [01/Aug/1995:00:07:33 -0400] \"GET /shuttle/resources/orbiters/discovery.gif HTTP/1.0\" 404 -'),\n Row(value='tia1.eskimo.com - - [01/Aug/1995:00:28:41 -0400] \"GET /pub/winvn/release.txt HTTP/1.0\" 404 -'),\n Row(value='itws.info.eng.niigata-u.ac.jp - - [01/Aug/1995:00:38:01 -0400] \"GET /ksc.html/facts/about_ksc.html HTTP/1.0\" 403 -'),\n Row(value='grimnet23.idirect.com - - [01/Aug/1995:00:50:12 -0400] \"GET /www/software/winvn/winvn.html HTTP/1.0\" 404 -'),\n Row(value='miriworld.its.unimelb.edu.au - - [01/Aug/1995:01:04:54 -0400] \"GET /history/history.htm HTTP/1.0\" 404 -'),\n Row(value='ras38.srv.net - - [01/Aug/1995:01:05:14 -0400] \"GET /elv/DELTA/uncons.htm HTTP/1.0\" 404 -'),\n Row(value='cs1-06.leh.ptd.net - - [01/Aug/1995:01:17:38 -0400] \"GET /sts-71/launch/\" 404 -'),\n Row(value='www-b2.proxy.aol.com - - [01/Aug/1995:01:22:07 -0400] \"GET /shuttle/countdown HTTP/1.0\" 302 -'),\n Row(value='maui56.maui.net - - [01/Aug/1995:01:31:56 -0400] \"GET /shuttle HTTP/1.0\" 302 -')]"
     ]
    }
   ],
   "source": [
    "# TODO: Replace <FILL IN> with appropriate code\n",
    "\n",
    "null_content_size_df.take(10)"
   ]
  },
  {
   "cell_type": "markdown",
   "metadata": {
    "application/vnd.databricks.v1+cell": {
     "cellMetadata": {
      "byteLimit": 2048000,
      "rowLimit": 10000
     },
     "inputWidgets": {},
     "nuid": "d645f3f1-3d01-40eb-820c-ca6923681105",
     "showTitle": false,
     "title": ""
    },
    "colab_type": "text",
    "id": "Rl3J6c5sXvB8"
   },
   "source": [
    "Assuming you were able to get to the missing records above, it is quite evident that the bad raw data records correspond to error responses, where no content was sent back and the server emitted a \"`-`\" for the `content_size` field. \n",
    "\n",
    "Since we don't want to discard those rows from our analysis, let's impute or fill them to 0."
   ]
  },
  {
   "cell_type": "markdown",
   "metadata": {
    "application/vnd.databricks.v1+cell": {
     "cellMetadata": {
      "byteLimit": 2048000,
      "rowLimit": 10000
     },
     "inputWidgets": {},
     "nuid": "fed464b3-20d5-4038-a6fe-5169ea505f89",
     "showTitle": false,
     "title": ""
    },
    "colab_type": "text",
    "id": "2y3iD47fXvCB"
   },
   "source": [
    "### Q4: Your Turn: Fix the rows with null content\\_size\n",
    "\n",
    "The easiest solution is to replace the null values in `logs_df` with 0 like we discussed earlier. The Spark DataFrame API provides a set of functions and fields specifically designed for working with null values, among them:\n",
    "\n",
    "* [fillna()](http://spark.apache.org/docs/latest/api/python/pyspark.sql.html#pyspark.sql.DataFrame.fillna), which fills null values with specified non-null values.\n",
    "* [na](http://spark.apache.org/docs/latest/api/python/pyspark.sql.html#pyspark.sql.DataFrame.na), which returns a [DataFrameNaFunctions](http://spark.apache.org/docs/latest/api/python/pyspark.sql.html#pyspark.sql.DataFrameNaFunctions) object with many functions for operating on null columns.\n",
    "\n",
    "There are several ways to invoke this function. The easiest is just to replace _all_ null columns with known values. But, for safety, it's better to pass a Python dictionary containing (column\\_name, value) mappings. That's what we'll do. A sample example from the documentation is depicted below\n",
    "\n",
    "```\n",
    ">>> df4.na.fill({'age': 50, 'name': 'unknown'}).show()\n",
    "+---+------+-------+\n",
    "|age|height|   name|\n",
    "+---+------+-------+\n",
    "| 10|    80|  Alice|\n",
    "|  5|  null|    Bob|\n",
    "| 50|  null|    Tom|\n",
    "| 50|  null|unknown|\n",
    "+---+------+-------+\n",
    "```\n",
    "\n",
    "Now use this function and fill all the missing values in the `content_size` field with 0!"
   ]
  },
  {
   "cell_type": "code",
   "execution_count": 0,
   "metadata": {
    "application/vnd.databricks.v1+cell": {
     "cellMetadata": {
      "byteLimit": 2048000,
      "rowLimit": 10000
     },
     "inputWidgets": {},
     "nuid": "98eb16d0-f68d-461a-87ed-775cd95979a7",
     "showTitle": false,
     "title": ""
    },
    "colab": {},
    "colab_type": "code",
    "collapsed": true,
    "id": "_2w5KTE0XvCC",
    "outputId": "df4d371c-1376-4616-e2c7-9e35ddccf80e"
   },
   "outputs": [],
   "source": [
    "# TODO: Replace <FILL IN> with appropriate code\n",
    "\n",
    "logs_df = logs_df.na.fill({'content_size': 0})"
   ]
  },
  {
   "cell_type": "markdown",
   "metadata": {
    "application/vnd.databricks.v1+cell": {
     "cellMetadata": {
      "byteLimit": 2048000,
      "rowLimit": 10000
     },
     "inputWidgets": {},
     "nuid": "cf85f60d-06c9-43a2-b595-d95cb105a076",
     "showTitle": false,
     "title": ""
    },
    "colab_type": "text",
    "id": "zdjkzs6UXvCJ"
   },
   "source": [
    "Now assuming you were able to fill in the missing values successfully in the previous question, we should have no missing values \\ nulls in our dataset. Let's verify this!"
   ]
  },
  {
   "cell_type": "code",
   "execution_count": 0,
   "metadata": {
    "application/vnd.databricks.v1+cell": {
     "cellMetadata": {
      "byteLimit": 2048000,
      "rowLimit": 10000
     },
     "inputWidgets": {},
     "nuid": "50cb0a76-8f0b-4356-94fb-3488fcbf7274",
     "showTitle": false,
     "title": ""
    },
    "colab": {},
    "colab_type": "code",
    "id": "wDaLqVZOXvCK",
    "outputId": "a3097bef-1d37-4213-a6e8-a52b08c27947"
   },
   "outputs": [
    {
     "output_type": "stream",
     "name": "stdout",
     "output_type": "stream",
     "text": [
      "+----+---------+------+--------+--------+------+------------+\n|host|timestamp|method|endpoint|protocol|status|content_size|\n+----+---------+------+--------+--------+------+------------+\n|   0|        0|     0|       0|       0|     0|           0|\n+----+---------+------+--------+--------+------+------------+\n\n"
     ]
    }
   ],
   "source": [
    "exprs = [count_null(col_name) for col_name in logs_df.columns]\n",
    "logs_df.agg(*exprs).show()"
   ]
  },
  {
   "cell_type": "markdown",
   "metadata": {
    "application/vnd.databricks.v1+cell": {
     "cellMetadata": {
      "byteLimit": 2048000,
      "rowLimit": 10000
     },
     "inputWidgets": {},
     "nuid": "a4a9af17-769b-4464-903b-5234e98fa300",
     "showTitle": false,
     "title": ""
    },
    "colab_type": "text",
    "id": "Bjr1f1m2XvCN"
   },
   "source": [
    "Look at that, no missing values!"
   ]
  },
  {
   "cell_type": "markdown",
   "metadata": {
    "application/vnd.databricks.v1+cell": {
     "cellMetadata": {
      "byteLimit": 2048000,
      "rowLimit": 10000
     },
     "inputWidgets": {},
     "nuid": "1cd3f3f5-e626-48fc-9411-4e82aac9df9a",
     "showTitle": false,
     "title": ""
    },
    "colab_type": "text",
    "id": "UFtYMGZhXvCN"
   },
   "source": [
    "## Handling Temporal Fields (Timestamp)\n",
    "\n",
    "Now that we have a clean, parsed DataFrame, we have to parse the timestamp field into an actual timestamp. The Common Log Format time is somewhat non-standard. A User-Defined Function (UDF) is the most straightforward way to parse it."
   ]
  },
  {
   "cell_type": "code",
   "execution_count": 0,
   "metadata": {
    "application/vnd.databricks.v1+cell": {
     "cellMetadata": {
      "byteLimit": 2048000,
      "rowLimit": 10000
     },
     "inputWidgets": {},
     "nuid": "aa3535c4-3a57-4e7b-ae76-83fb3e0853d9",
     "showTitle": false,
     "title": ""
    },
    "colab": {},
    "colab_type": "code",
    "id": "k5t5VysnXvCS",
    "outputId": "bebe2bb0-65ec-4d43-dbc9-24cda3c32de0"
   },
   "outputs": [],
   "source": [
    "from pyspark.sql.functions import udf\n",
    "\n",
    "month_map = {\n",
    "  'Jan': 1, 'Feb': 2, 'Mar':3, 'Apr':4, 'May':5, 'Jun':6, 'Jul':7,\n",
    "  'Aug':8,  'Sep': 9, 'Oct':10, 'Nov': 11, 'Dec': 12\n",
    "}\n",
    "\n",
    "def parse_clf_time(text):\n",
    "    \"\"\" Convert Common Log time format into a Python datetime object\n",
    "    Args:\n",
    "        text (str): date and time in Apache time format [dd/mmm/yyyy:hh:mm:ss (+/-)zzzz]\n",
    "    Returns:\n",
    "        a string suitable for passing to CAST('timestamp')\n",
    "    \"\"\"\n",
    "    # NOTE: We're ignoring time zone here. In a production application, you'd want to handle that.\n",
    "    return \"{0:04d}-{1:02d}-{2:02d} {3:02d}:{4:02d}:{5:02d}\".format(\n",
    "      int(text[7:11]),\n",
    "      month_map[text[3:6]],\n",
    "      int(text[0:2]),\n",
    "      int(text[12:14]),\n",
    "      int(text[15:17]),\n",
    "      int(text[18:20])\n",
    "    )"
   ]
  },
  {
   "cell_type": "code",
   "execution_count": 0,
   "metadata": {
    "application/vnd.databricks.v1+cell": {
     "cellMetadata": {
      "byteLimit": 2048000,
      "rowLimit": 10000
     },
     "inputWidgets": {},
     "nuid": "edea295c-5586-4c58-96a5-056df11c6cbf",
     "showTitle": false,
     "title": ""
    },
    "colab": {},
    "colab_type": "code",
    "id": "RLJHPXHwXvCW",
    "outputId": "2e58d673-3c1b-45fa-f283-886c698cfc6d"
   },
   "outputs": [
    {
     "output_type": "stream",
     "name": "stdout",
     "output_type": "stream",
     "text": [
      "Out[35]: ['01/Aug/1995:00:00:01 -0400',\n '01/Aug/1995:00:00:07 -0400',\n '01/Aug/1995:00:00:08 -0400',\n '01/Aug/1995:00:00:08 -0400',\n '01/Aug/1995:00:00:08 -0400']"
     ]
    }
   ],
   "source": [
    "sample_ts = [item['timestamp'] for item in logs_df.select('timestamp').take(5)]\n",
    "sample_ts"
   ]
  },
  {
   "cell_type": "code",
   "execution_count": 0,
   "metadata": {
    "application/vnd.databricks.v1+cell": {
     "cellMetadata": {
      "byteLimit": 2048000,
      "rowLimit": 10000
     },
     "inputWidgets": {},
     "nuid": "ba9ab6a4-5f68-49ef-a102-5c4126eb89da",
     "showTitle": false,
     "title": ""
    },
    "colab": {},
    "colab_type": "code",
    "id": "0K5Yd1Z2XvCY",
    "outputId": "6108f5bb-bbd8-4c11-f9e4-efc491c543e0"
   },
   "outputs": [
    {
     "output_type": "stream",
     "name": "stdout",
     "output_type": "stream",
     "text": [
      "Out[36]: ['1995-08-01 00:00:01',\n '1995-08-01 00:00:07',\n '1995-08-01 00:00:08',\n '1995-08-01 00:00:08',\n '1995-08-01 00:00:08']"
     ]
    }
   ],
   "source": [
    "[parse_clf_time(item) for item in sample_ts]"
   ]
  },
  {
   "cell_type": "code",
   "execution_count": 0,
   "metadata": {
    "application/vnd.databricks.v1+cell": {
     "cellMetadata": {
      "byteLimit": 2048000,
      "rowLimit": 10000
     },
     "inputWidgets": {},
     "nuid": "e21ef671-f374-4f6b-870a-371af7a973d0",
     "showTitle": false,
     "title": ""
    },
    "colab": {},
    "colab_type": "code",
    "id": "WBbQ_QNsXvCb",
    "outputId": "b1e05731-4bff-410d-8c6f-d1637fd0f0a7"
   },
   "outputs": [
    {
     "output_type": "stream",
     "name": "stdout",
     "output_type": "stream",
     "text": [
      "+--------------------+------+--------------------+--------+------+------------+-------------------+\n|                host|method|            endpoint|protocol|status|content_size|               time|\n+--------------------+------+--------------------+--------+------+------------+-------------------+\n|   in24.inetnebr.com|   GET|/shuttle/missions...|HTTP/1.0|   200|        1839|1995-08-01 00:00:01|\n|     uplherc.upl.com|   GET|                   /|HTTP/1.0|   304|           0|1995-08-01 00:00:07|\n|     uplherc.upl.com|   GET|/images/ksclogo-m...|HTTP/1.0|   304|           0|1995-08-01 00:00:08|\n|     uplherc.upl.com|   GET|/images/MOSAIC-lo...|HTTP/1.0|   304|           0|1995-08-01 00:00:08|\n|     uplherc.upl.com|   GET|/images/USA-logos...|HTTP/1.0|   304|           0|1995-08-01 00:00:08|\n|ix-esc-ca2-07.ix....|   GET|/images/launch-lo...|HTTP/1.0|   200|        1713|1995-08-01 00:00:09|\n|     uplherc.upl.com|   GET|/images/WORLD-log...|HTTP/1.0|   304|           0|1995-08-01 00:00:10|\n|slppp6.intermind.net|   GET|/history/skylab/s...|HTTP/1.0|   200|        1687|1995-08-01 00:00:10|\n|piweba4y.prodigy.com|   GET|/images/launchmed...|HTTP/1.0|   200|       11853|1995-08-01 00:00:10|\n|slppp6.intermind.net|   GET|/history/skylab/s...|HTTP/1.0|   200|        9202|1995-08-01 00:00:11|\n+--------------------+------+--------------------+--------+------+------------+-------------------+\nonly showing top 10 rows\n\n"
     ]
    }
   ],
   "source": [
    "udf_parse_time = udf(parse_clf_time)\n",
    "\n",
    "logs_df = logs_df.select('*', udf_parse_time(logs_df['timestamp']).cast('timestamp').alias('time')).drop('timestamp')\n",
    "logs_df.show(10, truncate=True)"
   ]
  },
  {
   "cell_type": "code",
   "execution_count": 0,
   "metadata": {
    "application/vnd.databricks.v1+cell": {
     "cellMetadata": {
      "byteLimit": 2048000,
      "rowLimit": 10000
     },
     "inputWidgets": {},
     "nuid": "111f1b8e-fdda-4a24-a0b1-7facb4b22652",
     "showTitle": false,
     "title": ""
    },
    "colab": {},
    "colab_type": "code",
    "id": "9Yy-eIDtXvCi",
    "outputId": "913a1185-f22d-4ac9-856b-d31db17eca28"
   },
   "outputs": [
    {
     "output_type": "stream",
     "name": "stdout",
     "output_type": "stream",
     "text": [
      "root\n |-- host: string (nullable = true)\n |-- method: string (nullable = true)\n |-- endpoint: string (nullable = true)\n |-- protocol: string (nullable = true)\n |-- status: integer (nullable = true)\n |-- content_size: integer (nullable = false)\n |-- time: timestamp (nullable = true)\n\n"
     ]
    }
   ],
   "source": [
    "logs_df.printSchema()"
   ]
  },
  {
   "cell_type": "code",
   "execution_count": 0,
   "metadata": {
    "application/vnd.databricks.v1+cell": {
     "cellMetadata": {
      "byteLimit": 2048000,
      "rowLimit": 10000
     },
     "inputWidgets": {},
     "nuid": "084d22cd-1f62-45e5-923d-610f04e668c1",
     "showTitle": false,
     "title": ""
    },
    "colab": {},
    "colab_type": "code",
    "id": "wfMB_2JvXvCk",
    "outputId": "dfb9673b-af0c-4232-d28f-674fa1662ac0"
   },
   "outputs": [
    {
     "output_type": "display_data",
     "data": {
      "text/html": [
       "<div>\n",
       "<style scoped>\n",
       "    .dataframe tbody tr th:only-of-type {\n",
       "        vertical-align: middle;\n",
       "    }\n",
       "\n",
       "    .dataframe tbody tr th {\n",
       "        vertical-align: top;\n",
       "    }\n",
       "\n",
       "    .dataframe thead th {\n",
       "        text-align: right;\n",
       "    }\n",
       "</style>\n",
       "<table border=\"1\" class=\"dataframe\">\n",
       "  <thead>\n",
       "    <tr style=\"text-align: right;\">\n",
       "      <th></th>\n",
       "      <th>host</th>\n",
       "      <th>method</th>\n",
       "      <th>endpoint</th>\n",
       "      <th>protocol</th>\n",
       "      <th>status</th>\n",
       "      <th>content_size</th>\n",
       "      <th>time</th>\n",
       "    </tr>\n",
       "  </thead>\n",
       "  <tbody>\n",
       "    <tr>\n",
       "      <th>0</th>\n",
       "      <td>in24.inetnebr.com</td>\n",
       "      <td>GET</td>\n",
       "      <td>/shuttle/missions/sts-68/news/sts-68-mcc-05.txt</td>\n",
       "      <td>HTTP/1.0</td>\n",
       "      <td>200</td>\n",
       "      <td>1839</td>\n",
       "      <td>1995-08-01 00:00:01</td>\n",
       "    </tr>\n",
       "    <tr>\n",
       "      <th>1</th>\n",
       "      <td>uplherc.upl.com</td>\n",
       "      <td>GET</td>\n",
       "      <td>/</td>\n",
       "      <td>HTTP/1.0</td>\n",
       "      <td>304</td>\n",
       "      <td>0</td>\n",
       "      <td>1995-08-01 00:00:07</td>\n",
       "    </tr>\n",
       "    <tr>\n",
       "      <th>2</th>\n",
       "      <td>uplherc.upl.com</td>\n",
       "      <td>GET</td>\n",
       "      <td>/images/ksclogo-medium.gif</td>\n",
       "      <td>HTTP/1.0</td>\n",
       "      <td>304</td>\n",
       "      <td>0</td>\n",
       "      <td>1995-08-01 00:00:08</td>\n",
       "    </tr>\n",
       "    <tr>\n",
       "      <th>3</th>\n",
       "      <td>uplherc.upl.com</td>\n",
       "      <td>GET</td>\n",
       "      <td>/images/MOSAIC-logosmall.gif</td>\n",
       "      <td>HTTP/1.0</td>\n",
       "      <td>304</td>\n",
       "      <td>0</td>\n",
       "      <td>1995-08-01 00:00:08</td>\n",
       "    </tr>\n",
       "    <tr>\n",
       "      <th>4</th>\n",
       "      <td>uplherc.upl.com</td>\n",
       "      <td>GET</td>\n",
       "      <td>/images/USA-logosmall.gif</td>\n",
       "      <td>HTTP/1.0</td>\n",
       "      <td>304</td>\n",
       "      <td>0</td>\n",
       "      <td>1995-08-01 00:00:08</td>\n",
       "    </tr>\n",
       "  </tbody>\n",
       "</table>\n",
       "</div>"
      ]
     },
     "metadata": {
      "application/vnd.databricks.v1+output": {
       "addedWidgets": {},
       "arguments": {},
       "data": "<div>\n<style scoped>\n    .dataframe tbody tr th:only-of-type {\n        vertical-align: middle;\n    }\n\n    .dataframe tbody tr th {\n        vertical-align: top;\n    }\n\n    .dataframe thead th {\n        text-align: right;\n    }\n</style>\n<table border=\"1\" class=\"dataframe\">\n  <thead>\n    <tr style=\"text-align: right;\">\n      <th></th>\n      <th>host</th>\n      <th>method</th>\n      <th>endpoint</th>\n      <th>protocol</th>\n      <th>status</th>\n      <th>content_size</th>\n      <th>time</th>\n    </tr>\n  </thead>\n  <tbody>\n    <tr>\n      <th>0</th>\n      <td>in24.inetnebr.com</td>\n      <td>GET</td>\n      <td>/shuttle/missions/sts-68/news/sts-68-mcc-05.txt</td>\n      <td>HTTP/1.0</td>\n      <td>200</td>\n      <td>1839</td>\n      <td>1995-08-01 00:00:01</td>\n    </tr>\n    <tr>\n      <th>1</th>\n      <td>uplherc.upl.com</td>\n      <td>GET</td>\n      <td>/</td>\n      <td>HTTP/1.0</td>\n      <td>304</td>\n      <td>0</td>\n      <td>1995-08-01 00:00:07</td>\n    </tr>\n    <tr>\n      <th>2</th>\n      <td>uplherc.upl.com</td>\n      <td>GET</td>\n      <td>/images/ksclogo-medium.gif</td>\n      <td>HTTP/1.0</td>\n      <td>304</td>\n      <td>0</td>\n      <td>1995-08-01 00:00:08</td>\n    </tr>\n    <tr>\n      <th>3</th>\n      <td>uplherc.upl.com</td>\n      <td>GET</td>\n      <td>/images/MOSAIC-logosmall.gif</td>\n      <td>HTTP/1.0</td>\n      <td>304</td>\n      <td>0</td>\n      <td>1995-08-01 00:00:08</td>\n    </tr>\n    <tr>\n      <th>4</th>\n      <td>uplherc.upl.com</td>\n      <td>GET</td>\n      <td>/images/USA-logosmall.gif</td>\n      <td>HTTP/1.0</td>\n      <td>304</td>\n      <td>0</td>\n      <td>1995-08-01 00:00:08</td>\n    </tr>\n  </tbody>\n</table>\n</div>",
       "datasetInfos": [],
       "metadata": {},
       "removedWidgets": [],
       "textData": null,
       "type": "htmlSandbox"
      }
     },
     "output_type": "display_data"
    }
   ],
   "source": [
    "logs_df.limit(5).toPandas()"
   ]
  },
  {
   "cell_type": "markdown",
   "metadata": {
    "application/vnd.databricks.v1+cell": {
     "cellMetadata": {
      "byteLimit": 2048000,
      "rowLimit": 10000
     },
     "inputWidgets": {},
     "nuid": "8e7fa09d-aea9-4e77-95ae-b043a3182f51",
     "showTitle": false,
     "title": ""
    },
    "colab_type": "text",
    "id": "cn3ghlDsXvCp"
   },
   "source": [
    "Let's now cache `logs_df` since we will be using it extensively for our data analysis section in the next part!"
   ]
  },
  {
   "cell_type": "markdown",
   "metadata": {
    "application/vnd.databricks.v1+cell": {
     "cellMetadata": {
      "byteLimit": 2048000,
      "rowLimit": 10000
     },
     "inputWidgets": {},
     "nuid": "05fda1b1-f83c-4753-bdd6-50e3cf71dcbe",
     "showTitle": false,
     "title": ""
    },
    "colab_type": "text",
    "id": "1WTHkvANXvCq"
   },
   "source": [
    "# Step 2 - Exploratory Data Analysis on our Web Logs\n",
    "\n",
    "Now that we have a DataFrame containing the parsed log file as a data frame, we can perform some interesting exploratory data analysis (EDA)\n",
    "\n",
    "## Example: Content Size Statistics\n",
    "\n",
    "Let's compute some statistics about the sizes of content being returned by the web server. In particular, we'd like to know what are the average, minimum, and maximum content sizes.\n",
    "\n",
    "We can compute the statistics by calling `.describe()` on the `content_size` column of `logs_df`.  The `.describe()` function returns the count, mean, stddev, min, and max of a given column."
   ]
  },
  {
   "cell_type": "code",
   "execution_count": 0,
   "metadata": {
    "application/vnd.databricks.v1+cell": {
     "cellMetadata": {
      "byteLimit": 2048000,
      "rowLimit": 10000
     },
     "inputWidgets": {},
     "nuid": "c0d89ec8-326a-424d-b1c6-c1a7d2487d06",
     "showTitle": false,
     "title": ""
    },
    "colab": {},
    "colab_type": "code",
    "id": "FHkVy3ZXXvCr",
    "outputId": "cd083d90-c450-4d64-9d56-c8e1f5dd1eed"
   },
   "outputs": [
    {
     "output_type": "display_data",
     "data": {
      "text/html": [
       "<div>\n",
       "<style scoped>\n",
       "    .dataframe tbody tr th:only-of-type {\n",
       "        vertical-align: middle;\n",
       "    }\n",
       "\n",
       "    .dataframe tbody tr th {\n",
       "        vertical-align: top;\n",
       "    }\n",
       "\n",
       "    .dataframe thead th {\n",
       "        text-align: right;\n",
       "    }\n",
       "</style>\n",
       "<table border=\"1\" class=\"dataframe\">\n",
       "  <thead>\n",
       "    <tr style=\"text-align: right;\">\n",
       "      <th></th>\n",
       "      <th>summary</th>\n",
       "      <th>content_size</th>\n",
       "    </tr>\n",
       "  </thead>\n",
       "  <tbody>\n",
       "    <tr>\n",
       "      <th>0</th>\n",
       "      <td>count</td>\n",
       "      <td>3461612</td>\n",
       "    </tr>\n",
       "    <tr>\n",
       "      <th>1</th>\n",
       "      <td>mean</td>\n",
       "      <td>18928.844398216785</td>\n",
       "    </tr>\n",
       "    <tr>\n",
       "      <th>2</th>\n",
       "      <td>stddev</td>\n",
       "      <td>73031.47260949282</td>\n",
       "    </tr>\n",
       "    <tr>\n",
       "      <th>3</th>\n",
       "      <td>min</td>\n",
       "      <td>0</td>\n",
       "    </tr>\n",
       "    <tr>\n",
       "      <th>4</th>\n",
       "      <td>max</td>\n",
       "      <td>6823936</td>\n",
       "    </tr>\n",
       "  </tbody>\n",
       "</table>\n",
       "</div>"
      ]
     },
     "metadata": {
      "application/vnd.databricks.v1+output": {
       "addedWidgets": {},
       "arguments": {},
       "data": "<div>\n<style scoped>\n    .dataframe tbody tr th:only-of-type {\n        vertical-align: middle;\n    }\n\n    .dataframe tbody tr th {\n        vertical-align: top;\n    }\n\n    .dataframe thead th {\n        text-align: right;\n    }\n</style>\n<table border=\"1\" class=\"dataframe\">\n  <thead>\n    <tr style=\"text-align: right;\">\n      <th></th>\n      <th>summary</th>\n      <th>content_size</th>\n    </tr>\n  </thead>\n  <tbody>\n    <tr>\n      <th>0</th>\n      <td>count</td>\n      <td>3461612</td>\n    </tr>\n    <tr>\n      <th>1</th>\n      <td>mean</td>\n      <td>18928.844398216785</td>\n    </tr>\n    <tr>\n      <th>2</th>\n      <td>stddev</td>\n      <td>73031.47260949282</td>\n    </tr>\n    <tr>\n      <th>3</th>\n      <td>min</td>\n      <td>0</td>\n    </tr>\n    <tr>\n      <th>4</th>\n      <td>max</td>\n      <td>6823936</td>\n    </tr>\n  </tbody>\n</table>\n</div>",
       "datasetInfos": [],
       "metadata": {},
       "removedWidgets": [],
       "textData": null,
       "type": "htmlSandbox"
      }
     },
     "output_type": "display_data"
    }
   ],
   "source": [
    "content_size_summary_df = logs_df.describe(['content_size'])\n",
    "content_size_summary_df.toPandas()"
   ]
  },
  {
   "cell_type": "markdown",
   "metadata": {
    "application/vnd.databricks.v1+cell": {
     "cellMetadata": {
      "byteLimit": 2048000,
      "rowLimit": 10000
     },
     "inputWidgets": {},
     "nuid": "b31d9edd-b0ca-40a8-a93b-5b1e1bcabde5",
     "showTitle": false,
     "title": ""
    },
    "colab_type": "text",
    "id": "fY1S9FPAXvCv"
   },
   "source": [
    "Alternatively, we can use SQL to directly calculate these statistics.  You can explore many useful functions within the `pyspark.sql.functions` module in the [documentation](https://spark.apache.org/docs/latest/api/python/pyspark.sql.html#module-pyspark.sql.functions).\n",
    "\n",
    "After we apply the `.agg()` function, we call `toPandas()` to extract and convert the result into a `pandas` dataframe which has better formatting on Jupyter notebooks"
   ]
  },
  {
   "cell_type": "code",
   "execution_count": 0,
   "metadata": {
    "application/vnd.databricks.v1+cell": {
     "cellMetadata": {
      "byteLimit": 2048000,
      "rowLimit": 10000
     },
     "inputWidgets": {},
     "nuid": "c3393087-cf1f-421b-ab40-18e05c1b3bbb",
     "showTitle": false,
     "title": ""
    },
    "colab": {},
    "colab_type": "code",
    "id": "nonAax8AXvCx",
    "outputId": "1a9a01ac-35f3-44ab-f105-5759f8f79b9a"
   },
   "outputs": [
    {
     "output_type": "display_data",
     "data": {
      "text/html": [
       "<div>\n",
       "<style scoped>\n",
       "    .dataframe tbody tr th:only-of-type {\n",
       "        vertical-align: middle;\n",
       "    }\n",
       "\n",
       "    .dataframe tbody tr th {\n",
       "        vertical-align: top;\n",
       "    }\n",
       "\n",
       "    .dataframe thead th {\n",
       "        text-align: right;\n",
       "    }\n",
       "</style>\n",
       "<table border=\"1\" class=\"dataframe\">\n",
       "  <thead>\n",
       "    <tr style=\"text-align: right;\">\n",
       "      <th></th>\n",
       "      <th>min_content_size</th>\n",
       "      <th>max_content_size</th>\n",
       "      <th>mean_content_size</th>\n",
       "      <th>std_content_size</th>\n",
       "      <th>count_content_size</th>\n",
       "    </tr>\n",
       "  </thead>\n",
       "  <tbody>\n",
       "    <tr>\n",
       "      <th>0</th>\n",
       "      <td>0</td>\n",
       "      <td>6823936</td>\n",
       "      <td>18928.844398</td>\n",
       "      <td>73031.472609</td>\n",
       "      <td>3461612</td>\n",
       "    </tr>\n",
       "  </tbody>\n",
       "</table>\n",
       "</div>"
      ]
     },
     "metadata": {
      "application/vnd.databricks.v1+output": {
       "addedWidgets": {},
       "arguments": {},
       "data": "<div>\n<style scoped>\n    .dataframe tbody tr th:only-of-type {\n        vertical-align: middle;\n    }\n\n    .dataframe tbody tr th {\n        vertical-align: top;\n    }\n\n    .dataframe thead th {\n        text-align: right;\n    }\n</style>\n<table border=\"1\" class=\"dataframe\">\n  <thead>\n    <tr style=\"text-align: right;\">\n      <th></th>\n      <th>min_content_size</th>\n      <th>max_content_size</th>\n      <th>mean_content_size</th>\n      <th>std_content_size</th>\n      <th>count_content_size</th>\n    </tr>\n  </thead>\n  <tbody>\n    <tr>\n      <th>0</th>\n      <td>0</td>\n      <td>6823936</td>\n      <td>18928.844398</td>\n      <td>73031.472609</td>\n      <td>3461612</td>\n    </tr>\n  </tbody>\n</table>\n</div>",
       "datasetInfos": [],
       "metadata": {},
       "removedWidgets": [],
       "textData": null,
       "type": "htmlSandbox"
      }
     },
     "output_type": "display_data"
    }
   ],
   "source": [
    "from pyspark.sql import functions as F\n",
    "\n",
    "(logs_df.agg(F.min(logs_df['content_size']).alias('min_content_size'),\n",
    "             F.max(logs_df['content_size']).alias('max_content_size'),\n",
    "             F.mean(logs_df['content_size']).alias('mean_content_size'),\n",
    "             F.stddev(logs_df['content_size']).alias('std_content_size'),\n",
    "             F.count(logs_df['content_size']).alias('count_content_size'))\n",
    "        .toPandas())"
   ]
  },
  {
   "cell_type": "markdown",
   "metadata": {
    "application/vnd.databricks.v1+cell": {
     "cellMetadata": {
      "byteLimit": 2048000,
      "rowLimit": 10000
     },
     "inputWidgets": {},
     "nuid": "44bffb8e-6e94-4205-81b5-7955e59d1819",
     "showTitle": false,
     "title": ""
    },
    "colab_type": "text",
    "id": "8hat3HPwXvC0"
   },
   "source": [
    "## Example: HTTP Status Code Analysis\n",
    "\n",
    "Next, let's look at the status code values that appear in the log. We want to know which status code values appear in the data and how many times.  \n",
    "\n",
    "We again start with `logs_df`, then group by the `status` column, apply the `.count()` aggregation function, and sort by the `status` column."
   ]
  },
  {
   "cell_type": "code",
   "execution_count": 0,
   "metadata": {
    "application/vnd.databricks.v1+cell": {
     "cellMetadata": {
      "byteLimit": 2048000,
      "rowLimit": 10000
     },
     "inputWidgets": {},
     "nuid": "c7ede0e9-2634-4eed-a700-caddb9a2443d",
     "showTitle": false,
     "title": ""
    },
    "colab": {},
    "colab_type": "code",
    "collapsed": true,
    "id": "jL-vEt0FXvC1",
    "outputId": "8ee8079f-8b03-4e70-8335-cbd7b2d0b1bc"
   },
   "outputs": [],
   "source": [
    "status_freq_df = (logs_df\n",
    "                     .groupBy('status')\n",
    "                     .count()\n",
    "                     .sort('status')\n",
    "                     .cache())"
   ]
  },
  {
   "cell_type": "code",
   "execution_count": 0,
   "metadata": {
    "application/vnd.databricks.v1+cell": {
     "cellMetadata": {
      "byteLimit": 2048000,
      "rowLimit": 10000
     },
     "inputWidgets": {},
     "nuid": "3950edbb-c2da-40f2-93f6-bfd68bab61f1",
     "showTitle": false,
     "title": ""
    },
    "colab": {},
    "colab_type": "code",
    "id": "a0iPsCW2XvC3",
    "outputId": "64fbd3f8-cf08-4ca3-de33-32349d3d6597"
   },
   "outputs": [
    {
     "output_type": "stream",
     "name": "stdout",
     "output_type": "stream",
     "text": [
      "Total distinct HTTP Status Codes: 8\n"
     ]
    }
   ],
   "source": [
    "print('Total distinct HTTP Status Codes:', status_freq_df.count())"
   ]
  },
  {
   "cell_type": "code",
   "execution_count": 0,
   "metadata": {
    "application/vnd.databricks.v1+cell": {
     "cellMetadata": {
      "byteLimit": 2048000,
      "rowLimit": 10000
     },
     "inputWidgets": {},
     "nuid": "3fae7e9f-0b02-4563-b421-ed37d8dcd1ba",
     "showTitle": false,
     "title": ""
    },
    "colab": {},
    "colab_type": "code",
    "id": "SZO7ncjdXvC6",
    "outputId": "0344aef8-367b-476b-fc2c-e6c1346d3da9"
   },
   "outputs": [
    {
     "output_type": "display_data",
     "data": {
      "text/html": [
       "<div>\n",
       "<style scoped>\n",
       "    .dataframe tbody tr th:only-of-type {\n",
       "        vertical-align: middle;\n",
       "    }\n",
       "\n",
       "    .dataframe tbody tr th {\n",
       "        vertical-align: top;\n",
       "    }\n",
       "\n",
       "    .dataframe thead th {\n",
       "        text-align: right;\n",
       "    }\n",
       "</style>\n",
       "<table border=\"1\" class=\"dataframe\">\n",
       "  <thead>\n",
       "    <tr style=\"text-align: right;\">\n",
       "      <th></th>\n",
       "      <th>status</th>\n",
       "      <th>count</th>\n",
       "    </tr>\n",
       "  </thead>\n",
       "  <tbody>\n",
       "    <tr>\n",
       "      <th>0</th>\n",
       "      <td>200</td>\n",
       "      <td>3100524</td>\n",
       "    </tr>\n",
       "    <tr>\n",
       "      <th>1</th>\n",
       "      <td>302</td>\n",
       "      <td>73070</td>\n",
       "    </tr>\n",
       "    <tr>\n",
       "      <th>2</th>\n",
       "      <td>304</td>\n",
       "      <td>266773</td>\n",
       "    </tr>\n",
       "    <tr>\n",
       "      <th>3</th>\n",
       "      <td>400</td>\n",
       "      <td>15</td>\n",
       "    </tr>\n",
       "    <tr>\n",
       "      <th>4</th>\n",
       "      <td>403</td>\n",
       "      <td>225</td>\n",
       "    </tr>\n",
       "    <tr>\n",
       "      <th>5</th>\n",
       "      <td>404</td>\n",
       "      <td>20899</td>\n",
       "    </tr>\n",
       "    <tr>\n",
       "      <th>6</th>\n",
       "      <td>500</td>\n",
       "      <td>65</td>\n",
       "    </tr>\n",
       "    <tr>\n",
       "      <th>7</th>\n",
       "      <td>501</td>\n",
       "      <td>41</td>\n",
       "    </tr>\n",
       "  </tbody>\n",
       "</table>\n",
       "</div>"
      ]
     },
     "metadata": {
      "application/vnd.databricks.v1+output": {
       "addedWidgets": {},
       "arguments": {},
       "data": "<div>\n<style scoped>\n    .dataframe tbody tr th:only-of-type {\n        vertical-align: middle;\n    }\n\n    .dataframe tbody tr th {\n        vertical-align: top;\n    }\n\n    .dataframe thead th {\n        text-align: right;\n    }\n</style>\n<table border=\"1\" class=\"dataframe\">\n  <thead>\n    <tr style=\"text-align: right;\">\n      <th></th>\n      <th>status</th>\n      <th>count</th>\n    </tr>\n  </thead>\n  <tbody>\n    <tr>\n      <th>0</th>\n      <td>200</td>\n      <td>3100524</td>\n    </tr>\n    <tr>\n      <th>1</th>\n      <td>302</td>\n      <td>73070</td>\n    </tr>\n    <tr>\n      <th>2</th>\n      <td>304</td>\n      <td>266773</td>\n    </tr>\n    <tr>\n      <th>3</th>\n      <td>400</td>\n      <td>15</td>\n    </tr>\n    <tr>\n      <th>4</th>\n      <td>403</td>\n      <td>225</td>\n    </tr>\n    <tr>\n      <th>5</th>\n      <td>404</td>\n      <td>20899</td>\n    </tr>\n    <tr>\n      <th>6</th>\n      <td>500</td>\n      <td>65</td>\n    </tr>\n    <tr>\n      <th>7</th>\n      <td>501</td>\n      <td>41</td>\n    </tr>\n  </tbody>\n</table>\n</div>",
       "datasetInfos": [],
       "metadata": {},
       "removedWidgets": [],
       "textData": null,
       "type": "htmlSandbox"
      }
     },
     "output_type": "display_data"
    }
   ],
   "source": [
    "status_freq_pd_df = status_freq_df.toPandas()\n",
    "status_freq_pd_df"
   ]
  },
  {
   "cell_type": "code",
   "execution_count": 0,
   "metadata": {
    "application/vnd.databricks.v1+cell": {
     "cellMetadata": {
      "byteLimit": 2048000,
      "rowLimit": 10000
     },
     "inputWidgets": {},
     "nuid": "7785fdb7-e10a-4948-b4b9-44f415bb6b07",
     "showTitle": false,
     "title": ""
    },
    "colab": {},
    "colab_type": "code",
    "id": "KXkKQA-WXvC8"
   },
   "outputs": [
    {
     "output_type": "stream",
     "name": "stdout",
     "output_type": "stream",
     "text": [
      "Out[45]: <AxesSubplot:xlabel='status'>"
     ]
    },
    {
     "output_type": "display_data",
     "data": {
      "image/png": "[encoded data removed]"
     },
     "metadata": {
      "application/vnd.databricks.v1+output": {
       "addedWidgets": {},
       "arguments": {},
       "data": "data:image/png;base64,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\n",
       "datasetInfos": [],
       "metadata": {},
       "removedWidgets": [],
       "type": "image"
      }
     },
     "output_type": "display_data"
    }
   ],
   "source": [
    "import matplotlib.pyplot as plt\n",
    "%matplotlib inline\n",
    "\n",
    "status_freq_pd_df.plot(x='status', y='count', kind='bar')"
   ]
  },
  {
   "cell_type": "code",
   "execution_count": 0,
   "metadata": {
    "application/vnd.databricks.v1+cell": {
     "cellMetadata": {
      "byteLimit": 2048000,
      "rowLimit": 10000
     },
     "inputWidgets": {},
     "nuid": "8560670f-64c8-4cd5-9454-a69415910786",
     "showTitle": false,
     "title": ""
    },
    "colab": {},
    "colab_type": "code",
    "id": "iabid8S6XvC_",
    "outputId": "31df7ac0-35f9-4f9e-f059-c4267865c9b6"
   },
   "outputs": [
    {
     "output_type": "stream",
     "name": "stdout",
     "output_type": "stream",
     "text": [
      "+------+-------+------------------+\n|status|  count|        log(count)|\n+------+-------+------------------+\n|   200|3100524|14.947081687429097|\n|   302|  73070|11.199173164785263|\n|   304| 266773|12.494153388502301|\n|   400|     15|  2.70805020110221|\n|   403|    225|  5.41610040220442|\n|   404|  20899| 9.947456589918252|\n|   500|     65| 4.174387269895637|\n|   501|     41| 3.713572066704308|\n+------+-------+------------------+\n\n"
     ]
    }
   ],
   "source": [
    "log_freq_df = status_freq_df.withColumn('log(count)', F.log(status_freq_df['count']))\n",
    "log_freq_df.show()"
   ]
  },
  {
   "cell_type": "markdown",
   "metadata": {
    "application/vnd.databricks.v1+cell": {
     "cellMetadata": {
      "byteLimit": 2048000,
      "rowLimit": 10000
     },
     "inputWidgets": {},
     "nuid": "9352b45f-1081-40b4-8e12-90907dca0673",
     "showTitle": false,
     "title": ""
    },
    "colab_type": "text",
    "id": "CWcfTjlUXvDC"
   },
   "source": [
    "#### Q5: Your Turn: Convert the log\\_freq\\_df to a pandas DataFrame and plot a bar chart displaying counts of each HTTP Status Code"
   ]
  },
  {
   "cell_type": "code",
   "execution_count": 0,
   "metadata": {
    "application/vnd.databricks.v1+cell": {
     "cellMetadata": {
      "byteLimit": 2048000,
      "rowLimit": 10000
     },
     "inputWidgets": {},
     "nuid": "515ec047-526c-4123-b05e-4e038e28a4fd",
     "showTitle": false,
     "title": ""
    },
    "colab": {},
    "colab_type": "code",
    "id": "RWWwF5NcXvDD"
   },
   "outputs": [
    {
     "output_type": "stream",
     "name": "stdout",
     "output_type": "stream",
     "text": [
      "Out[47]: <AxesSubplot:xlabel='status'>"
     ]
    },
    {
     "output_type": "display_data",
     "data": {
      "image/png": "[encoded data removed]"
     },
     "metadata": {
      "application/vnd.databricks.v1+output": {
       "addedWidgets": {},
       "arguments": {},
       "data": "data:image/png;base64,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\n",
       "datasetInfos": [],
       "metadata": {},
       "removedWidgets": [],
       "type": "image"
      }
     },
     "output_type": "display_data"
    }
   ],
   "source": [
    "# TODO: Replace <FILL IN> with appropriate code\n",
    "log_freq_pd_df = log_freq_df.toPandas()\n",
    "log_freq_pd_df.plot(x='status', y='log(count)', kind='bar')"
   ]
  },
  {
   "cell_type": "markdown",
   "metadata": {
    "application/vnd.databricks.v1+cell": {
     "cellMetadata": {
      "byteLimit": 2048000,
      "rowLimit": 10000
     },
     "inputWidgets": {},
     "nuid": "71b57995-1d90-4efa-b26b-b3c2defe203c",
     "showTitle": false,
     "title": ""
    },
    "colab_type": "text",
    "id": "k5oXMLxSXvDH"
   },
   "source": [
    "## Your Turn: Q6: Analyzing Frequent Hosts\n",
    "\n",
    "Let's look at hosts that have accessed the server frequently. Try to get the count of total accesses by each `host` and then sort by the counts and display only the top ten most frequent hosts.\n",
    "\n",
    "__Hints:__\n",
    "\n",
    "- Your Spark DataFrame has a `host` column\n",
    "- Get the counts per `host` which would make a `count` column\n",
    "- Sort by the counts. Please check [__the documentation__](https://spark.apache.org/docs/latest/api/python/pyspark.sql.html#pyspark.sql.DataFrame.sort) to see how to sort in reverse\n",
    "- Remember only to get the top 10 rows from the aggregated dataframe and show them"
   ]
  },
  {
   "cell_type": "code",
   "execution_count": 0,
   "metadata": {
    "application/vnd.databricks.v1+cell": {
     "cellMetadata": {
      "byteLimit": 2048000,
      "rowLimit": 10000
     },
     "inputWidgets": {},
     "nuid": "0a972234-1646-4f0c-9a09-3a04422eee63",
     "showTitle": false,
     "title": ""
    },
    "colab": {},
    "colab_type": "code",
    "id": "eBBayokUXvDM",
    "outputId": "83a26ad7-21c2-4b15-b527-5de9ac5b8c5c"
   },
   "outputs": [
    {
     "output_type": "stream",
     "name": "stdout",
     "output_type": "stream",
     "text": [
      "+--------------------+-----+\n|host                |count|\n+--------------------+-----+\n|piweba3y.prodigy.com|21988|\n|piweba4y.prodigy.com|16437|\n|piweba1y.prodigy.com|12825|\n|edams.ksc.nasa.gov  |11964|\n|163.206.89.4        |9697 |\n|news.ti.com         |8161 |\n|www-d1.proxy.aol.com|8047 |\n|alyssa.prodigy.com  |8037 |\n|                    |7660 |\n|siltb10.orl.mmc.com |7573 |\n|www-a2.proxy.aol.com|7516 |\n|www-b2.proxy.aol.com|7266 |\n|piweba2y.prodigy.com|7246 |\n|www-b3.proxy.aol.com|7218 |\n|www-d4.proxy.aol.com|7211 |\n|www-b5.proxy.aol.com|7080 |\n|www-d2.proxy.aol.com|6984 |\n|www-b4.proxy.aol.com|6972 |\n|www-d3.proxy.aol.com|6895 |\n|webgate1.mot.com    |6749 |\n+--------------------+-----+\nonly showing top 20 rows\n\n"
     ]
    }
   ],
   "source": [
    "# TODO: Replace <FILL IN> with appropriate code\n",
    "\n",
    "host_sum_df = (logs_df\n",
    "                     .groupBy('host')\n",
    "                     .count()\n",
    "                     .sort('count', ascending=False)\n",
    "                     .cache())\n",
    "\n",
    "host_sum_df.show(truncate=False)"
   ]
  },
  {
   "cell_type": "code",
   "execution_count": 0,
   "metadata": {
    "application/vnd.databricks.v1+cell": {
     "cellMetadata": {
      "byteLimit": 2048000,
      "rowLimit": 10000
     },
     "inputWidgets": {},
     "nuid": "e6cb12db-3dc5-47fc-82be-73c840a6b218",
     "showTitle": false,
     "title": ""
    },
    "colab": {},
    "colab_type": "code",
    "id": "1dv8Ny3iXvDQ",
    "outputId": "ea532f95-2ff4-4e36-abc5-36297902d8e6"
   },
   "outputs": [
    {
     "output_type": "stream",
     "name": "stdout",
     "output_type": "stream",
     "text": [
      "Out[49]: ''"
     ]
    }
   ],
   "source": [
    "host_sum_pd_df = host_sum_df.toPandas()\n",
    "host_sum_pd_df.iloc[8]['host']"
   ]
  },
  {
   "cell_type": "markdown",
   "metadata": {
    "application/vnd.databricks.v1+cell": {
     "cellMetadata": {
      "byteLimit": 2048000,
      "rowLimit": 10000
     },
     "inputWidgets": {},
     "nuid": "c39d58ed-22b9-49b7-95b2-090751dd2ac1",
     "showTitle": false,
     "title": ""
    },
    "colab_type": "text",
    "id": "qJNpJU2VXvDT"
   },
   "source": [
    "Looks like we have some empty strings as one of the top host names! This teaches us a valuable lesson to not just check for nulls but also potentially empty strings when data wrangling."
   ]
  },
  {
   "cell_type": "markdown",
   "metadata": {
    "application/vnd.databricks.v1+cell": {
     "cellMetadata": {
      "byteLimit": 2048000,
      "rowLimit": 10000
     },
     "inputWidgets": {},
     "nuid": "aed8bd79-9cdc-45eb-8e65-1f27f539dfb5",
     "showTitle": false,
     "title": ""
    },
    "colab_type": "text",
    "id": "Pq5jiBtIXvDU"
   },
   "source": [
    "## Your Turn: Q7: Display the Top 20 Frequent EndPoints\n",
    "\n",
    "Now, let's visualize the number of hits to endpoints (URIs) in the log. To perform this task, start with our `logs_df` and group by the `endpoint` column, aggregate by count, and sort in descending order like the previous question. Also remember to show only the top 20 most frequently accessed endpoints"
   ]
  },
  {
   "cell_type": "code",
   "execution_count": 0,
   "metadata": {
    "application/vnd.databricks.v1+cell": {
     "cellMetadata": {
      "byteLimit": 2048000,
      "rowLimit": 10000
     },
     "inputWidgets": {},
     "nuid": "35e94230-e387-4dae-9217-d6327d6803c3",
     "showTitle": false,
     "title": ""
    },
    "colab": {},
    "colab_type": "code",
    "id": "oxZRXX-AXvDU",
    "outputId": "bae76bd6-6f67-478c-ea46-928f545cf4bc"
   },
   "outputs": [],
   "source": [
    "# TODO: Replace <FILL IN> with appropriate code\n",
    "\n",
    "paths_df = logs_df.groupby('endpoint').count().sort('count', ascending=False).limit(20)"
   ]
  },
  {
   "cell_type": "code",
   "execution_count": 0,
   "metadata": {
    "application/vnd.databricks.v1+cell": {
     "cellMetadata": {
      "byteLimit": 2048000,
      "rowLimit": 10000
     },
     "inputWidgets": {},
     "nuid": "4de460ef-57d8-41cf-8b83-802391cb3f55",
     "showTitle": false,
     "title": ""
    },
    "colab": {},
    "colab_type": "code",
    "id": "DwfjJG2jXvDX",
    "outputId": "d44c9385-5a6b-4157-83bc-d4d6832cc6a6"
   },
   "outputs": [
    {
     "output_type": "display_data",
     "data": {
      "text/html": [
       "<div>\n",
       "<style scoped>\n",
       "    .dataframe tbody tr th:only-of-type {\n",
       "        vertical-align: middle;\n",
       "    }\n",
       "\n",
       "    .dataframe tbody tr th {\n",
       "        vertical-align: top;\n",
       "    }\n",
       "\n",
       "    .dataframe thead th {\n",
       "        text-align: right;\n",
       "    }\n",
       "</style>\n",
       "<table border=\"1\" class=\"dataframe\">\n",
       "  <thead>\n",
       "    <tr style=\"text-align: right;\">\n",
       "      <th></th>\n",
       "      <th>endpoint</th>\n",
       "      <th>count</th>\n",
       "    </tr>\n",
       "  </thead>\n",
       "  <tbody>\n",
       "    <tr>\n",
       "      <th>0</th>\n",
       "      <td>/images/NASA-logosmall.gif</td>\n",
       "      <td>208714</td>\n",
       "    </tr>\n",
       "    <tr>\n",
       "      <th>1</th>\n",
       "      <td>/images/KSC-logosmall.gif</td>\n",
       "      <td>164970</td>\n",
       "    </tr>\n",
       "    <tr>\n",
       "      <th>2</th>\n",
       "      <td>/images/MOSAIC-logosmall.gif</td>\n",
       "      <td>127908</td>\n",
       "    </tr>\n",
       "    <tr>\n",
       "      <th>3</th>\n",
       "      <td>/images/USA-logosmall.gif</td>\n",
       "      <td>127074</td>\n",
       "    </tr>\n",
       "    <tr>\n",
       "      <th>4</th>\n",
       "      <td>/images/WORLD-logosmall.gif</td>\n",
       "      <td>125925</td>\n",
       "    </tr>\n",
       "    <tr>\n",
       "      <th>5</th>\n",
       "      <td>/images/ksclogo-medium.gif</td>\n",
       "      <td>121572</td>\n",
       "    </tr>\n",
       "    <tr>\n",
       "      <th>6</th>\n",
       "      <td>/ksc.html</td>\n",
       "      <td>83909</td>\n",
       "    </tr>\n",
       "    <tr>\n",
       "      <th>7</th>\n",
       "      <td>/images/launch-logo.gif</td>\n",
       "      <td>76006</td>\n",
       "    </tr>\n",
       "    <tr>\n",
       "      <th>8</th>\n",
       "      <td>/history/apollo/images/apollo-logo1.gif</td>\n",
       "      <td>68896</td>\n",
       "    </tr>\n",
       "    <tr>\n",
       "      <th>9</th>\n",
       "      <td>/shuttle/countdown/</td>\n",
       "      <td>64736</td>\n",
       "    </tr>\n",
       "    <tr>\n",
       "      <th>10</th>\n",
       "      <td>/</td>\n",
       "      <td>63171</td>\n",
       "    </tr>\n",
       "    <tr>\n",
       "      <th>11</th>\n",
       "      <td>/images/ksclogosmall.gif</td>\n",
       "      <td>61393</td>\n",
       "    </tr>\n",
       "    <tr>\n",
       "      <th>12</th>\n",
       "      <td>/shuttle/missions/missions.html</td>\n",
       "      <td>47315</td>\n",
       "    </tr>\n",
       "    <tr>\n",
       "      <th>13</th>\n",
       "      <td>/images/launchmedium.gif</td>\n",
       "      <td>40687</td>\n",
       "    </tr>\n",
       "    <tr>\n",
       "      <th>14</th>\n",
       "      <td>/htbin/cdt_main.pl</td>\n",
       "      <td>39871</td>\n",
       "    </tr>\n",
       "    <tr>\n",
       "      <th>15</th>\n",
       "      <td>/shuttle/missions/sts-69/mission-sts-69.html</td>\n",
       "      <td>31574</td>\n",
       "    </tr>\n",
       "    <tr>\n",
       "      <th>16</th>\n",
       "      <td>/shuttle/countdown/liftoff.html</td>\n",
       "      <td>29865</td>\n",
       "    </tr>\n",
       "    <tr>\n",
       "      <th>17</th>\n",
       "      <td>/icons/menu.xbm</td>\n",
       "      <td>29190</td>\n",
       "    </tr>\n",
       "    <tr>\n",
       "      <th>18</th>\n",
       "      <td>/shuttle/missions/sts-69/sts-69-patch-small.gif</td>\n",
       "      <td>29118</td>\n",
       "    </tr>\n",
       "    <tr>\n",
       "      <th>19</th>\n",
       "      <td>/icons/blank.xbm</td>\n",
       "      <td>28852</td>\n",
       "    </tr>\n",
       "  </tbody>\n",
       "</table>\n",
       "</div>"
      ]
     },
     "metadata": {
      "application/vnd.databricks.v1+output": {
       "addedWidgets": {},
       "arguments": {},
       "data": "<div>\n<style scoped>\n    .dataframe tbody tr th:only-of-type {\n        vertical-align: middle;\n    }\n\n    .dataframe tbody tr th {\n        vertical-align: top;\n    }\n\n    .dataframe thead th {\n        text-align: right;\n    }\n</style>\n<table border=\"1\" class=\"dataframe\">\n  <thead>\n    <tr style=\"text-align: right;\">\n      <th></th>\n      <th>endpoint</th>\n      <th>count</th>\n    </tr>\n  </thead>\n  <tbody>\n    <tr>\n      <th>0</th>\n      <td>/images/NASA-logosmall.gif</td>\n      <td>208714</td>\n    </tr>\n    <tr>\n      <th>1</th>\n      <td>/images/KSC-logosmall.gif</td>\n      <td>164970</td>\n    </tr>\n    <tr>\n      <th>2</th>\n      <td>/images/MOSAIC-logosmall.gif</td>\n      <td>127908</td>\n    </tr>\n    <tr>\n      <th>3</th>\n      <td>/images/USA-logosmall.gif</td>\n      <td>127074</td>\n    </tr>\n    <tr>\n      <th>4</th>\n      <td>/images/WORLD-logosmall.gif</td>\n      <td>125925</td>\n    </tr>\n    <tr>\n      <th>5</th>\n      <td>/images/ksclogo-medium.gif</td>\n      <td>121572</td>\n    </tr>\n    <tr>\n      <th>6</th>\n      <td>/ksc.html</td>\n      <td>83909</td>\n    </tr>\n    <tr>\n      <th>7</th>\n      <td>/images/launch-logo.gif</td>\n      <td>76006</td>\n    </tr>\n    <tr>\n      <th>8</th>\n      <td>/history/apollo/images/apollo-logo1.gif</td>\n      <td>68896</td>\n    </tr>\n    <tr>\n      <th>9</th>\n      <td>/shuttle/countdown/</td>\n      <td>64736</td>\n    </tr>\n    <tr>\n      <th>10</th>\n      <td>/</td>\n      <td>63171</td>\n    </tr>\n    <tr>\n      <th>11</th>\n      <td>/images/ksclogosmall.gif</td>\n      <td>61393</td>\n    </tr>\n    <tr>\n      <th>12</th>\n      <td>/shuttle/missions/missions.html</td>\n      <td>47315</td>\n    </tr>\n    <tr>\n      <th>13</th>\n      <td>/images/launchmedium.gif</td>\n      <td>40687</td>\n    </tr>\n    <tr>\n      <th>14</th>\n      <td>/htbin/cdt_main.pl</td>\n      <td>39871</td>\n    </tr>\n    <tr>\n      <th>15</th>\n      <td>/shuttle/missions/sts-69/mission-sts-69.html</td>\n      <td>31574</td>\n    </tr>\n    <tr>\n      <th>16</th>\n      <td>/shuttle/countdown/liftoff.html</td>\n      <td>29865</td>\n    </tr>\n    <tr>\n      <th>17</th>\n      <td>/icons/menu.xbm</td>\n      <td>29190</td>\n    </tr>\n    <tr>\n      <th>18</th>\n      <td>/shuttle/missions/sts-69/sts-69-patch-small.gif</td>\n      <td>29118</td>\n    </tr>\n    <tr>\n      <th>19</th>\n      <td>/icons/blank.xbm</td>\n      <td>28852</td>\n    </tr>\n  </tbody>\n</table>\n</div>",
       "datasetInfos": [],
       "metadata": {},
       "removedWidgets": [],
       "textData": null,
       "type": "htmlSandbox"
      }
     },
     "output_type": "display_data"
    }
   ],
   "source": [
    "paths_pd_df = paths_df.toPandas()\n",
    "paths_pd_df"
   ]
  },
  {
   "cell_type": "markdown",
   "metadata": {
    "application/vnd.databricks.v1+cell": {
     "cellMetadata": {
      "byteLimit": 2048000,
      "rowLimit": 10000
     },
     "inputWidgets": {},
     "nuid": "c27a02c6-7699-4827-b7f4-3f402f9db24b",
     "showTitle": false,
     "title": ""
    },
    "colab_type": "text",
    "id": "LrK4j5aIXvDb"
   },
   "source": [
    "## Your Turn: Q8: Top Ten Error Endpoints\n",
    "\n",
    "What are the top ten endpoints requested which did not have return code 200 (HTTP Status OK)? \n",
    "\n",
    "Create a sorted list containing the endpoints and the number of times that they were accessed with a non-200 return code and show the top ten.\n",
    "\n",
    "Think about the steps that you need to perform to determine which endpoints did not have a 200 return code (combination of filtering, grouping, sorting and selecting the top ten aggregated records)"
   ]
  },
  {
   "cell_type": "code",
   "execution_count": 0,
   "metadata": {
    "application/vnd.databricks.v1+cell": {
     "cellMetadata": {
      "byteLimit": 2048000,
      "rowLimit": 10000
     },
     "inputWidgets": {},
     "nuid": "164ed621-0a2a-43d5-bded-549d289314b4",
     "showTitle": false,
     "title": ""
    },
    "colab": {},
    "colab_type": "code",
    "id": "s57_3ODMXvDc",
    "outputId": "d25e0c40-eaff-459a-9fd4-40666e226d28"
   },
   "outputs": [],
   "source": [
    "# TODO: Replace <FILL IN> with appropriate code\n",
    "\n",
    "not200_df = logs_df[logs_df['status'] != 200]\n",
    "\n",
    "error_endpoints_freq_df = (not200_df\n",
    "                               .groupby('endpoint')\n",
    "                               .count()\n",
    "                               .sort('count', ascending=False)\n",
    "                               .limit(10)\n",
    "                          )"
   ]
  },
  {
   "cell_type": "code",
   "execution_count": 0,
   "metadata": {
    "application/vnd.databricks.v1+cell": {
     "cellMetadata": {
      "byteLimit": 2048000,
      "rowLimit": 10000
     },
     "inputWidgets": {},
     "nuid": "09be08e2-7258-4a30-9f86-2d85f295c649",
     "showTitle": false,
     "title": ""
    },
    "colab": {},
    "colab_type": "code",
    "id": "GeAUAEMBXvDh",
    "outputId": "a5bc7840-a464-47ae-f014-9e3108c2b306"
   },
   "outputs": [
    {
     "output_type": "stream",
     "name": "stdout",
     "output_type": "stream",
     "text": [
      "+---------------------------------------+-----+\n|endpoint                               |count|\n+---------------------------------------+-----+\n|/images/NASA-logosmall.gif             |40082|\n|/images/KSC-logosmall.gif              |23763|\n|/images/MOSAIC-logosmall.gif           |15245|\n|/images/USA-logosmall.gif              |15142|\n|/images/WORLD-logosmall.gif            |14773|\n|/images/ksclogo-medium.gif             |13559|\n|/images/launch-logo.gif                |8806 |\n|/history/apollo/images/apollo-logo1.gif|7489 |\n|/                                      |6296 |\n|/images/ksclogosmall.gif               |5669 |\n+---------------------------------------+-----+\n\n"
     ]
    }
   ],
   "source": [
    "error_endpoints_freq_df.show(truncate=False)"
   ]
  },
  {
   "cell_type": "markdown",
   "metadata": {
    "application/vnd.databricks.v1+cell": {
     "cellMetadata": {
      "byteLimit": 2048000,
      "rowLimit": 10000
     },
     "inputWidgets": {},
     "nuid": "99dae9d0-c26b-4681-b649-6a021521f841",
     "showTitle": false,
     "title": ""
    },
    "colab_type": "text",
    "id": "ij1wJnMwXvDm"
   },
   "source": [
    "## Example: Number of Unique Daily Hosts\n",
    "\n",
    "For an advanced example, let's look at a way to determine the number of unique hosts in the entire log on a day-by-day basis. This computation will give us counts of the number of unique daily hosts. \n",
    "\n",
    "We'd like a DataFrame sorted by increasing day of the month which includes the day of the month and the associated number of unique hosts for that day. \n",
    "\n",
    "Think about the steps that you need to perform to count the number of different hosts that make requests *each* day.\n",
    "*Since the log only covers a single month, you can ignore the month.*  You may want to use the [`dayofmonth` function](https://spark.apache.org/docs/latest/api/python/pyspark.sql.html#pyspark.sql.functions.dayofmonth) in the `pyspark.sql.functions` module (which we have already imported as __`F`__.\n",
    "\n",
    "\n",
    "**`host_day_df`**\n",
    "\n",
    "A DataFrame with two columns\n",
    "\n",
    "| column | explanation          |\n",
    "| ------ | -------------------- |\n",
    "| `host` | the host name        |\n",
    "| `day`  | the day of the month |\n",
    "\n",
    "There will be one row in this DataFrame for each row in `logs_df`. Essentially, we are just transforming each row of `logs_df`. For example, for this row in `logs_df`:\n",
    "\n",
    "```\n",
    "unicomp6.unicomp.net - - [01/Aug/1995:00:35:41 -0400] \"GET /shuttle/missions/sts-73/news HTTP/1.0\" 302 -\n",
    "```\n",
    "\n",
    "your `host_day_df` should have:\n",
    "\n",
    "```\n",
    "unicomp6.unicomp.net 1\n",
    "```"
   ]
  },
  {
   "cell_type": "code",
   "execution_count": 0,
   "metadata": {
    "application/vnd.databricks.v1+cell": {
     "cellMetadata": {
      "byteLimit": 2048000,
      "rowLimit": 10000
     },
     "inputWidgets": {},
     "nuid": "e2ddda26-7011-4972-bc6a-648d94076f78",
     "showTitle": false,
     "title": ""
    },
    "colab": {},
    "colab_type": "code",
    "id": "c0i7-gm9XvDm",
    "outputId": "ef93f5a2-e15d-4631-cbb7-e390dd0c28f0"
   },
   "outputs": [
    {
     "output_type": "stream",
     "name": "stdout",
     "output_type": "stream",
     "text": [
      "+-----------------+---+\n|host             |day|\n+-----------------+---+\n|in24.inetnebr.com|1  |\n|uplherc.upl.com  |1  |\n|uplherc.upl.com  |1  |\n|uplherc.upl.com  |1  |\n|uplherc.upl.com  |1  |\n+-----------------+---+\nonly showing top 5 rows\n\n"
     ]
    }
   ],
   "source": [
    "host_day_df = logs_df.select(logs_df.host, \n",
    "                             F.dayofmonth('time').alias('day'))\n",
    "host_day_df.show(5, truncate=False)"
   ]
  },
  {
   "cell_type": "markdown",
   "metadata": {
    "application/vnd.databricks.v1+cell": {
     "cellMetadata": {
      "byteLimit": 2048000,
      "rowLimit": 10000
     },
     "inputWidgets": {},
     "nuid": "1af28eb5-a712-4d2a-a7f1-34a6797f7689",
     "showTitle": false,
     "title": ""
    },
    "colab_type": "text",
    "id": "HRu_5V4bXvDs"
   },
   "source": [
    "**`host_day_distinct_df`**\n",
    "\n",
    "This DataFrame has the same columns as `host_day_distinct_df`, but with duplicate (`day`, `host`) rows removed."
   ]
  },
  {
   "cell_type": "code",
   "execution_count": 0,
   "metadata": {
    "application/vnd.databricks.v1+cell": {
     "cellMetadata": {
      "byteLimit": 2048000,
      "rowLimit": 10000
     },
     "inputWidgets": {},
     "nuid": "f03fd528-d4c8-4e8f-861a-2965f68804b6",
     "showTitle": false,
     "title": ""
    },
    "colab": {},
    "colab_type": "code",
    "id": "be9KD86vXvDt",
    "outputId": "013470c7-93ab-4c4a-945a-af4c212c85d7"
   },
   "outputs": [
    {
     "output_type": "stream",
     "name": "stdout",
     "output_type": "stream",
     "text": [
      "+---------------------------+---+\n|host                       |day|\n+---------------------------+---+\n|in24.inetnebr.com          |1  |\n|slppp6.intermind.net       |1  |\n|piweba4y.prodigy.com       |1  |\n|uplherc.upl.com            |1  |\n|ix-esc-ca2-07.ix.netcom.com|1  |\n+---------------------------+---+\nonly showing top 5 rows\n\n"
     ]
    }
   ],
   "source": [
    "host_day_distinct_df = (host_day_df\n",
    "                          .dropDuplicates())\n",
    "host_day_distinct_df.show(5, truncate=False)"
   ]
  },
  {
   "cell_type": "markdown",
   "metadata": {
    "application/vnd.databricks.v1+cell": {
     "cellMetadata": {
      "byteLimit": 2048000,
      "rowLimit": 10000
     },
     "inputWidgets": {},
     "nuid": "97e10f11-73d4-48d0-9180-21998192b7d5",
     "showTitle": false,
     "title": ""
    },
    "colab_type": "text",
    "id": "OlCEA952XvDv"
   },
   "source": [
    "**`daily_unique_hosts_df`**\n",
    "\n",
    "A DataFrame with two columns:\n",
    "\n",
    "| column  | explanation                                        |\n",
    "| ------- | -------------------------------------------------- |\n",
    "| `day`   | the day of the month                               |\n",
    "| `count` | the number of unique requesting hosts for that day |"
   ]
  },
  {
   "cell_type": "code",
   "execution_count": 0,
   "metadata": {
    "application/vnd.databricks.v1+cell": {
     "cellMetadata": {
      "byteLimit": 2048000,
      "rowLimit": 10000
     },
     "inputWidgets": {},
     "nuid": "511a7067-0c3d-429f-8bfa-4aa38341713a",
     "showTitle": false,
     "title": ""
    },
    "colab": {},
    "colab_type": "code",
    "id": "TrVQJOKPXvDv",
    "outputId": "875f282f-13f6-4f9c-b4ee-a8f867f2955f"
   },
   "outputs": [
    {
     "output_type": "display_data",
     "data": {
      "text/html": [
       "<div>\n",
       "<style scoped>\n",
       "    .dataframe tbody tr th:only-of-type {\n",
       "        vertical-align: middle;\n",
       "    }\n",
       "\n",
       "    .dataframe tbody tr th {\n",
       "        vertical-align: top;\n",
       "    }\n",
       "\n",
       "    .dataframe thead th {\n",
       "        text-align: right;\n",
       "    }\n",
       "</style>\n",
       "<table border=\"1\" class=\"dataframe\">\n",
       "  <thead>\n",
       "    <tr style=\"text-align: right;\">\n",
       "      <th></th>\n",
       "      <th>0</th>\n",
       "      <th>1</th>\n",
       "      <th>2</th>\n",
       "      <th>3</th>\n",
       "      <th>4</th>\n",
       "      <th>5</th>\n",
       "      <th>6</th>\n",
       "      <th>7</th>\n",
       "      <th>8</th>\n",
       "      <th>9</th>\n",
       "      <th>...</th>\n",
       "      <th>21</th>\n",
       "      <th>22</th>\n",
       "      <th>23</th>\n",
       "      <th>24</th>\n",
       "      <th>25</th>\n",
       "      <th>26</th>\n",
       "      <th>27</th>\n",
       "      <th>28</th>\n",
       "      <th>29</th>\n",
       "      <th>30</th>\n",
       "    </tr>\n",
       "  </thead>\n",
       "  <tbody>\n",
       "    <tr>\n",
       "      <th>day</th>\n",
       "      <td>1</td>\n",
       "      <td>2</td>\n",
       "      <td>3</td>\n",
       "      <td>4</td>\n",
       "      <td>5</td>\n",
       "      <td>6</td>\n",
       "      <td>7</td>\n",
       "      <td>8</td>\n",
       "      <td>9</td>\n",
       "      <td>10</td>\n",
       "      <td>...</td>\n",
       "      <td>22</td>\n",
       "      <td>23</td>\n",
       "      <td>24</td>\n",
       "      <td>25</td>\n",
       "      <td>26</td>\n",
       "      <td>27</td>\n",
       "      <td>28</td>\n",
       "      <td>29</td>\n",
       "      <td>30</td>\n",
       "      <td>31</td>\n",
       "    </tr>\n",
       "    <tr>\n",
       "      <th>count</th>\n",
       "      <td>7609</td>\n",
       "      <td>4858</td>\n",
       "      <td>10238</td>\n",
       "      <td>9411</td>\n",
       "      <td>9640</td>\n",
       "      <td>10133</td>\n",
       "      <td>10048</td>\n",
       "      <td>7112</td>\n",
       "      <td>6699</td>\n",
       "      <td>8532</td>\n",
       "      <td>...</td>\n",
       "      <td>6828</td>\n",
       "      <td>6797</td>\n",
       "      <td>7946</td>\n",
       "      <td>8333</td>\n",
       "      <td>6741</td>\n",
       "      <td>6846</td>\n",
       "      <td>6090</td>\n",
       "      <td>4825</td>\n",
       "      <td>5265</td>\n",
       "      <td>5913</td>\n",
       "    </tr>\n",
       "  </tbody>\n",
       "</table>\n",
       "<p>2 rows × 31 columns</p>\n",
       "</div>"
      ]
     },
     "metadata": {
      "application/vnd.databricks.v1+output": {
       "addedWidgets": {},
       "arguments": {},
       "data": "<div>\n<style scoped>\n    .dataframe tbody tr th:only-of-type {\n        vertical-align: middle;\n    }\n\n    .dataframe tbody tr th {\n        vertical-align: top;\n    }\n\n    .dataframe thead th {\n        text-align: right;\n    }\n</style>\n<table border=\"1\" class=\"dataframe\">\n  <thead>\n    <tr style=\"text-align: right;\">\n      <th></th>\n      <th>0</th>\n      <th>1</th>\n      <th>2</th>\n      <th>3</th>\n      <th>4</th>\n      <th>5</th>\n      <th>6</th>\n      <th>7</th>\n      <th>8</th>\n      <th>9</th>\n      <th>...</th>\n      <th>21</th>\n      <th>22</th>\n      <th>23</th>\n      <th>24</th>\n      <th>25</th>\n      <th>26</th>\n      <th>27</th>\n      <th>28</th>\n      <th>29</th>\n      <th>30</th>\n    </tr>\n  </thead>\n  <tbody>\n    <tr>\n      <th>day</th>\n      <td>1</td>\n      <td>2</td>\n      <td>3</td>\n      <td>4</td>\n      <td>5</td>\n      <td>6</td>\n      <td>7</td>\n      <td>8</td>\n      <td>9</td>\n      <td>10</td>\n      <td>...</td>\n      <td>22</td>\n      <td>23</td>\n      <td>24</td>\n      <td>25</td>\n      <td>26</td>\n      <td>27</td>\n      <td>28</td>\n      <td>29</td>\n      <td>30</td>\n      <td>31</td>\n    </tr>\n    <tr>\n      <th>count</th>\n      <td>7609</td>\n      <td>4858</td>\n      <td>10238</td>\n      <td>9411</td>\n      <td>9640</td>\n      <td>10133</td>\n      <td>10048</td>\n      <td>7112</td>\n      <td>6699</td>\n      <td>8532</td>\n      <td>...</td>\n      <td>6828</td>\n      <td>6797</td>\n      <td>7946</td>\n      <td>8333</td>\n      <td>6741</td>\n      <td>6846</td>\n      <td>6090</td>\n      <td>4825</td>\n      <td>5265</td>\n      <td>5913</td>\n    </tr>\n  </tbody>\n</table>\n<p>2 rows × 31 columns</p>\n</div>",
       "datasetInfos": [],
       "metadata": {},
       "removedWidgets": [],
       "textData": null,
       "type": "htmlSandbox"
      }
     },
     "output_type": "display_data"
    }
   ],
   "source": [
    "daily_hosts_df = (host_day_distinct_df\n",
    "                     .groupBy('day')\n",
    "                     .count()\n",
    "                     .sort(\"day\"))\n",
    "daily_hosts_df = daily_hosts_df.toPandas()\n",
    "daily_hosts_df.T"
   ]
  },
  {
   "cell_type": "code",
   "execution_count": 0,
   "metadata": {
    "application/vnd.databricks.v1+cell": {
     "cellMetadata": {
      "byteLimit": 2048000,
      "rowLimit": 10000
     },
     "inputWidgets": {},
     "nuid": "0d38306c-1dc6-4902-bf04-95911e43916d",
     "showTitle": false,
     "title": ""
    },
    "colab": {},
    "colab_type": "code",
    "id": "PUdqNQHiXvDz"
   },
   "outputs": [
    {
     "output_type": "stream",
     "name": "stdout",
     "output_type": "stream",
     "text": [
      "Out[57]: <AxesSubplot:xlabel='day'>"
     ]
    },
    {
     "output_type": "display_data",
     "data": {
      "image/png": "[encoded data removed]"
     },
     "metadata": {
      "application/vnd.databricks.v1+output": {
       "addedWidgets": {},
       "arguments": {},
       "data": "data:image/png;base64,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\n",
       "datasetInfos": [],
       "metadata": {},
       "removedWidgets": [],
       "type": "image"
      }
     },
     "output_type": "display_data"
    }
   ],
   "source": [
    "daily_hosts_df.plot(x='day', y='count', kind='line')"
   ]
  },
  {
   "cell_type": "markdown",
   "metadata": {
    "application/vnd.databricks.v1+cell": {
     "cellMetadata": {
      "byteLimit": 2048000,
      "rowLimit": 10000
     },
     "inputWidgets": {},
     "nuid": "a4d532a4-7290-4cd6-9375-469060a566e8",
     "showTitle": false,
     "title": ""
    },
    "colab_type": "text",
    "id": "O5M-HoWHXvD1"
   },
   "source": [
    "## Your Turn: Q9: Counting 404 Response Codes\n",
    "\n",
    "Create a DataFrame containing only log records with a 404 status code (Not Found). \n",
    "\n",
    "Make sure you `cache()` the `not_found_df` dataframe as we will use it in the rest of the exercises here.\n",
    "\n",
    "__How many 404 records are in the log?__"
   ]
  },
  {
   "cell_type": "code",
   "execution_count": 0,
   "metadata": {
    "application/vnd.databricks.v1+cell": {
     "cellMetadata": {
      "byteLimit": 2048000,
      "rowLimit": 10000
     },
     "inputWidgets": {},
     "nuid": "9a8a2792-4255-470f-83e1-5e7511bd7c10",
     "showTitle": false,
     "title": ""
    },
    "colab": {},
    "colab_type": "code",
    "id": "XovkxrduXvD2",
    "outputId": "662c54ce-9fd3-4d97-dbf5-30a1a77b90f9"
   },
   "outputs": [
    {
     "output_type": "stream",
     "name": "stdout",
     "output_type": "stream",
     "text": [
      "Total 404 responses: 20899\n"
     ]
    }
   ],
   "source": [
    "# TODO: Replace <FILL IN> with appropriate code\n",
    "\n",
    "not_found_df = logs_df.filter(logs_df['status'] == 404).cache()\n",
    "print(('Total 404 responses: {}').format(not_found_df.count()))"
   ]
  },
  {
   "cell_type": "markdown",
   "metadata": {
    "application/vnd.databricks.v1+cell": {
     "cellMetadata": {
      "byteLimit": 2048000,
      "rowLimit": 10000
     },
     "inputWidgets": {},
     "nuid": "6b0081bd-5257-4cf0-814f-23a3c64725d2",
     "showTitle": false,
     "title": ""
    },
    "colab_type": "text",
    "id": "wdwYDLCnXvD5"
   },
   "source": [
    "## Your Turn: Q10: Listing the Top Twenty 404 Response Code Endpoints\n",
    "\n",
    "Using the DataFrame containing only log records with a 404 response code that you cached in Q9, print out a list of the top twenty endpoints that generate the most 404 errors.\n",
    "\n",
    "*Remember, top endpoints should be in sorted order*"
   ]
  },
  {
   "cell_type": "code",
   "execution_count": 0,
   "metadata": {
    "application/vnd.databricks.v1+cell": {
     "cellMetadata": {
      "byteLimit": 2048000,
      "rowLimit": 10000
     },
     "inputWidgets": {},
     "nuid": "cd3516ab-0a87-40e3-bf5d-b3f609767972",
     "showTitle": false,
     "title": ""
    },
    "colab": {},
    "colab_type": "code",
    "id": "Gv3egQAEXvD5",
    "outputId": "6725f87c-1cd4-4387-f61f-9c7cd58f1f93"
   },
   "outputs": [
    {
     "output_type": "stream",
     "name": "stdout",
     "output_type": "stream",
     "text": [
      "+-----------------------------------------------------------------+-----+\n|endpoint                                                         |count|\n+-----------------------------------------------------------------+-----+\n|/pub/winvn/readme.txt                                            |2004 |\n|/pub/winvn/release.txt                                           |1732 |\n|/shuttle/missions/STS-69/mission-STS-69.html                     |683  |\n|/shuttle/missions/sts-68/ksc-upclose.gif                         |428  |\n|/history/apollo/a-001/a-001-patch-small.gif                      |384  |\n|/history/apollo/sa-1/sa-1-patch-small.gif                        |383  |\n|/://spacelink.msfc.nasa.gov                                      |381  |\n|/images/crawlerway-logo.gif                                      |374  |\n|/elv/DELTA/uncons.htm                                            |372  |\n|/history/apollo/pad-abort-test-1/pad-abort-test-1-patch-small.gif|359  |\n|/images/nasa-logo.gif                                            |319  |\n|/shuttle/resources/orbiters/atlantis.gif                         |314  |\n|/history/apollo/apollo-13.html                                   |304  |\n|/shuttle/resources/orbiters/discovery.gif                        |263  |\n|/shuttle/missions/sts-71/images/KSC-95EC-0916.txt                |190  |\n|/shuttle/resources/orbiters/challenger.gif                       |170  |\n|/shuttle/missions/technology/sts-newsref/stsref-toc.html         |158  |\n|/history/apollo/images/little-joe.jpg                            |150  |\n|/images/lf-logo.gif                                              |143  |\n|/history/apollo/publications/sp-350/sp-350.txt~                  |140  |\n+-----------------------------------------------------------------+-----+\n\n"
     ]
    }
   ],
   "source": [
    "# TODO: Replace <FILL IN> with appropriate code\n",
    "\n",
    "hosts_404_count_df = (not_found_df\n",
    "                          .groupby('endpoint')\n",
    "                          .count()\n",
    "                          .sort('count', ascending=False)\n",
    "                          .limit(20)\n",
    "                          )\n",
    "\n",
    "hosts_404_count_df.show(truncate=False)"
   ]
  },
  {
   "cell_type": "markdown",
   "metadata": {
    "application/vnd.databricks.v1+cell": {
     "cellMetadata": {
      "byteLimit": 2048000,
      "rowLimit": 10000
     },
     "inputWidgets": {},
     "nuid": "67168104-376e-4a25-83e4-827bf4163af9",
     "showTitle": false,
     "title": ""
    },
    "colab_type": "text",
    "id": "UpQl8xaPXvD8"
   },
   "source": [
    "## Your Turn: Q11: Visualizing 404 Errors per Day\n",
    "\n",
    "Let's explore the 404 records temporally now. Similar to the example showing the number of unique daily hosts, break down the 404 requests by day and get the daily counts sorted by day in `errors_by_date_sorted_df`.\n",
    "\n",
    "- Display the results as a pandas dataframe \n",
    "- Also visualize the same dataframe then as a line chart"
   ]
  },
  {
   "cell_type": "code",
   "execution_count": 0,
   "metadata": {
    "application/vnd.databricks.v1+cell": {
     "cellMetadata": {
      "byteLimit": 2048000,
      "rowLimit": 10000
     },
     "inputWidgets": {},
     "nuid": "2149c184-3dd9-45e5-a82f-a6e26a7b8c22",
     "showTitle": false,
     "title": ""
    },
    "colab": {},
    "colab_type": "code",
    "id": "69N8tHpzXvD9",
    "outputId": "1746aabb-b068-43c0-bbe6-580c3fce7639"
   },
   "outputs": [
    {
     "output_type": "display_data",
     "data": {
      "text/html": [
       "<div>\n",
       "<style scoped>\n",
       "    .dataframe tbody tr th:only-of-type {\n",
       "        vertical-align: middle;\n",
       "    }\n",
       "\n",
       "    .dataframe tbody tr th {\n",
       "        vertical-align: top;\n",
       "    }\n",
       "\n",
       "    .dataframe thead th {\n",
       "        text-align: right;\n",
       "    }\n",
       "</style>\n",
       "<table border=\"1\" class=\"dataframe\">\n",
       "  <thead>\n",
       "    <tr style=\"text-align: right;\">\n",
       "      <th></th>\n",
       "      <th>0</th>\n",
       "      <th>1</th>\n",
       "      <th>2</th>\n",
       "      <th>3</th>\n",
       "      <th>4</th>\n",
       "      <th>5</th>\n",
       "      <th>6</th>\n",
       "      <th>7</th>\n",
       "      <th>8</th>\n",
       "      <th>9</th>\n",
       "      <th>...</th>\n",
       "      <th>21</th>\n",
       "      <th>22</th>\n",
       "      <th>23</th>\n",
       "      <th>24</th>\n",
       "      <th>25</th>\n",
       "      <th>26</th>\n",
       "      <th>27</th>\n",
       "      <th>28</th>\n",
       "      <th>29</th>\n",
       "      <th>30</th>\n",
       "    </tr>\n",
       "  </thead>\n",
       "  <tbody>\n",
       "    <tr>\n",
       "      <th>dayofmonth</th>\n",
       "      <td>1</td>\n",
       "      <td>2</td>\n",
       "      <td>3</td>\n",
       "      <td>4</td>\n",
       "      <td>5</td>\n",
       "      <td>6</td>\n",
       "      <td>7</td>\n",
       "      <td>8</td>\n",
       "      <td>9</td>\n",
       "      <td>10</td>\n",
       "      <td>...</td>\n",
       "      <td>22</td>\n",
       "      <td>23</td>\n",
       "      <td>24</td>\n",
       "      <td>25</td>\n",
       "      <td>26</td>\n",
       "      <td>27</td>\n",
       "      <td>28</td>\n",
       "      <td>29</td>\n",
       "      <td>30</td>\n",
       "      <td>31</td>\n",
       "    </tr>\n",
       "    <tr>\n",
       "      <th>count</th>\n",
       "      <td>559</td>\n",
       "      <td>291</td>\n",
       "      <td>778</td>\n",
       "      <td>705</td>\n",
       "      <td>733</td>\n",
       "      <td>1013</td>\n",
       "      <td>1107</td>\n",
       "      <td>691</td>\n",
       "      <td>627</td>\n",
       "      <td>713</td>\n",
       "      <td>...</td>\n",
       "      <td>480</td>\n",
       "      <td>578</td>\n",
       "      <td>748</td>\n",
       "      <td>876</td>\n",
       "      <td>702</td>\n",
       "      <td>706</td>\n",
       "      <td>504</td>\n",
       "      <td>420</td>\n",
       "      <td>571</td>\n",
       "      <td>526</td>\n",
       "    </tr>\n",
       "  </tbody>\n",
       "</table>\n",
       "<p>2 rows × 31 columns</p>\n",
       "</div>"
      ]
     },
     "metadata": {
      "application/vnd.databricks.v1+output": {
       "addedWidgets": {},
       "arguments": {},
       "data": "<div>\n<style scoped>\n    .dataframe tbody tr th:only-of-type {\n        vertical-align: middle;\n    }\n\n    .dataframe tbody tr th {\n        vertical-align: top;\n    }\n\n    .dataframe thead th {\n        text-align: right;\n    }\n</style>\n<table border=\"1\" class=\"dataframe\">\n  <thead>\n    <tr style=\"text-align: right;\">\n      <th></th>\n      <th>0</th>\n      <th>1</th>\n      <th>2</th>\n      <th>3</th>\n      <th>4</th>\n      <th>5</th>\n      <th>6</th>\n      <th>7</th>\n      <th>8</th>\n      <th>9</th>\n      <th>...</th>\n      <th>21</th>\n      <th>22</th>\n      <th>23</th>\n      <th>24</th>\n      <th>25</th>\n      <th>26</th>\n      <th>27</th>\n      <th>28</th>\n      <th>29</th>\n      <th>30</th>\n    </tr>\n  </thead>\n  <tbody>\n    <tr>\n      <th>dayofmonth</th>\n      <td>1</td>\n      <td>2</td>\n      <td>3</td>\n      <td>4</td>\n      <td>5</td>\n      <td>6</td>\n      <td>7</td>\n      <td>8</td>\n      <td>9</td>\n      <td>10</td>\n      <td>...</td>\n      <td>22</td>\n      <td>23</td>\n      <td>24</td>\n      <td>25</td>\n      <td>26</td>\n      <td>27</td>\n      <td>28</td>\n      <td>29</td>\n      <td>30</td>\n      <td>31</td>\n    </tr>\n    <tr>\n      <th>count</th>\n      <td>559</td>\n      <td>291</td>\n      <td>778</td>\n      <td>705</td>\n      <td>733</td>\n      <td>1013</td>\n      <td>1107</td>\n      <td>691</td>\n      <td>627</td>\n      <td>713</td>\n      <td>...</td>\n      <td>480</td>\n      <td>578</td>\n      <td>748</td>\n      <td>876</td>\n      <td>702</td>\n      <td>706</td>\n      <td>504</td>\n      <td>420</td>\n      <td>571</td>\n      <td>526</td>\n    </tr>\n  </tbody>\n</table>\n<p>2 rows × 31 columns</p>\n</div>",
       "datasetInfos": [],
       "metadata": {},
       "removedWidgets": [],
       "textData": null,
       "type": "htmlSandbox"
      }
     },
     "output_type": "display_data"
    }
   ],
   "source": [
    "# TODO: Replace <FILL IN> with appropriate code\n",
    "\n",
    "errors_by_date_sorted_df = (not_found_df\n",
    "                                .withColumn('dayofmonth', F.dayofmonth(not_found_df['time']))\n",
    "                                .groupby('dayofmonth')\n",
    "                                .count()\n",
    "                                .sort('dayofmonth')\n",
    "                                )\n",
    "\n",
    "errors_by_date_sorted_df = errors_by_date_sorted_df.toPandas()\n",
    "errors_by_date_sorted_df.T"
   ]
  },
  {
   "cell_type": "code",
   "execution_count": 0,
   "metadata": {
    "application/vnd.databricks.v1+cell": {
     "cellMetadata": {
      "byteLimit": 2048000,
      "rowLimit": 10000
     },
     "inputWidgets": {},
     "nuid": "62577ebb-0d7d-408f-8624-1d399d348b1b",
     "showTitle": false,
     "title": ""
    },
    "colab": {},
    "colab_type": "code",
    "id": "y-pFX8dJXvD_"
   },
   "outputs": [
    {
     "output_type": "stream",
     "name": "stdout",
     "output_type": "stream",
     "text": [
      "Out[77]: <AxesSubplot:xlabel='dayofmonth'>"
     ]
    },
    {
     "output_type": "display_data",
     "data": {
      "image/png": "[encoded data removed]"
     },
     "metadata": {
      "application/vnd.databricks.v1+output": {
       "addedWidgets": {},
       "arguments": {},
       "data": "data:image/png;base64,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\n",
       "datasetInfos": [],
       "metadata": {},
       "removedWidgets": [],
       "type": "image"
      }
     },
     "output_type": "display_data"
    }
   ],
   "source": [
    "errors_by_date_sorted_df.plot(kind='line', x='dayofmonth', y='count')"
   ]
  },
  {
   "cell_type": "markdown",
   "metadata": {
    "application/vnd.databricks.v1+cell": {
     "cellMetadata": {
      "byteLimit": 2048000,
      "rowLimit": 10000
     },
     "inputWidgets": {},
     "nuid": "35a852f4-72ea-4557-8c89-9012c8468530",
     "showTitle": false,
     "title": ""
    },
    "colab_type": "text",
    "id": "lRY2RYHeXvED"
   },
   "source": [
    "## Your Turn: Q12: Visualizing Hourly 404 Errors\n",
    "\n",
    "Using the DataFrame `not_found_df` you cached in the Q10, group and sort by hour of the day in increasing order, to create a DataFrame containing the total number of 404 responses for HTTP requests for each hour of the day (midnight starts at 0). \n",
    "\n",
    "- Remember to check out the [__hour__](https://spark.apache.org/docs/latest/api/python/pyspark.sql.html#pyspark.sql.functions.hour) function and use it (we have already imported __`pyspark.sql.functions`__ as __`F`__ earlier\n",
    "- Output should be a bar graph displaying the total number of 404 errors per hour"
   ]
  },
  {
   "cell_type": "code",
   "execution_count": 0,
   "metadata": {
    "application/vnd.databricks.v1+cell": {
     "cellMetadata": {
      "byteLimit": 2048000,
      "rowLimit": 10000
     },
     "inputWidgets": {},
     "nuid": "32ca0c26-c4a4-4f5f-a2c3-5551ca8c7a6a",
     "showTitle": false,
     "title": ""
    },
    "colab": {},
    "colab_type": "code",
    "id": "T7Y0Dbz3XvEF",
    "outputId": "873d829e-6b6d-4dc1-b894-0796ef91aec1"
   },
   "outputs": [],
   "source": [
    "# TODO: Replace <FILL IN> with appropriate code\n",
    "\n",
    "hourly_avg_errors_sorted_df = (not_found_df\n",
    "                                   .withColumn('hour', F.hour(not_found_df['time']))\n",
    "                                   .groupby('hour')\n",
    "                                   .count()\n",
    "                                   .sort('hour')\n",
    "                                )"
   ]
  },
  {
   "cell_type": "code",
   "execution_count": 0,
   "metadata": {
    "application/vnd.databricks.v1+cell": {
     "cellMetadata": {
      "byteLimit": 2048000,
      "rowLimit": 10000
     },
     "inputWidgets": {},
     "nuid": "1a383c22-ede8-4d1c-921f-9f8547587f00",
     "showTitle": false,
     "title": ""
    },
    "colab": {},
    "colab_type": "code",
    "id": "R1vsAPs1XvEJ"
   },
   "outputs": [
    {
     "output_type": "stream",
     "name": "stdout",
     "output_type": "stream",
     "text": [
      "Out[82]: <AxesSubplot:xlabel='hour'>"
     ]
    },
    {
     "output_type": "display_data",
     "data": {
      "image/png": "[encoded data removed]"
     },
     "metadata": {
      "application/vnd.databricks.v1+output": {
       "addedWidgets": {},
       "arguments": {},
       "data": "data:image/png;base64,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\n",
       "datasetInfos": [],
       "metadata": {},
       "removedWidgets": [],
       "type": "image"
      }
     },
     "output_type": "display_data"
    }
   ],
   "source": [
    "hourly_avg_errors_sorted_df.toPandas().plot(kind='bar', x='hour', y='count')"
   ]
  },
  {
   "cell_type": "markdown",
   "metadata": {
    "application/vnd.databricks.v1+cell": {
     "cellMetadata": {
      "byteLimit": 2048000,
      "rowLimit": 10000
     },
     "inputWidgets": {},
     "nuid": "d144bad6-71a8-4fc5-8559-f9ab2c5c7984",
     "showTitle": false,
     "title": ""
    },
    "colab_type": "text",
    "id": "GYWAsa8mY425"
   },
   "source": [
    "# Load Data"
   ]
  },
  {
   "cell_type": "markdown",
   "metadata": {
    "application/vnd.databricks.v1+cell": {
     "cellMetadata": {
      "byteLimit": 2048000,
      "rowLimit": 10000
     },
     "inputWidgets": {},
     "nuid": "f3a974c6-744d-4cb3-9aef-094cdfc7311d",
     "showTitle": false,
     "title": ""
    },
    "colab_type": "text",
    "id": "woEUWlYCY9h0"
   },
   "source": [
    "Up till now, you have completed data extraction, data transformation, and some exploratory data analysis. In the end of this project, we will complete the last step of ETL process: data loading, so the data after  your processing, wrangling, cleaning, can be used by either yourself or other colleagues later. Since we have gone through a few iteration of data processing and data wrangling, it is a good idea to make sure which one is the current dataframe you want to store and load."
   ]
  },
  {
   "cell_type": "markdown",
   "metadata": {
    "application/vnd.databricks.v1+cell": {
     "cellMetadata": {
      "byteLimit": 2048000,
      "rowLimit": 10000
     },
     "inputWidgets": {},
     "nuid": "ceb4c670-f64d-4a1f-a122-8605b25bb70c",
     "showTitle": false,
     "title": ""
    },
    "colab_type": "text",
    "id": "gde50KFwZCyR"
   },
   "source": [
    "## Your Turn: Q13: Check data integrity before loading"
   ]
  },
  {
   "cell_type": "code",
   "execution_count": 0,
   "metadata": {
    "application/vnd.databricks.v1+cell": {
     "cellMetadata": {
      "byteLimit": 2048000,
      "rowLimit": 10000
     },
     "inputWidgets": {},
     "nuid": "fa66421a-33cc-4cf6-9316-40ba88739797",
     "showTitle": false,
     "title": ""
    },
    "colab": {},
    "colab_type": "code",
    "id": "Jp9HtJDZZDgm",
    "outputId": "d94fda2f-0e91-401a-eb33-dfa58e5b8f0d"
   },
   "outputs": [
    {
     "output_type": "stream",
     "name": "stdout",
     "output_type": "stream",
     "text": [
      "3461612\n['host', 'method', 'endpoint', 'protocol', 'status', 'content_size', 'time']\n"
     ]
    }
   ],
   "source": [
    "# TODO: Review the data frame you will like to store and load. Replace <FILL IN> with appropriate code\n",
    "\n",
    "print(logs_df.count())\n",
    "print(logs_df.columns)"
   ]
  },
  {
   "cell_type": "markdown",
   "metadata": {
    "application/vnd.databricks.v1+cell": {
     "cellMetadata": {
      "byteLimit": 2048000,
      "rowLimit": 10000
     },
     "inputWidgets": {},
     "nuid": "482dec62-20f0-4db7-a75d-02e7204dc822",
     "showTitle": false,
     "title": ""
    },
    "colab_type": "text",
    "id": "6KT_ajIJZFsi"
   },
   "source": [
    "To save your dataframe in CSV file format, you call simply replace the name of the dataframe and assign file name in the following:"
   ]
  },
  {
   "cell_type": "markdown",
   "metadata": {
    "application/vnd.databricks.v1+cell": {
     "cellMetadata": {
      "byteLimit": 2048000,
      "rowLimit": 10000
     },
     "inputWidgets": {},
     "nuid": "d07fbddd-b5a5-4abc-b938-cbc7ab44e365",
     "showTitle": false,
     "title": ""
    },
    "colab_type": "text",
    "id": "GuiBAZEqZJT1"
   },
   "source": [
    "## Your Turn: Q14: Save your data as a CSV file"
   ]
  },
  {
   "cell_type": "code",
   "execution_count": 0,
   "metadata": {
    "application/vnd.databricks.v1+cell": {
     "cellMetadata": {
      "byteLimit": 2048000,
      "rowLimit": 10000
     },
     "inputWidgets": {},
     "nuid": "d95853f0-4215-48cd-be24-4cf5820f996c",
     "showTitle": false,
     "title": ""
    },
    "colab": {},
    "colab_type": "code",
    "id": "DHLpKGA7ZP8P"
   },
   "outputs": [],
   "source": [
    "# TODO: Review the data frame you will like to store and load. Replace <FILL IN> with appropriate code\n",
    "\n",
    "logs_df.write.save('logs_df.csv', format = 'csv')"
   ]
  },
  {
   "cell_type": "code",
   "execution_count": 0,
   "metadata": {
    "application/vnd.databricks.v1+cell": {
     "cellMetadata": {
      "byteLimit": 2048000,
      "rowLimit": 10000
     },
     "inputWidgets": {},
     "nuid": "68e01795-e6cb-4217-bc6f-37cbf1f26bae",
     "showTitle": false,
     "title": ""
    },
    "colab": {},
    "colab_type": "code",
    "id": "EJN6Xy76ZTkW"
   },
   "outputs": [
    {
     "output_type": "stream",
     "name": "stdout",
     "output_type": "stream",
     "text": [
      "Out[90]: ['in24.inetnebr.com,GET,/shuttle/missions/sts-68/news/sts-68-mcc-05.txt,HTTP/1.0,200,1839,1995-08-01T00:00:01.000Z',\n 'uplherc.upl.com,GET,/,HTTP/1.0,304,0,1995-08-01T00:00:07.000Z',\n 'uplherc.upl.com,GET,/images/ksclogo-medium.gif,HTTP/1.0,304,0,1995-08-01T00:00:08.000Z',\n 'uplherc.upl.com,GET,/images/MOSAIC-logosmall.gif,HTTP/1.0,304,0,1995-08-01T00:00:08.000Z',\n 'uplherc.upl.com,GET,/images/USA-logosmall.gif,HTTP/1.0,304,0,1995-08-01T00:00:08.000Z']"
     ]
    }
   ],
   "source": [
    "# TODO: Check to see if you have stored and loaded the CSV file successfully by checking the first 5 rows. Replace <FILL IN> with appropriate code\n",
    "\n",
    "spark\\\n",
    "\t.sparkContext\\\n",
    "\t.textFile('logs_df.csv')\\\n",
    "\t.take(5)"
   ]
  },
  {
   "cell_type": "markdown",
   "metadata": {
    "application/vnd.databricks.v1+cell": {
     "cellMetadata": {
      "byteLimit": 2048000,
      "rowLimit": 10000
     },
     "inputWidgets": {},
     "nuid": "fe0224e4-1e91-4ed4-860f-c836310fc824",
     "showTitle": false,
     "title": ""
    },
    "colab_type": "text",
    "id": "nkz9rKU3ZV7S"
   },
   "source": [
    "Similarly, you can also store and load your dataframe as a JSON file by completing the following:"
   ]
  },
  {
   "cell_type": "markdown",
   "metadata": {
    "application/vnd.databricks.v1+cell": {
     "cellMetadata": {
      "byteLimit": 2048000,
      "rowLimit": 10000
     },
     "inputWidgets": {},
     "nuid": "3661e261-bbcf-4e24-b595-73b8cbe80874",
     "showTitle": false,
     "title": ""
    },
    "colab_type": "text",
    "id": "l6N5oSjgZaiX"
   },
   "source": [
    "## Your Turn: Q15: Save your data as a JSON file"
   ]
  },
  {
   "cell_type": "code",
   "execution_count": 0,
   "metadata": {
    "application/vnd.databricks.v1+cell": {
     "cellMetadata": {
      "byteLimit": 2048000,
      "rowLimit": 10000
     },
     "inputWidgets": {},
     "nuid": "f0cf5e93-3194-4f9e-bd78-b0fcb1ab7355",
     "showTitle": false,
     "title": ""
    },
    "colab": {},
    "colab_type": "code",
    "id": "nPp5cHZeZZCQ"
   },
   "outputs": [],
   "source": [
    "# TODO: Review the data frame you will like to store and load. Replace <FILL IN> with appropriate code\n",
    "\n",
    "logs_df.write.save('logs_df.json', format = 'json')"
   ]
  },
  {
   "cell_type": "code",
   "execution_count": 0,
   "metadata": {
    "application/vnd.databricks.v1+cell": {
     "cellMetadata": {
      "byteLimit": 2048000,
      "rowLimit": 10000
     },
     "inputWidgets": {},
     "nuid": "b81825da-232e-432e-a437-2d3eb7069eb5",
     "showTitle": false,
     "title": ""
    },
    "colab": {},
    "colab_type": "code",
    "id": "56w3oyaOZgiE"
   },
   "outputs": [
    {
     "output_type": "stream",
     "name": "stdout",
     "output_type": "stream",
     "text": [
      "Out[93]: ['{\"host\":\"in24.inetnebr.com\",\"method\":\"GET\",\"endpoint\":\"/shuttle/missions/sts-68/news/sts-68-mcc-05.txt\",\"protocol\":\"HTTP/1.0\",\"status\":200,\"content_size\":1839,\"time\":\"1995-08-01T00:00:01.000Z\"}',\n '{\"host\":\"uplherc.upl.com\",\"method\":\"GET\",\"endpoint\":\"/\",\"protocol\":\"HTTP/1.0\",\"status\":304,\"content_size\":0,\"time\":\"1995-08-01T00:00:07.000Z\"}',\n '{\"host\":\"uplherc.upl.com\",\"method\":\"GET\",\"endpoint\":\"/images/ksclogo-medium.gif\",\"protocol\":\"HTTP/1.0\",\"status\":304,\"content_size\":0,\"time\":\"1995-08-01T00:00:08.000Z\"}',\n '{\"host\":\"uplherc.upl.com\",\"method\":\"GET\",\"endpoint\":\"/images/MOSAIC-logosmall.gif\",\"protocol\":\"HTTP/1.0\",\"status\":304,\"content_size\":0,\"time\":\"1995-08-01T00:00:08.000Z\"}',\n '{\"host\":\"uplherc.upl.com\",\"method\":\"GET\",\"endpoint\":\"/images/USA-logosmall.gif\",\"protocol\":\"HTTP/1.0\",\"status\":304,\"content_size\":0,\"time\":\"1995-08-01T00:00:08.000Z\"}']"
     ]
    }
   ],
   "source": [
    "# TODO: Similarly, check the first 5 rows in the JSON file. Replace <FILL IN> with appropriate code\n",
    "\n",
    "spark\\\n",
    "\t.sparkContext\\\n",
    "\t.textFile('logs_df.json')\\\n",
    "\t.take(5)"
   ]
  },
  {
   "cell_type": "markdown",
   "metadata": {
    "application/vnd.databricks.v1+cell": {
     "cellMetadata": {
      "byteLimit": 2048000,
      "rowLimit": 10000
     },
     "inputWidgets": {},
     "nuid": "b1f08c26-eadc-4cd9-b0e7-b9b14564e411",
     "showTitle": false,
     "title": ""
    },
    "colab_type": "text",
    "id": "P9zYYUIcZjUU"
   },
   "source": [
    "There is a lot more you can do about data storing and loading in terms of data formats and settings. Check out more about these options [__here__](https://spark.apache.org/docs/latest/sql-data-sources-load-save-functions.html)."
   ]
  },
  {
   "cell_type": "markdown",
   "metadata": {
    "application/vnd.databricks.v1+cell": {
     "cellMetadata": {
      "byteLimit": 2048000,
      "rowLimit": 10000
     },
     "inputWidgets": {},
     "nuid": "89a37695-d5aa-46d5-af8b-b2ef1f9851fd",
     "showTitle": false,
     "title": ""
    },
    "colab_type": "text",
    "id": "lLXpioWzZlug"
   },
   "source": [
    "### Congratulations! You have finished the mini-project for this unit!"
   ]
  }
 ],
 "metadata": {
  "application/vnd.databricks.v1+notebook": {
   "dashboards": [],
   "language": "python",
   "notebookMetadata": {
    "pythonIndentUnit": 4
   },
   "notebookName": "Mini_Project_Data_Wrangling_at_Scale_with_Spark",
   "widgets": {}
  },
  "colab": {
   "name": "Mini_Project_Data_Wrangling_at_Scale_with_Spark_checkpoint.ipynb",
   "provenance": []
  },
  "kernelspec": {
   "display_name": "Python 3",
   "language": "python",
   "name": "python3"
  },
  "language_info": {
   "codemirror_mode": {
    "name": "ipython",
    "version": 3
   },
   "file_extension": ".py",
   "mimetype": "text/x-python",
   "name": "python",
   "nbconvert_exporter": "python",
   "pygments_lexer": "ipython3",
   "version": "3.7.6"
  },
  "name": "Mini_Project_Data_Wrangling_at_Scale_with_Spark_Solutions_checkpoint",
  "notebookId": 3935650049725854
 },
 "nbformat": 4,
 "nbformat_minor": 0
}
